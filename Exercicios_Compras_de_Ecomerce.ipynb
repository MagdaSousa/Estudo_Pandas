{
  "nbformat": 4,
  "nbformat_minor": 0,
  "metadata": {
    "kernelspec": {
      "display_name": "Python 3",
      "language": "python",
      "name": "python3"
    },
    "language_info": {
      "codemirror_mode": {
        "name": "ipython",
        "version": 3
      },
      "file_extension": ".py",
      "mimetype": "text/x-python",
      "name": "python",
      "nbconvert_exporter": "python",
      "pygments_lexer": "ipython3",
      "version": "3.6.1"
    },
    "colab": {
      "name": "Exercicios - Compras de Ecomerce.ipynb",
      "provenance": [],
      "include_colab_link": true
    }
  },
  "cells": [
    {
      "cell_type": "markdown",
      "metadata": {
        "id": "view-in-github",
        "colab_type": "text"
      },
      "source": [
        "<a href=\"https://colab.research.google.com/github/MagdaSousa/Estudo_Pandas/blob/master/Exercicios_Compras_de_Ecomerce.ipynb\" target=\"_parent\"><img src=\"https://colab.research.google.com/assets/colab-badge.svg\" alt=\"Open In Colab\"/></a>"
      ]
    },
    {
      "cell_type": "markdown",
      "metadata": {
        "id": "PtbCPokrPApI"
      },
      "source": [
        "\n",
        "# Exercício - Compras de Ecommerce  \n",
        "\n",
        "Neste exercício, você receberá alguns dados falsos sobre algumas compras feitas pela Amazon! Basta seguir as instruções e tente dar melhor para responder as perguntas e completar as tarefas. Sinta-se a vontade para dar uma olhada nas soluções. "
      ]
    },
    {
      "cell_type": "code",
      "metadata": {
        "collapsed": true,
        "id": "DI03i-nIPApL"
      },
      "source": [
        "import pandas as pd"
      ],
      "execution_count": 2,
      "outputs": []
    },
    {
      "cell_type": "code",
      "metadata": {
        "collapsed": true,
        "id": "yoxA7lFTPApM"
      },
      "source": [
        "ecommerce= pd.read_csv(\"Ecommerce Purchases\")"
      ],
      "execution_count": 4,
      "outputs": []
    },
    {
      "cell_type": "markdown",
      "metadata": {
        "id": "9P4RTcJdPApN"
      },
      "source": [
        "**Verifique o \"head\" do DataFrame.**"
      ]
    },
    {
      "cell_type": "code",
      "metadata": {
        "id": "DNkcVTx2PApN",
        "colab": {
          "base_uri": "https://localhost:8080/",
          "height": 370
        },
        "outputId": "0db730ff-3e9f-46e2-c50a-9fef75de6028"
      },
      "source": [
        "ecommerce.head()"
      ],
      "execution_count": 5,
      "outputs": [
        {
          "output_type": "execute_result",
          "data": {
            "text/html": [
              "<div>\n",
              "<style scoped>\n",
              "    .dataframe tbody tr th:only-of-type {\n",
              "        vertical-align: middle;\n",
              "    }\n",
              "\n",
              "    .dataframe tbody tr th {\n",
              "        vertical-align: top;\n",
              "    }\n",
              "\n",
              "    .dataframe thead th {\n",
              "        text-align: right;\n",
              "    }\n",
              "</style>\n",
              "<table border=\"1\" class=\"dataframe\">\n",
              "  <thead>\n",
              "    <tr style=\"text-align: right;\">\n",
              "      <th></th>\n",
              "      <th>Address</th>\n",
              "      <th>Lot</th>\n",
              "      <th>AM or PM</th>\n",
              "      <th>Browser Info</th>\n",
              "      <th>Company</th>\n",
              "      <th>Credit Card</th>\n",
              "      <th>CC Exp Date</th>\n",
              "      <th>CC Security Code</th>\n",
              "      <th>CC Provider</th>\n",
              "      <th>Email</th>\n",
              "      <th>Job</th>\n",
              "      <th>IP Address</th>\n",
              "      <th>Language</th>\n",
              "      <th>Purchase Price</th>\n",
              "    </tr>\n",
              "  </thead>\n",
              "  <tbody>\n",
              "    <tr>\n",
              "      <th>0</th>\n",
              "      <td>16629 Pace Camp Apt. 448\\nAlexisborough, NE 77...</td>\n",
              "      <td>46 in</td>\n",
              "      <td>PM</td>\n",
              "      <td>Opera/9.56.(X11; Linux x86_64; sl-SI) Presto/2...</td>\n",
              "      <td>Martinez-Herman</td>\n",
              "      <td>6011929061123406</td>\n",
              "      <td>02/20</td>\n",
              "      <td>900</td>\n",
              "      <td>JCB 16 digit</td>\n",
              "      <td>pdunlap@yahoo.com</td>\n",
              "      <td>Scientist, product/process development</td>\n",
              "      <td>149.146.147.205</td>\n",
              "      <td>el</td>\n",
              "      <td>98.14</td>\n",
              "    </tr>\n",
              "    <tr>\n",
              "      <th>1</th>\n",
              "      <td>9374 Jasmine Spurs Suite 508\\nSouth John, TN 8...</td>\n",
              "      <td>28 rn</td>\n",
              "      <td>PM</td>\n",
              "      <td>Opera/8.93.(Windows 98; Win 9x 4.90; en-US) Pr...</td>\n",
              "      <td>Fletcher, Richards and Whitaker</td>\n",
              "      <td>3337758169645356</td>\n",
              "      <td>11/18</td>\n",
              "      <td>561</td>\n",
              "      <td>Mastercard</td>\n",
              "      <td>anthony41@reed.com</td>\n",
              "      <td>Drilling engineer</td>\n",
              "      <td>15.160.41.51</td>\n",
              "      <td>fr</td>\n",
              "      <td>70.73</td>\n",
              "    </tr>\n",
              "    <tr>\n",
              "      <th>2</th>\n",
              "      <td>Unit 0065 Box 5052\\nDPO AP 27450</td>\n",
              "      <td>94 vE</td>\n",
              "      <td>PM</td>\n",
              "      <td>Mozilla/5.0 (compatible; MSIE 9.0; Windows NT ...</td>\n",
              "      <td>Simpson, Williams and Pham</td>\n",
              "      <td>675957666125</td>\n",
              "      <td>08/19</td>\n",
              "      <td>699</td>\n",
              "      <td>JCB 16 digit</td>\n",
              "      <td>amymiller@morales-harrison.com</td>\n",
              "      <td>Customer service manager</td>\n",
              "      <td>132.207.160.22</td>\n",
              "      <td>de</td>\n",
              "      <td>0.95</td>\n",
              "    </tr>\n",
              "    <tr>\n",
              "      <th>3</th>\n",
              "      <td>7780 Julia Fords\\nNew Stacy, WA 45798</td>\n",
              "      <td>36 vm</td>\n",
              "      <td>PM</td>\n",
              "      <td>Mozilla/5.0 (Macintosh; Intel Mac OS X 10_8_0 ...</td>\n",
              "      <td>Williams, Marshall and Buchanan</td>\n",
              "      <td>6011578504430710</td>\n",
              "      <td>02/24</td>\n",
              "      <td>384</td>\n",
              "      <td>Discover</td>\n",
              "      <td>brent16@olson-robinson.info</td>\n",
              "      <td>Drilling engineer</td>\n",
              "      <td>30.250.74.19</td>\n",
              "      <td>es</td>\n",
              "      <td>78.04</td>\n",
              "    </tr>\n",
              "    <tr>\n",
              "      <th>4</th>\n",
              "      <td>23012 Munoz Drive Suite 337\\nNew Cynthia, TX 5...</td>\n",
              "      <td>20 IE</td>\n",
              "      <td>AM</td>\n",
              "      <td>Opera/9.58.(X11; Linux x86_64; it-IT) Presto/2...</td>\n",
              "      <td>Brown, Watson and Andrews</td>\n",
              "      <td>6011456623207998</td>\n",
              "      <td>10/25</td>\n",
              "      <td>678</td>\n",
              "      <td>Diners Club / Carte Blanche</td>\n",
              "      <td>christopherwright@gmail.com</td>\n",
              "      <td>Fine artist</td>\n",
              "      <td>24.140.33.94</td>\n",
              "      <td>es</td>\n",
              "      <td>77.82</td>\n",
              "    </tr>\n",
              "  </tbody>\n",
              "</table>\n",
              "</div>"
            ],
            "text/plain": [
              "                                             Address  ... Purchase Price\n",
              "0  16629 Pace Camp Apt. 448\\nAlexisborough, NE 77...  ...          98.14\n",
              "1  9374 Jasmine Spurs Suite 508\\nSouth John, TN 8...  ...          70.73\n",
              "2                   Unit 0065 Box 5052\\nDPO AP 27450  ...           0.95\n",
              "3              7780 Julia Fords\\nNew Stacy, WA 45798  ...          78.04\n",
              "4  23012 Munoz Drive Suite 337\\nNew Cynthia, TX 5...  ...          77.82\n",
              "\n",
              "[5 rows x 14 columns]"
            ]
          },
          "metadata": {
            "tags": []
          },
          "execution_count": 5
        }
      ]
    },
    {
      "cell_type": "markdown",
      "metadata": {
        "id": "oS7al4O9PApO"
      },
      "source": [
        "** Quantas linhas e colunas existem? **"
      ]
    },
    {
      "cell_type": "code",
      "metadata": {
        "id": "bBQ57O2uPApP",
        "colab": {
          "base_uri": "https://localhost:8080/"
        },
        "outputId": "ee8ac7fa-ac43-41e2-e505-29fad421b162"
      },
      "source": [
        "ecommerce.info()"
      ],
      "execution_count": 6,
      "outputs": [
        {
          "output_type": "stream",
          "text": [
            "<class 'pandas.core.frame.DataFrame'>\n",
            "RangeIndex: 10000 entries, 0 to 9999\n",
            "Data columns (total 14 columns):\n",
            " #   Column            Non-Null Count  Dtype  \n",
            "---  ------            --------------  -----  \n",
            " 0   Address           10000 non-null  object \n",
            " 1   Lot               10000 non-null  object \n",
            " 2   AM or PM          10000 non-null  object \n",
            " 3   Browser Info      10000 non-null  object \n",
            " 4   Company           10000 non-null  object \n",
            " 5   Credit Card       10000 non-null  int64  \n",
            " 6   CC Exp Date       10000 non-null  object \n",
            " 7   CC Security Code  10000 non-null  int64  \n",
            " 8   CC Provider       10000 non-null  object \n",
            " 9   Email             10000 non-null  object \n",
            " 10  Job               10000 non-null  object \n",
            " 11  IP Address        10000 non-null  object \n",
            " 12  Language          10000 non-null  object \n",
            " 13  Purchase Price    10000 non-null  float64\n",
            "dtypes: float64(1), int64(2), object(11)\n",
            "memory usage: 1.1+ MB\n"
          ],
          "name": "stdout"
        }
      ]
    },
    {
      "cell_type": "code",
      "metadata": {
        "colab": {
          "base_uri": "https://localhost:8080/"
        },
        "id": "_nx35pMXZfH5",
        "outputId": "b0bf8c2a-0c2c-4789-ac3a-2961173804c9"
      },
      "source": [
        "ecommerce.shape"
      ],
      "execution_count": 36,
      "outputs": [
        {
          "output_type": "execute_result",
          "data": {
            "text/plain": [
              "(10000, 14)"
            ]
          },
          "metadata": {
            "tags": []
          },
          "execution_count": 36
        }
      ]
    },
    {
      "cell_type": "code",
      "metadata": {
        "colab": {
          "base_uri": "https://localhost:8080/"
        },
        "id": "DKqiwqn8ZirL",
        "outputId": "6a2225ba-bcc0-4a34-d6e3-1e71a2af128d"
      },
      "source": [
        "len(ecommerce)"
      ],
      "execution_count": 37,
      "outputs": [
        {
          "output_type": "execute_result",
          "data": {
            "text/plain": [
              "10000"
            ]
          },
          "metadata": {
            "tags": []
          },
          "execution_count": 37
        }
      ]
    },
    {
      "cell_type": "markdown",
      "metadata": {
        "id": "eXostDKaPApP"
      },
      "source": [
        "** Qual é o preço de compra médio? **"
      ]
    },
    {
      "cell_type": "code",
      "metadata": {
        "id": "a9qHjon7PApQ",
        "colab": {
          "base_uri": "https://localhost:8080/"
        },
        "outputId": "ce4713ff-d6d9-44a9-d350-40a292d8af54"
      },
      "source": [
        "ecommerce['Purchase Price'].mean()"
      ],
      "execution_count": 7,
      "outputs": [
        {
          "output_type": "execute_result",
          "data": {
            "text/plain": [
              "50.34730200000025"
            ]
          },
          "metadata": {
            "tags": []
          },
          "execution_count": 7
        }
      ]
    },
    {
      "cell_type": "markdown",
      "metadata": {
        "id": "lcbSXeUyPApQ"
      },
      "source": [
        "** Quais foram os preços de compra mais altos e mais baixos? **"
      ]
    },
    {
      "cell_type": "code",
      "metadata": {
        "id": "ZBV33-lyPApQ",
        "colab": {
          "base_uri": "https://localhost:8080/"
        },
        "outputId": "7139577d-e7d4-43a4-d85b-d6b0f3405c40"
      },
      "source": [
        "ecommerce['Purchase Price'].max()"
      ],
      "execution_count": 8,
      "outputs": [
        {
          "output_type": "execute_result",
          "data": {
            "text/plain": [
              "99.99"
            ]
          },
          "metadata": {
            "tags": []
          },
          "execution_count": 8
        }
      ]
    },
    {
      "cell_type": "code",
      "metadata": {
        "id": "zfJfo04iPApR",
        "colab": {
          "base_uri": "https://localhost:8080/"
        },
        "outputId": "c1824a87-6c68-4fbb-dec0-a38cb98ed0eb"
      },
      "source": [
        "ecommerce['Purchase Price'].min()"
      ],
      "execution_count": 38,
      "outputs": [
        {
          "output_type": "execute_result",
          "data": {
            "text/plain": [
              "0.0"
            ]
          },
          "metadata": {
            "tags": []
          },
          "execution_count": 38
        }
      ]
    },
    {
      "cell_type": "markdown",
      "metadata": {
        "id": "JiSOLh4gPApR"
      },
      "source": [
        "** Quantas pessoas têm Inglês 'en' como sua língua de escolha no site? **"
      ]
    },
    {
      "cell_type": "code",
      "metadata": {
        "colab": {
          "base_uri": "https://localhost:8080/"
        },
        "id": "6VCcA1DYc_Ik",
        "outputId": "146aa3bf-589a-413e-9600-74af2d9a8dd2"
      },
      "source": [
        "ecommerce.columns"
      ],
      "execution_count": 39,
      "outputs": [
        {
          "output_type": "execute_result",
          "data": {
            "text/plain": [
              "Index(['Address', 'Lot', 'AM or PM', 'Browser Info', 'Company', 'Credit Card',\n",
              "       'CC Exp Date', 'CC Security Code', 'CC Provider', 'Email', 'Job',\n",
              "       'IP Address', 'Language', 'Purchase Price'],\n",
              "      dtype='object')"
            ]
          },
          "metadata": {
            "tags": []
          },
          "execution_count": 39
        }
      ]
    },
    {
      "cell_type": "code",
      "metadata": {
        "colab": {
          "base_uri": "https://localhost:8080/"
        },
        "id": "_JAaCJA8dEZ5",
        "outputId": "fe41493e-85f0-4b15-bd4b-a78671fbb197"
      },
      "source": [
        "ecommerce['Language'].head()"
      ],
      "execution_count": 41,
      "outputs": [
        {
          "output_type": "execute_result",
          "data": {
            "text/plain": [
              "0    el\n",
              "1    fr\n",
              "2    de\n",
              "3    es\n",
              "4    es\n",
              "Name: Language, dtype: object"
            ]
          },
          "metadata": {
            "tags": []
          },
          "execution_count": 41
        }
      ]
    },
    {
      "cell_type": "code",
      "metadata": {
        "id": "nQTMypD6PApR",
        "colab": {
          "base_uri": "https://localhost:8080/"
        },
        "outputId": "0b125d40-a529-4e43-9024-b99a92ac5ca3"
      },
      "source": [
        "ecommerce[ecommerce['Language']=='en'].count()"
      ],
      "execution_count": 16,
      "outputs": [
        {
          "output_type": "execute_result",
          "data": {
            "text/plain": [
              "Address             1098\n",
              "Lot                 1098\n",
              "AM or PM            1098\n",
              "Browser Info        1098\n",
              "Company             1098\n",
              "Credit Card         1098\n",
              "CC Exp Date         1098\n",
              "CC Security Code    1098\n",
              "CC Provider         1098\n",
              "Email               1098\n",
              "Job                 1098\n",
              "IP Address          1098\n",
              "Language            1098\n",
              "Purchase Price      1098\n",
              "dtype: int64"
            ]
          },
          "metadata": {
            "tags": []
          },
          "execution_count": 16
        }
      ]
    },
    {
      "cell_type": "code",
      "metadata": {
        "colab": {
          "base_uri": "https://localhost:8080/"
        },
        "id": "_Tm93ex8Ra1t",
        "outputId": "54870702-2cd5-45c1-daa9-3406af2c5575"
      },
      "source": [
        "ecommerce[ecommerce['Language']=='en'].shape"
      ],
      "execution_count": 42,
      "outputs": [
        {
          "output_type": "execute_result",
          "data": {
            "text/plain": [
              "(1098, 14)"
            ]
          },
          "metadata": {
            "tags": []
          },
          "execution_count": 42
        }
      ]
    },
    {
      "cell_type": "markdown",
      "metadata": {
        "id": "6l5IhsZDPApR"
      },
      "source": [
        "** Quantas pessoas têm o cargo de \"Advogado\"? **"
      ]
    },
    {
      "cell_type": "code",
      "metadata": {
        "id": "0L26dlj2PApS",
        "colab": {
          "base_uri": "https://localhost:8080/"
        },
        "outputId": "cc9cfda7-3ad0-4edf-9edd-38feebf65f74"
      },
      "source": [
        "ecommerce[ecommerce['Job']=='Lawyer'].count()"
      ],
      "execution_count": 44,
      "outputs": [
        {
          "output_type": "execute_result",
          "data": {
            "text/plain": [
              "Address             30\n",
              "Lot                 30\n",
              "AM or PM            30\n",
              "Browser Info        30\n",
              "Company             30\n",
              "Credit Card         30\n",
              "CC Exp Date         30\n",
              "CC Security Code    30\n",
              "CC Provider         30\n",
              "Email               30\n",
              "Job                 30\n",
              "IP Address          30\n",
              "Language            30\n",
              "Purchase Price      30\n",
              "dtype: int64"
            ]
          },
          "metadata": {
            "tags": []
          },
          "execution_count": 44
        }
      ]
    },
    {
      "cell_type": "code",
      "metadata": {
        "colab": {
          "base_uri": "https://localhost:8080/"
        },
        "id": "nWc3JjzKdnwB",
        "outputId": "9274c9ff-ddba-4e82-aa7d-bfa50cb048a7"
      },
      "source": [
        "ecommerce[ecommerce['Job']=='Lawyer'].shape"
      ],
      "execution_count": 45,
      "outputs": [
        {
          "output_type": "execute_result",
          "data": {
            "text/plain": [
              "(30, 14)"
            ]
          },
          "metadata": {
            "tags": []
          },
          "execution_count": 45
        }
      ]
    },
    {
      "cell_type": "code",
      "metadata": {
        "colab": {
          "base_uri": "https://localhost:8080/"
        },
        "id": "bAZONUKYSN2a",
        "outputId": "41d1fc25-eac7-43c9-9835-ea3ad5bc5cd9"
      },
      "source": [
        "ecommerce['Job'].value_counts()"
      ],
      "execution_count": 20,
      "outputs": [
        {
          "output_type": "execute_result",
          "data": {
            "text/plain": [
              "Interior and spatial designer        31\n",
              "Lawyer                               30\n",
              "Social researcher                    28\n",
              "Designer, jewellery                  27\n",
              "Research officer, political party    27\n",
              "                                     ..\n",
              "Music therapist                       7\n",
              "Actuary                               6\n",
              "Editor, film/video                    6\n",
              "Investment analyst                    5\n",
              "Information systems manager           5\n",
              "Name: Job, Length: 623, dtype: int64"
            ]
          },
          "metadata": {
            "tags": []
          },
          "execution_count": 20
        }
      ]
    },
    {
      "cell_type": "markdown",
      "metadata": {
        "id": "nl1jFEAgPApS"
      },
      "source": [
        "** Quantas pessoas fizeram a compra durante a AM e quantas pessoas fizeram a compra durante o PM? **\n",
        "\n",
        "** (Sugestão: Confira [value_counts ()](http://pandas.pydata.org/pandas-docs/stable/generated/pandas.Series.value_counts.html)) **"
      ]
    },
    {
      "cell_type": "code",
      "metadata": {
        "id": "XMpIOOirPApS",
        "colab": {
          "base_uri": "https://localhost:8080/"
        },
        "outputId": "30ee4c3c-fff8-4088-f5e3-af1f615108c7"
      },
      "source": [
        "ecommerce['AM or PM'].value_counts()"
      ],
      "execution_count": 21,
      "outputs": [
        {
          "output_type": "execute_result",
          "data": {
            "text/plain": [
              "PM    5068\n",
              "AM    4932\n",
              "Name: AM or PM, dtype: int64"
            ]
          },
          "metadata": {
            "tags": []
          },
          "execution_count": 21
        }
      ]
    },
    {
      "cell_type": "markdown",
      "metadata": {
        "id": "DXGjPLyIPApS"
      },
      "source": [
        "** Quais são os 5 títulos de trabalho mais comuns? **"
      ]
    },
    {
      "cell_type": "code",
      "metadata": {
        "id": "EPBGb2jfPApT",
        "colab": {
          "base_uri": "https://localhost:8080/"
        },
        "outputId": "e6cae42f-0283-460a-cc68-e861902c9366"
      },
      "source": [
        "ecommerce['Job'].value_counts().head()"
      ],
      "execution_count": 22,
      "outputs": [
        {
          "output_type": "execute_result",
          "data": {
            "text/plain": [
              "Interior and spatial designer        31\n",
              "Lawyer                               30\n",
              "Social researcher                    28\n",
              "Designer, jewellery                  27\n",
              "Research officer, political party    27\n",
              "Name: Job, dtype: int64"
            ]
          },
          "metadata": {
            "tags": []
          },
          "execution_count": 22
        }
      ]
    },
    {
      "cell_type": "markdown",
      "metadata": {
        "id": "EBWJnFYHPApT"
      },
      "source": [
        "** Alguém fez uma compra que veio do Lot: \"90 WT\", qual foi o preço de compra para esta transação? **"
      ]
    },
    {
      "cell_type": "code",
      "metadata": {
        "id": "oJOaFhBVPApT",
        "colab": {
          "base_uri": "https://localhost:8080/"
        },
        "outputId": "f20ae9ce-0902-4ca4-b9f0-196e5c03a12e"
      },
      "source": [
        "ecommerce[ecommerce['Lot']==\"90 WT\"]['Purchase Price']"
      ],
      "execution_count": 24,
      "outputs": [
        {
          "output_type": "execute_result",
          "data": {
            "text/plain": [
              "513    75.1\n",
              "Name: Purchase Price, dtype: float64"
            ]
          },
          "metadata": {
            "tags": []
          },
          "execution_count": 24
        }
      ]
    },
    {
      "cell_type": "markdown",
      "metadata": {
        "id": "_rop1xfBPApT"
      },
      "source": [
        "** Qual é o email da pessoa com o seguinte número do cartão de crédito: 4926535242672853 **"
      ]
    },
    {
      "cell_type": "code",
      "metadata": {
        "id": "MPXqaYYnPApT",
        "colab": {
          "base_uri": "https://localhost:8080/"
        },
        "outputId": "9eb8171d-2fd1-4651-b0cd-c0fc994a23cb"
      },
      "source": [
        "ecommerce[ecommerce['Credit Card']==4926535242672853]['Email']"
      ],
      "execution_count": 25,
      "outputs": [
        {
          "output_type": "execute_result",
          "data": {
            "text/plain": [
              "1234    bondellen@williams-garza.com\n",
              "Name: Email, dtype: object"
            ]
          },
          "metadata": {
            "tags": []
          },
          "execution_count": 25
        }
      ]
    },
    {
      "cell_type": "markdown",
      "metadata": {
        "id": "fiGrc3oQPApU"
      },
      "source": [
        "** Quantas pessoas têm o American Express como seu fornecedor de cartão de crédito * e * fizeram uma compra acima de US $ 95? **"
      ]
    },
    {
      "cell_type": "code",
      "metadata": {
        "id": "EZVOPd6tPApU",
        "colab": {
          "base_uri": "https://localhost:8080/"
        },
        "outputId": "e1eda9d9-78f7-4b50-bcf6-9ca5aaba2567"
      },
      "source": [
        "ecommerce[(ecommerce['CC Provider']==\"American Express\") & (ecommerce['Purchase Price'] > 95)].shape #39 pessoas"
      ],
      "execution_count": 47,
      "outputs": [
        {
          "output_type": "execute_result",
          "data": {
            "text/plain": [
              "(39, 14)"
            ]
          },
          "metadata": {
            "tags": []
          },
          "execution_count": 47
        }
      ]
    },
    {
      "cell_type": "markdown",
      "metadata": {
        "id": "DFGHw1OyPApU"
      },
      "source": [
        "** Difícil: quantas pessoas tem um cartão de crédito que expira em 2025? **"
      ]
    },
    {
      "cell_type": "code",
      "metadata": {
        "colab": {
          "base_uri": "https://localhost:8080/"
        },
        "id": "6oDr6OOce8_t",
        "outputId": "e89efb00-78bb-4ed9-b83e-76e487072114"
      },
      "source": [
        "ecommerce.columns"
      ],
      "execution_count": 48,
      "outputs": [
        {
          "output_type": "execute_result",
          "data": {
            "text/plain": [
              "Index(['Address', 'Lot', 'AM or PM', 'Browser Info', 'Company', 'Credit Card',\n",
              "       'CC Exp Date', 'CC Security Code', 'CC Provider', 'Email', 'Job',\n",
              "       'IP Address', 'Language', 'Purchase Price'],\n",
              "      dtype='object')"
            ]
          },
          "metadata": {
            "tags": []
          },
          "execution_count": 48
        }
      ]
    },
    {
      "cell_type": "code",
      "metadata": {
        "colab": {
          "base_uri": "https://localhost:8080/"
        },
        "id": "nkn-mQ0BfCM-",
        "outputId": "3f3b4877-7cf1-4f13-f754-ec9af12f5a12"
      },
      "source": [
        "ecommerce['CC Exp Date'].head()# precisamos tratar esses dados"
      ],
      "execution_count": 49,
      "outputs": [
        {
          "output_type": "execute_result",
          "data": {
            "text/plain": [
              "0    02/20\n",
              "1    11/18\n",
              "2    08/19\n",
              "3    02/24\n",
              "4    10/25\n",
              "Name: CC Exp Date, dtype: object"
            ]
          },
          "metadata": {
            "tags": []
          },
          "execution_count": 49
        }
      ]
    },
    {
      "cell_type": "code",
      "metadata": {
        "colab": {
          "base_uri": "https://localhost:8080/"
        },
        "id": "V-UbIw-tfJe2",
        "outputId": "c9869b12-3a8d-4acc-a226-a6120f29191c"
      },
      "source": [
        "ecommerce['CC Exp Date'].apply(lambda x: x[3:])"
      ],
      "execution_count": 50,
      "outputs": [
        {
          "output_type": "execute_result",
          "data": {
            "text/plain": [
              "0       20\n",
              "1       18\n",
              "2       19\n",
              "3       24\n",
              "4       25\n",
              "        ..\n",
              "9995    22\n",
              "9996    25\n",
              "9997    21\n",
              "9998    17\n",
              "9999    19\n",
              "Name: CC Exp Date, Length: 10000, dtype: object"
            ]
          },
          "metadata": {
            "tags": []
          },
          "execution_count": 50
        }
      ]
    },
    {
      "cell_type": "code",
      "metadata": {
        "colab": {
          "base_uri": "https://localhost:8080/"
        },
        "id": "tuEZEhavfVCt",
        "outputId": "c76aaa25-fecb-41ef-cc86-2665d0a83181"
      },
      "source": [
        "ecommerce['CC Exp Date'].apply(lambda x: x[3:])== '25'"
      ],
      "execution_count": 52,
      "outputs": [
        {
          "output_type": "execute_result",
          "data": {
            "text/plain": [
              "0       False\n",
              "1       False\n",
              "2       False\n",
              "3       False\n",
              "4        True\n",
              "        ...  \n",
              "9995    False\n",
              "9996     True\n",
              "9997    False\n",
              "9998    False\n",
              "9999    False\n",
              "Name: CC Exp Date, Length: 10000, dtype: bool"
            ]
          },
          "metadata": {
            "tags": []
          },
          "execution_count": 52
        }
      ]
    },
    {
      "cell_type": "code",
      "metadata": {
        "colab": {
          "base_uri": "https://localhost:8080/"
        },
        "id": "K9yLpB6ufXQ_",
        "outputId": "274d8436-bafa-49f2-f553-8e257e37b88a"
      },
      "source": [
        "sum(ecommerce['CC Exp Date'].apply(lambda x: x[3:])== '25')"
      ],
      "execution_count": 53,
      "outputs": [
        {
          "output_type": "execute_result",
          "data": {
            "text/plain": [
              "1033"
            ]
          },
          "metadata": {
            "tags": []
          },
          "execution_count": 53
        }
      ]
    },
    {
      "cell_type": "markdown",
      "metadata": {
        "id": "G7E0oZ8NPApU"
      },
      "source": [
        "** Difícil: quais são os 5 principais provedores de e-mail / hosts mais populares (por exemplo, gmail.com, yahoo.com, etc ...) **"
      ]
    },
    {
      "cell_type": "code",
      "metadata": {
        "id": "gYM8ukhmPApV",
        "colab": {
          "base_uri": "https://localhost:8080/"
        },
        "outputId": "b0397011-f515-4ad9-a710-16b4acb78029"
      },
      "source": [
        "ecommerce['Email'].head()"
      ],
      "execution_count": 35,
      "outputs": [
        {
          "output_type": "execute_result",
          "data": {
            "text/plain": [
              "0                 pdunlap@yahoo.com\n",
              "1                anthony41@reed.com\n",
              "2    amymiller@morales-harrison.com\n",
              "3       brent16@olson-robinson.info\n",
              "4       christopherwright@gmail.com\n",
              "Name: Email, dtype: object"
            ]
          },
          "metadata": {
            "tags": []
          },
          "execution_count": 35
        }
      ]
    },
    {
      "cell_type": "code",
      "metadata": {
        "colab": {
          "base_uri": "https://localhost:8080/"
        },
        "id": "DKli2mBsfq7j",
        "outputId": "5b99a79d-9cb6-4cd3-e765-6bb1adaff301"
      },
      "source": [
        "ecommerce['Email'].apply(lambda x: x.split('@')[1])"
      ],
      "execution_count": 54,
      "outputs": [
        {
          "output_type": "execute_result",
          "data": {
            "text/plain": [
              "0                  yahoo.com\n",
              "1                   reed.com\n",
              "2       morales-harrison.com\n",
              "3        olson-robinson.info\n",
              "4                  gmail.com\n",
              "                ...         \n",
              "9995         wade-garner.com\n",
              "9996             hotmail.com\n",
              "9997               gmail.com\n",
              "9998                reid.net\n",
              "9999              vaughn.com\n",
              "Name: Email, Length: 10000, dtype: object"
            ]
          },
          "metadata": {
            "tags": []
          },
          "execution_count": 54
        }
      ]
    },
    {
      "cell_type": "code",
      "metadata": {
        "colab": {
          "base_uri": "https://localhost:8080/"
        },
        "id": "2YgbFOuZf6wm",
        "outputId": "0ae3664e-d016-4dc8-b063-7caaabd3d7de"
      },
      "source": [
        "ecommerce['Email'].apply(lambda x: x.split('@')[1]).value_counts()"
      ],
      "execution_count": 55,
      "outputs": [
        {
          "output_type": "execute_result",
          "data": {
            "text/plain": [
              "hotmail.com        1638\n",
              "yahoo.com          1616\n",
              "gmail.com          1605\n",
              "smith.com            42\n",
              "williams.com         37\n",
              "                   ... \n",
              "montgomery.net        1\n",
              "levy-tapia.biz        1\n",
              "bradley.com           1\n",
              "perry-ayala.com       1\n",
              "english.org           1\n",
              "Name: Email, Length: 3416, dtype: int64"
            ]
          },
          "metadata": {
            "tags": []
          },
          "execution_count": 55
        }
      ]
    },
    {
      "cell_type": "code",
      "metadata": {
        "colab": {
          "base_uri": "https://localhost:8080/"
        },
        "id": "zyElMdZPf_9G",
        "outputId": "bf8ee530-a670-4be2-bdf1-a27873c75811"
      },
      "source": [
        "ecommerce['Email'].apply(lambda x: x.split('@')[1]).value_counts().head()"
      ],
      "execution_count": 56,
      "outputs": [
        {
          "output_type": "execute_result",
          "data": {
            "text/plain": [
              "hotmail.com     1638\n",
              "yahoo.com       1616\n",
              "gmail.com       1605\n",
              "smith.com         42\n",
              "williams.com      37\n",
              "Name: Email, dtype: int64"
            ]
          },
          "metadata": {
            "tags": []
          },
          "execution_count": 56
        }
      ]
    }
  ]
}