{
  "nbformat": 4,
  "nbformat_minor": 0,
  "metadata": {
    "colab": {
      "name": "Pandas_Udemy.ipynb",
      "provenance": [],
      "authorship_tag": "ABX9TyO8L/4j8h51SD2X3hb29zd7",
      "include_colab_link": true
    },
    "kernelspec": {
      "name": "python3",
      "display_name": "Python 3"
    }
  },
  "cells": [
    {
      "cell_type": "markdown",
      "metadata": {
        "id": "view-in-github",
        "colab_type": "text"
      },
      "source": [
        "<a href=\"https://colab.research.google.com/github/MagdaSousa/Estudo_Pandas/blob/master/Pandas_Udemy.ipynb\" target=\"_parent\"><img src=\"https://colab.research.google.com/assets/colab-badge.svg\" alt=\"Open In Colab\"/></a>"
      ]
    },
    {
      "cell_type": "markdown",
      "metadata": {
        "id": "m_254HoGvg9z",
        "colab_type": "text"
      },
      "source": [
        "Estudo da biblioteca Pandas, utilizando-a na análise, limpeza e obtenção de informações através dos dados."
      ]
    },
    {
      "cell_type": "code",
      "metadata": {
        "id": "t2UVV82yupiz",
        "colab_type": "code",
        "colab": {}
      },
      "source": [
        "import pandas as pd\n",
        "import numpy as np\n"
      ],
      "execution_count": 1,
      "outputs": []
    },
    {
      "cell_type": "code",
      "metadata": {
        "id": "KVs0_FG_v3XS",
        "colab_type": "code",
        "colab": {}
      },
      "source": [
        "series =pd.Series([7,4,2,np.nan,6,9])"
      ],
      "execution_count": 2,
      "outputs": []
    },
    {
      "cell_type": "code",
      "metadata": {
        "id": "DxEkvwb7wG4S",
        "colab_type": "code",
        "colab": {
          "base_uri": "https://localhost:8080/",
          "height": 139
        },
        "outputId": "3086c4e9-7539-47fe-e1de-59c487373386"
      },
      "source": [
        "series\n",
        "# os indices representam o tempo, e ao lado são os valores atribuídos a cada tempo"
      ],
      "execution_count": 3,
      "outputs": [
        {
          "output_type": "execute_result",
          "data": {
            "text/plain": [
              "0    7.0\n",
              "1    4.0\n",
              "2    2.0\n",
              "3    NaN\n",
              "4    6.0\n",
              "5    9.0\n",
              "dtype: float64"
            ]
          },
          "metadata": {
            "tags": []
          },
          "execution_count": 3
        }
      ]
    },
    {
      "cell_type": "code",
      "metadata": {
        "id": "MHRfp598wsgc",
        "colab_type": "code",
        "colab": {
          "base_uri": "https://localhost:8080/",
          "height": 35
        },
        "outputId": "698b8a3b-418c-4288-bb46-fed19f047107"
      },
      "source": [
        "type(series)"
      ],
      "execution_count": 4,
      "outputs": [
        {
          "output_type": "execute_result",
          "data": {
            "text/plain": [
              "pandas.core.series.Series"
            ]
          },
          "metadata": {
            "tags": []
          },
          "execution_count": 4
        }
      ]
    },
    {
      "cell_type": "code",
      "metadata": {
        "id": "V0y-usDVxHQm",
        "colab_type": "code",
        "colab": {}
      },
      "source": [
        "data = pd.date_range('20180101',periods =6)\n",
        "#periods, está relacionado a dias (freq='D').Mas  a frequencia pode ser alterada\n",
        "# date_range é utilizado para manipulação de datas a partir de um período, aqui estou dizendo que quero visualizar o mes 01 no dia 01 de 2018"
      ],
      "execution_count": 5,
      "outputs": []
    },
    {
      "cell_type": "code",
      "metadata": {
        "id": "FbZDq_3nx0DH",
        "colab_type": "code",
        "colab": {
          "base_uri": "https://localhost:8080/",
          "height": 69
        },
        "outputId": "d7dc88c7-488b-4a53-a276-bb7e6f84804b"
      },
      "source": [
        "data"
      ],
      "execution_count": 6,
      "outputs": [
        {
          "output_type": "execute_result",
          "data": {
            "text/plain": [
              "DatetimeIndex(['2018-01-01', '2018-01-02', '2018-01-03', '2018-01-04',\n",
              "               '2018-01-05', '2018-01-06'],\n",
              "              dtype='datetime64[ns]', freq='D')"
            ]
          },
          "metadata": {
            "tags": []
          },
          "execution_count": 6
        }
      ]
    },
    {
      "cell_type": "code",
      "metadata": {
        "id": "gtPMuw5-3V8P",
        "colab_type": "code",
        "colab": {}
      },
      "source": [
        "?data = pd.date_range()\n",
        "# dando um \"help\", consigo verificar todos os parametros desta função"
      ],
      "execution_count": 7,
      "outputs": []
    },
    {
      "cell_type": "code",
      "metadata": {
        "id": "GAIh-aRx36po",
        "colab_type": "code",
        "colab": {
          "base_uri": "https://localhost:8080/",
          "height": 69
        },
        "outputId": "c9f91818-4cc3-4013-89b3-ce6dcb119a9c"
      },
      "source": [
        "mes = pd.date_range('20180101',periods =6,freq='M')\n",
        "#Colocando o parâmetro freq='M', eu relaciono o período a meses em vez de dias. E ao que posso verificar ele sempre olha para o último \n",
        "# dia  de cada mês\n",
        "mes"
      ],
      "execution_count": 8,
      "outputs": [
        {
          "output_type": "execute_result",
          "data": {
            "text/plain": [
              "DatetimeIndex(['2018-01-31', '2018-02-28', '2018-03-31', '2018-04-30',\n",
              "               '2018-05-31', '2018-06-30'],\n",
              "              dtype='datetime64[ns]', freq='M')"
            ]
          },
          "metadata": {
            "tags": []
          },
          "execution_count": 8
        }
      ]
    },
    {
      "cell_type": "code",
      "metadata": {
        "id": "LgXVm2WB4mQM",
        "colab_type": "code",
        "colab": {
          "base_uri": "https://localhost:8080/",
          "height": 69
        },
        "outputId": "84716af7-8b29-4189-9190-ea3298066c65"
      },
      "source": [
        "ano = pd.date_range('20180101',periods =6,freq='Y')\n",
        "#Colocando o parâmetro freq='Y', eu relaciono o período a ANOS em vez de dias ou meses. E ao que posso verificar ele sempre olha para o último \n",
        "# dia  do mês de dezembro de cada ano\n",
        "ano"
      ],
      "execution_count": 9,
      "outputs": [
        {
          "output_type": "execute_result",
          "data": {
            "text/plain": [
              "DatetimeIndex(['2018-12-31', '2019-12-31', '2020-12-31', '2021-12-31',\n",
              "               '2022-12-31', '2023-12-31'],\n",
              "              dtype='datetime64[ns]', freq='A-DEC')"
            ]
          },
          "metadata": {
            "tags": []
          },
          "execution_count": 9
        }
      ]
    },
    {
      "cell_type": "code",
      "metadata": {
        "id": "b2DlC87G5I33",
        "colab_type": "code",
        "colab": {
          "base_uri": "https://localhost:8080/",
          "height": 35
        },
        "outputId": "c07ee8a8-0709-498d-c13f-b4adc6624870"
      },
      "source": [
        "type(ano)"
      ],
      "execution_count": 10,
      "outputs": [
        {
          "output_type": "execute_result",
          "data": {
            "text/plain": [
              "pandas.core.indexes.datetimes.DatetimeIndex"
            ]
          },
          "metadata": {
            "tags": []
          },
          "execution_count": 10
        }
      ]
    },
    {
      "cell_type": "markdown",
      "metadata": {
        "id": "cDboa-We5bPC",
        "colab_type": "text"
      },
      "source": [
        "Criando um Dataframe"
      ]
    },
    {
      "cell_type": "code",
      "metadata": {
        "id": "0A0BEBz_6Tsr",
        "colab_type": "code",
        "colab": {
          "base_uri": "https://localhost:8080/",
          "height": 121
        },
        "outputId": "b6d69a8d-86f7-41aa-a5df-a0b2530d1fad"
      },
      "source": [
        "np.random.randn(6,4)\n",
        "# criando um array de 6 linhas e 4 colunas, preenchidos com números aleatórios.\n",
        "#randn-> Gera números aleatórios"
      ],
      "execution_count": 11,
      "outputs": [
        {
          "output_type": "execute_result",
          "data": {
            "text/plain": [
              "array([[-0.19827473,  0.00302235, -1.02337366, -1.06522914],\n",
              "       [ 1.13339682, -1.07124685,  1.51901065, -0.08883988],\n",
              "       [-0.62319252,  0.41981327, -0.44592679,  0.2547888 ],\n",
              "       [ 0.58493658,  0.53462973,  0.98610202,  0.3126133 ],\n",
              "       [ 0.59672421, -0.91317775, -1.65391636, -0.20535721],\n",
              "       [ 0.05829844,  0.23766482, -0.38189632, -1.03904983]])"
            ]
          },
          "metadata": {
            "tags": []
          },
          "execution_count": 11
        }
      ]
    },
    {
      "cell_type": "code",
      "metadata": {
        "id": "zLOzt4y17FBh",
        "colab_type": "code",
        "colab": {
          "base_uri": "https://localhost:8080/",
          "height": 35
        },
        "outputId": "e079ffd0-29aa-454c-90f5-04f781eb1b3e"
      },
      "source": [
        "list('ABDC')\n",
        "# criando uma lista"
      ],
      "execution_count": 12,
      "outputs": [
        {
          "output_type": "execute_result",
          "data": {
            "text/plain": [
              "['A', 'B', 'D', 'C']"
            ]
          },
          "metadata": {
            "tags": []
          },
          "execution_count": 12
        }
      ]
    },
    {
      "cell_type": "code",
      "metadata": {
        "id": "aLitX2dG5nrr",
        "colab_type": "code",
        "colab": {}
      },
      "source": [
        "df = pd.DataFrame(np.random.randn(6,4),index= data,columns=list('ABDC'))"
      ],
      "execution_count": 13,
      "outputs": []
    },
    {
      "cell_type": "code",
      "metadata": {
        "id": "xHDzfxny7hpt",
        "colab_type": "code",
        "colab": {
          "base_uri": "https://localhost:8080/",
          "height": 233
        },
        "outputId": "c5e4aac4-858d-45a2-eacd-0e0ad42fbee9"
      },
      "source": [
        "df\n",
        "# dataframe montado com os indices que são as datas e as colunas são as letras \n",
        "#da lista"
      ],
      "execution_count": 14,
      "outputs": [
        {
          "output_type": "execute_result",
          "data": {
            "text/html": [
              "<div>\n",
              "<style scoped>\n",
              "    .dataframe tbody tr th:only-of-type {\n",
              "        vertical-align: middle;\n",
              "    }\n",
              "\n",
              "    .dataframe tbody tr th {\n",
              "        vertical-align: top;\n",
              "    }\n",
              "\n",
              "    .dataframe thead th {\n",
              "        text-align: right;\n",
              "    }\n",
              "</style>\n",
              "<table border=\"1\" class=\"dataframe\">\n",
              "  <thead>\n",
              "    <tr style=\"text-align: right;\">\n",
              "      <th></th>\n",
              "      <th>A</th>\n",
              "      <th>B</th>\n",
              "      <th>D</th>\n",
              "      <th>C</th>\n",
              "    </tr>\n",
              "  </thead>\n",
              "  <tbody>\n",
              "    <tr>\n",
              "      <th>2018-01-01</th>\n",
              "      <td>0.531833</td>\n",
              "      <td>0.962496</td>\n",
              "      <td>1.488554</td>\n",
              "      <td>0.598472</td>\n",
              "    </tr>\n",
              "    <tr>\n",
              "      <th>2018-01-02</th>\n",
              "      <td>0.940038</td>\n",
              "      <td>-0.302766</td>\n",
              "      <td>0.994846</td>\n",
              "      <td>-0.141663</td>\n",
              "    </tr>\n",
              "    <tr>\n",
              "      <th>2018-01-03</th>\n",
              "      <td>2.017713</td>\n",
              "      <td>-0.462463</td>\n",
              "      <td>1.465562</td>\n",
              "      <td>-0.024839</td>\n",
              "    </tr>\n",
              "    <tr>\n",
              "      <th>2018-01-04</th>\n",
              "      <td>-1.031591</td>\n",
              "      <td>1.062323</td>\n",
              "      <td>-0.297366</td>\n",
              "      <td>-0.529969</td>\n",
              "    </tr>\n",
              "    <tr>\n",
              "      <th>2018-01-05</th>\n",
              "      <td>2.267238</td>\n",
              "      <td>0.102062</td>\n",
              "      <td>-1.264714</td>\n",
              "      <td>0.503936</td>\n",
              "    </tr>\n",
              "    <tr>\n",
              "      <th>2018-01-06</th>\n",
              "      <td>0.343097</td>\n",
              "      <td>-0.156067</td>\n",
              "      <td>-0.576795</td>\n",
              "      <td>0.688896</td>\n",
              "    </tr>\n",
              "  </tbody>\n",
              "</table>\n",
              "</div>"
            ],
            "text/plain": [
              "                   A         B         D         C\n",
              "2018-01-01  0.531833  0.962496  1.488554  0.598472\n",
              "2018-01-02  0.940038 -0.302766  0.994846 -0.141663\n",
              "2018-01-03  2.017713 -0.462463  1.465562 -0.024839\n",
              "2018-01-04 -1.031591  1.062323 -0.297366 -0.529969\n",
              "2018-01-05  2.267238  0.102062 -1.264714  0.503936\n",
              "2018-01-06  0.343097 -0.156067 -0.576795  0.688896"
            ]
          },
          "metadata": {
            "tags": []
          },
          "execution_count": 14
        }
      ]
    },
    {
      "cell_type": "code",
      "metadata": {
        "id": "vIIuY06-8gZ1",
        "colab_type": "code",
        "colab": {}
      },
      "source": [
        "df2= pd.DataFrame({'A':7,\n",
        "                   'B':pd.Timestamp('20190101'),\n",
        "                   'C':pd.Series(1,index=list(range(4)), dtype= 'float32'),\n",
        "                   'D':np.array([3]*4, dtype='int32'),\n",
        "                   'E':pd.Categorical(['test','train','test','train']),\n",
        "                   'E':'Python'})\n",
        "# as letras A,B,C,D,E,F serão as colunas"
      ],
      "execution_count": 15,
      "outputs": []
    },
    {
      "cell_type": "code",
      "metadata": {
        "id": "nPPUb-dZ-1ps",
        "colab_type": "code",
        "colab": {
          "base_uri": "https://localhost:8080/",
          "height": 171
        },
        "outputId": "1353b2cc-9f88-4412-db00-23ca8856f5a9"
      },
      "source": [
        "df2"
      ],
      "execution_count": 16,
      "outputs": [
        {
          "output_type": "execute_result",
          "data": {
            "text/html": [
              "<div>\n",
              "<style scoped>\n",
              "    .dataframe tbody tr th:only-of-type {\n",
              "        vertical-align: middle;\n",
              "    }\n",
              "\n",
              "    .dataframe tbody tr th {\n",
              "        vertical-align: top;\n",
              "    }\n",
              "\n",
              "    .dataframe thead th {\n",
              "        text-align: right;\n",
              "    }\n",
              "</style>\n",
              "<table border=\"1\" class=\"dataframe\">\n",
              "  <thead>\n",
              "    <tr style=\"text-align: right;\">\n",
              "      <th></th>\n",
              "      <th>A</th>\n",
              "      <th>B</th>\n",
              "      <th>C</th>\n",
              "      <th>D</th>\n",
              "      <th>E</th>\n",
              "    </tr>\n",
              "  </thead>\n",
              "  <tbody>\n",
              "    <tr>\n",
              "      <th>0</th>\n",
              "      <td>7</td>\n",
              "      <td>2019-01-01</td>\n",
              "      <td>1.0</td>\n",
              "      <td>3</td>\n",
              "      <td>Python</td>\n",
              "    </tr>\n",
              "    <tr>\n",
              "      <th>1</th>\n",
              "      <td>7</td>\n",
              "      <td>2019-01-01</td>\n",
              "      <td>1.0</td>\n",
              "      <td>3</td>\n",
              "      <td>Python</td>\n",
              "    </tr>\n",
              "    <tr>\n",
              "      <th>2</th>\n",
              "      <td>7</td>\n",
              "      <td>2019-01-01</td>\n",
              "      <td>1.0</td>\n",
              "      <td>3</td>\n",
              "      <td>Python</td>\n",
              "    </tr>\n",
              "    <tr>\n",
              "      <th>3</th>\n",
              "      <td>7</td>\n",
              "      <td>2019-01-01</td>\n",
              "      <td>1.0</td>\n",
              "      <td>3</td>\n",
              "      <td>Python</td>\n",
              "    </tr>\n",
              "  </tbody>\n",
              "</table>\n",
              "</div>"
            ],
            "text/plain": [
              "   A          B    C  D       E\n",
              "0  7 2019-01-01  1.0  3  Python\n",
              "1  7 2019-01-01  1.0  3  Python\n",
              "2  7 2019-01-01  1.0  3  Python\n",
              "3  7 2019-01-01  1.0  3  Python"
            ]
          },
          "metadata": {
            "tags": []
          },
          "execution_count": 16
        }
      ]
    },
    {
      "cell_type": "code",
      "metadata": {
        "id": "AInXkCoM_ceo",
        "colab_type": "code",
        "colab": {
          "base_uri": "https://localhost:8080/",
          "height": 121
        },
        "outputId": "4083d804-6b4b-41b4-ae58-910132864c4b"
      },
      "source": [
        "df2.dtypes\n",
        "# verificando os tipos de dados contidos no dataframe"
      ],
      "execution_count": 17,
      "outputs": [
        {
          "output_type": "execute_result",
          "data": {
            "text/plain": [
              "A             int64\n",
              "B    datetime64[ns]\n",
              "C           float32\n",
              "D             int32\n",
              "E            object\n",
              "dtype: object"
            ]
          },
          "metadata": {
            "tags": []
          },
          "execution_count": 17
        }
      ]
    },
    {
      "cell_type": "markdown",
      "metadata": {
        "id": "YPYBdxeYETct",
        "colab_type": "text"
      },
      "source": [
        "#Aula 2"
      ]
    },
    {
      "cell_type": "markdown",
      "metadata": {
        "id": "Epi_9JqMJBMP",
        "colab_type": "text"
      },
      "source": [
        "Visualização de dados"
      ]
    },
    {
      "cell_type": "code",
      "metadata": {
        "id": "7iAmcaWPJLuW",
        "colab_type": "code",
        "colab": {
          "base_uri": "https://localhost:8080/",
          "height": 202
        },
        "outputId": "578b7db6-9c15-4e6b-db93-87003755f326"
      },
      "source": [
        "df.head()\n",
        "# por default mostra 5 linhas"
      ],
      "execution_count": 19,
      "outputs": [
        {
          "output_type": "execute_result",
          "data": {
            "text/html": [
              "<div>\n",
              "<style scoped>\n",
              "    .dataframe tbody tr th:only-of-type {\n",
              "        vertical-align: middle;\n",
              "    }\n",
              "\n",
              "    .dataframe tbody tr th {\n",
              "        vertical-align: top;\n",
              "    }\n",
              "\n",
              "    .dataframe thead th {\n",
              "        text-align: right;\n",
              "    }\n",
              "</style>\n",
              "<table border=\"1\" class=\"dataframe\">\n",
              "  <thead>\n",
              "    <tr style=\"text-align: right;\">\n",
              "      <th></th>\n",
              "      <th>A</th>\n",
              "      <th>B</th>\n",
              "      <th>D</th>\n",
              "      <th>C</th>\n",
              "    </tr>\n",
              "  </thead>\n",
              "  <tbody>\n",
              "    <tr>\n",
              "      <th>2018-01-01</th>\n",
              "      <td>0.531833</td>\n",
              "      <td>0.962496</td>\n",
              "      <td>1.488554</td>\n",
              "      <td>0.598472</td>\n",
              "    </tr>\n",
              "    <tr>\n",
              "      <th>2018-01-02</th>\n",
              "      <td>0.940038</td>\n",
              "      <td>-0.302766</td>\n",
              "      <td>0.994846</td>\n",
              "      <td>-0.141663</td>\n",
              "    </tr>\n",
              "    <tr>\n",
              "      <th>2018-01-03</th>\n",
              "      <td>2.017713</td>\n",
              "      <td>-0.462463</td>\n",
              "      <td>1.465562</td>\n",
              "      <td>-0.024839</td>\n",
              "    </tr>\n",
              "    <tr>\n",
              "      <th>2018-01-04</th>\n",
              "      <td>-1.031591</td>\n",
              "      <td>1.062323</td>\n",
              "      <td>-0.297366</td>\n",
              "      <td>-0.529969</td>\n",
              "    </tr>\n",
              "    <tr>\n",
              "      <th>2018-01-05</th>\n",
              "      <td>2.267238</td>\n",
              "      <td>0.102062</td>\n",
              "      <td>-1.264714</td>\n",
              "      <td>0.503936</td>\n",
              "    </tr>\n",
              "  </tbody>\n",
              "</table>\n",
              "</div>"
            ],
            "text/plain": [
              "                   A         B         D         C\n",
              "2018-01-01  0.531833  0.962496  1.488554  0.598472\n",
              "2018-01-02  0.940038 -0.302766  0.994846 -0.141663\n",
              "2018-01-03  2.017713 -0.462463  1.465562 -0.024839\n",
              "2018-01-04 -1.031591  1.062323 -0.297366 -0.529969\n",
              "2018-01-05  2.267238  0.102062 -1.264714  0.503936"
            ]
          },
          "metadata": {
            "tags": []
          },
          "execution_count": 19
        }
      ]
    },
    {
      "cell_type": "code",
      "metadata": {
        "id": "GMF-cSxVDEbI",
        "colab_type": "code",
        "colab": {
          "base_uri": "https://localhost:8080/",
          "height": 110
        },
        "outputId": "49865992-a05e-4a46-dd96-acadaba93d32"
      },
      "source": [
        "df.tail(2)\n",
        "# este comando me permite veras últimas linhas do dataframe, assim com o head, se não colocarmos o número ele nos mostrará as 5 últimas linhas"
      ],
      "execution_count": 22,
      "outputs": [
        {
          "output_type": "execute_result",
          "data": {
            "text/html": [
              "<div>\n",
              "<style scoped>\n",
              "    .dataframe tbody tr th:only-of-type {\n",
              "        vertical-align: middle;\n",
              "    }\n",
              "\n",
              "    .dataframe tbody tr th {\n",
              "        vertical-align: top;\n",
              "    }\n",
              "\n",
              "    .dataframe thead th {\n",
              "        text-align: right;\n",
              "    }\n",
              "</style>\n",
              "<table border=\"1\" class=\"dataframe\">\n",
              "  <thead>\n",
              "    <tr style=\"text-align: right;\">\n",
              "      <th></th>\n",
              "      <th>A</th>\n",
              "      <th>B</th>\n",
              "      <th>D</th>\n",
              "      <th>C</th>\n",
              "    </tr>\n",
              "  </thead>\n",
              "  <tbody>\n",
              "    <tr>\n",
              "      <th>2018-01-05</th>\n",
              "      <td>2.267238</td>\n",
              "      <td>0.102062</td>\n",
              "      <td>-1.264714</td>\n",
              "      <td>0.503936</td>\n",
              "    </tr>\n",
              "    <tr>\n",
              "      <th>2018-01-06</th>\n",
              "      <td>0.343097</td>\n",
              "      <td>-0.156067</td>\n",
              "      <td>-0.576795</td>\n",
              "      <td>0.688896</td>\n",
              "    </tr>\n",
              "  </tbody>\n",
              "</table>\n",
              "</div>"
            ],
            "text/plain": [
              "                   A         B         D         C\n",
              "2018-01-05  2.267238  0.102062 -1.264714  0.503936\n",
              "2018-01-06  0.343097 -0.156067 -0.576795  0.688896"
            ]
          },
          "metadata": {
            "tags": []
          },
          "execution_count": 22
        }
      ]
    },
    {
      "cell_type": "code",
      "metadata": {
        "id": "pkfDxi5ZJ0a4",
        "colab_type": "code",
        "colab": {
          "base_uri": "https://localhost:8080/",
          "height": 69
        },
        "outputId": "f491d890-88eb-4a72-ef9c-3cd31fdff205"
      },
      "source": [
        "df.index\n",
        "# retorna os índices do dataframe"
      ],
      "execution_count": 23,
      "outputs": [
        {
          "output_type": "execute_result",
          "data": {
            "text/plain": [
              "DatetimeIndex(['2018-01-01', '2018-01-02', '2018-01-03', '2018-01-04',\n",
              "               '2018-01-05', '2018-01-06'],\n",
              "              dtype='datetime64[ns]', freq='D')"
            ]
          },
          "metadata": {
            "tags": []
          },
          "execution_count": 23
        }
      ]
    },
    {
      "cell_type": "code",
      "metadata": {
        "id": "YxBqg8qhJ-p4",
        "colab_type": "code",
        "colab": {
          "base_uri": "https://localhost:8080/",
          "height": 35
        },
        "outputId": "4bb580f1-a1d8-4f28-fc19-1ae1a1b2e8cd"
      },
      "source": [
        "df.columns\n",
        "# obtendo as colunas"
      ],
      "execution_count": 24,
      "outputs": [
        {
          "output_type": "execute_result",
          "data": {
            "text/plain": [
              "Index(['A', 'B', 'D', 'C'], dtype='object')"
            ]
          },
          "metadata": {
            "tags": []
          },
          "execution_count": 24
        }
      ]
    },
    {
      "cell_type": "code",
      "metadata": {
        "id": "jgHIu3DHKTIp",
        "colab_type": "code",
        "colab": {
          "base_uri": "https://localhost:8080/",
          "height": 35
        },
        "outputId": "832599d9-1eee-41a5-fe4c-36206df1b90d"
      },
      "source": [
        "c =df.columns\n",
        "c\n",
        "# armazenando as colunas em uma variável"
      ],
      "execution_count": 26,
      "outputs": [
        {
          "output_type": "execute_result",
          "data": {
            "text/plain": [
              "Index(['A', 'B', 'D', 'C'], dtype='object')"
            ]
          },
          "metadata": {
            "tags": []
          },
          "execution_count": 26
        }
      ]
    },
    {
      "cell_type": "code",
      "metadata": {
        "id": "lLimjzHcL1IC",
        "colab_type": "code",
        "colab": {
          "base_uri": "https://localhost:8080/",
          "height": 121
        },
        "outputId": "af22c065-af74-4b29-8deb-5f59c12b55a6"
      },
      "source": [
        "df.to_numpy()\n",
        "# pega somente os n´=umeros , ignorando colunas e indices, e cria uma matriz com os dados"
      ],
      "execution_count": 27,
      "outputs": [
        {
          "output_type": "execute_result",
          "data": {
            "text/plain": [
              "array([[ 0.53183252,  0.96249625,  1.48855371,  0.59847225],\n",
              "       [ 0.94003763, -0.30276611,  0.99484563, -0.14166324],\n",
              "       [ 2.01771277, -0.46246335,  1.46556164, -0.02483879],\n",
              "       [-1.03159096,  1.06232285, -0.29736627, -0.52996933],\n",
              "       [ 2.26723806,  0.102062  , -1.26471399,  0.50393583],\n",
              "       [ 0.34309718, -0.15606653, -0.57679488,  0.68889637]])"
            ]
          },
          "metadata": {
            "tags": []
          },
          "execution_count": 27
        }
      ]
    },
    {
      "cell_type": "code",
      "metadata": {
        "id": "fURV9okcMB__",
        "colab_type": "code",
        "colab": {
          "base_uri": "https://localhost:8080/",
          "height": 171
        },
        "outputId": "de6e659c-1240-4799-bb89-3c55d883511e"
      },
      "source": [
        "df.T\n",
        "# da algebra linear, o T é de transposta e pega tudo o que for linha e transforma em coluna, e tudo que for coluna transforma em linha"
      ],
      "execution_count": 28,
      "outputs": [
        {
          "output_type": "execute_result",
          "data": {
            "text/html": [
              "<div>\n",
              "<style scoped>\n",
              "    .dataframe tbody tr th:only-of-type {\n",
              "        vertical-align: middle;\n",
              "    }\n",
              "\n",
              "    .dataframe tbody tr th {\n",
              "        vertical-align: top;\n",
              "    }\n",
              "\n",
              "    .dataframe thead th {\n",
              "        text-align: right;\n",
              "    }\n",
              "</style>\n",
              "<table border=\"1\" class=\"dataframe\">\n",
              "  <thead>\n",
              "    <tr style=\"text-align: right;\">\n",
              "      <th></th>\n",
              "      <th>2018-01-01</th>\n",
              "      <th>2018-01-02</th>\n",
              "      <th>2018-01-03</th>\n",
              "      <th>2018-01-04</th>\n",
              "      <th>2018-01-05</th>\n",
              "      <th>2018-01-06</th>\n",
              "    </tr>\n",
              "  </thead>\n",
              "  <tbody>\n",
              "    <tr>\n",
              "      <th>A</th>\n",
              "      <td>0.531833</td>\n",
              "      <td>0.940038</td>\n",
              "      <td>2.017713</td>\n",
              "      <td>-1.031591</td>\n",
              "      <td>2.267238</td>\n",
              "      <td>0.343097</td>\n",
              "    </tr>\n",
              "    <tr>\n",
              "      <th>B</th>\n",
              "      <td>0.962496</td>\n",
              "      <td>-0.302766</td>\n",
              "      <td>-0.462463</td>\n",
              "      <td>1.062323</td>\n",
              "      <td>0.102062</td>\n",
              "      <td>-0.156067</td>\n",
              "    </tr>\n",
              "    <tr>\n",
              "      <th>D</th>\n",
              "      <td>1.488554</td>\n",
              "      <td>0.994846</td>\n",
              "      <td>1.465562</td>\n",
              "      <td>-0.297366</td>\n",
              "      <td>-1.264714</td>\n",
              "      <td>-0.576795</td>\n",
              "    </tr>\n",
              "    <tr>\n",
              "      <th>C</th>\n",
              "      <td>0.598472</td>\n",
              "      <td>-0.141663</td>\n",
              "      <td>-0.024839</td>\n",
              "      <td>-0.529969</td>\n",
              "      <td>0.503936</td>\n",
              "      <td>0.688896</td>\n",
              "    </tr>\n",
              "  </tbody>\n",
              "</table>\n",
              "</div>"
            ],
            "text/plain": [
              "   2018-01-01  2018-01-02  2018-01-03  2018-01-04  2018-01-05  2018-01-06\n",
              "A    0.531833    0.940038    2.017713   -1.031591    2.267238    0.343097\n",
              "B    0.962496   -0.302766   -0.462463    1.062323    0.102062   -0.156067\n",
              "D    1.488554    0.994846    1.465562   -0.297366   -1.264714   -0.576795\n",
              "C    0.598472   -0.141663   -0.024839   -0.529969    0.503936    0.688896"
            ]
          },
          "metadata": {
            "tags": []
          },
          "execution_count": 28
        }
      ]
    },
    {
      "cell_type": "code",
      "metadata": {
        "id": "3HpQWUDWMcne",
        "colab_type": "code",
        "colab": {
          "base_uri": "https://localhost:8080/",
          "height": 202
        },
        "outputId": "14b1d102-ea7a-4cc6-eb53-bd9dd29dcde5"
      },
      "source": [
        "df2.T"
      ],
      "execution_count": 29,
      "outputs": [
        {
          "output_type": "execute_result",
          "data": {
            "text/html": [
              "<div>\n",
              "<style scoped>\n",
              "    .dataframe tbody tr th:only-of-type {\n",
              "        vertical-align: middle;\n",
              "    }\n",
              "\n",
              "    .dataframe tbody tr th {\n",
              "        vertical-align: top;\n",
              "    }\n",
              "\n",
              "    .dataframe thead th {\n",
              "        text-align: right;\n",
              "    }\n",
              "</style>\n",
              "<table border=\"1\" class=\"dataframe\">\n",
              "  <thead>\n",
              "    <tr style=\"text-align: right;\">\n",
              "      <th></th>\n",
              "      <th>0</th>\n",
              "      <th>1</th>\n",
              "      <th>2</th>\n",
              "      <th>3</th>\n",
              "    </tr>\n",
              "  </thead>\n",
              "  <tbody>\n",
              "    <tr>\n",
              "      <th>A</th>\n",
              "      <td>7</td>\n",
              "      <td>7</td>\n",
              "      <td>7</td>\n",
              "      <td>7</td>\n",
              "    </tr>\n",
              "    <tr>\n",
              "      <th>B</th>\n",
              "      <td>2019-01-01 00:00:00</td>\n",
              "      <td>2019-01-01 00:00:00</td>\n",
              "      <td>2019-01-01 00:00:00</td>\n",
              "      <td>2019-01-01 00:00:00</td>\n",
              "    </tr>\n",
              "    <tr>\n",
              "      <th>C</th>\n",
              "      <td>1</td>\n",
              "      <td>1</td>\n",
              "      <td>1</td>\n",
              "      <td>1</td>\n",
              "    </tr>\n",
              "    <tr>\n",
              "      <th>D</th>\n",
              "      <td>3</td>\n",
              "      <td>3</td>\n",
              "      <td>3</td>\n",
              "      <td>3</td>\n",
              "    </tr>\n",
              "    <tr>\n",
              "      <th>E</th>\n",
              "      <td>Python</td>\n",
              "      <td>Python</td>\n",
              "      <td>Python</td>\n",
              "      <td>Python</td>\n",
              "    </tr>\n",
              "  </tbody>\n",
              "</table>\n",
              "</div>"
            ],
            "text/plain": [
              "                     0  ...                    3\n",
              "A                    7  ...                    7\n",
              "B  2019-01-01 00:00:00  ...  2019-01-01 00:00:00\n",
              "C                    1  ...                    1\n",
              "D                    3  ...                    3\n",
              "E               Python  ...               Python\n",
              "\n",
              "[5 rows x 4 columns]"
            ]
          },
          "metadata": {
            "tags": []
          },
          "execution_count": 29
        }
      ]
    },
    {
      "cell_type": "code",
      "metadata": {
        "id": "6SAgdMOzMrdP",
        "colab_type": "code",
        "colab": {
          "base_uri": "https://localhost:8080/",
          "height": 104
        },
        "outputId": "48c51d1c-dcf6-4b70-97be-2c2611e4a1cb"
      },
      "source": [
        "df2.to_numpy()"
      ],
      "execution_count": 31,
      "outputs": [
        {
          "output_type": "execute_result",
          "data": {
            "text/plain": [
              "array([[7, Timestamp('2019-01-01 00:00:00'), 1.0, 3, 'Python'],\n",
              "       [7, Timestamp('2019-01-01 00:00:00'), 1.0, 3, 'Python'],\n",
              "       [7, Timestamp('2019-01-01 00:00:00'), 1.0, 3, 'Python'],\n",
              "       [7, Timestamp('2019-01-01 00:00:00'), 1.0, 3, 'Python']],\n",
              "      dtype=object)"
            ]
          },
          "metadata": {
            "tags": []
          },
          "execution_count": 31
        }
      ]
    }
  ]
}