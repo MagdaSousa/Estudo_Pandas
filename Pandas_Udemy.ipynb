{
  "nbformat": 4,
  "nbformat_minor": 0,
  "metadata": {
    "colab": {
      "name": "Pandas_Udemy.ipynb",
      "provenance": [],
      "authorship_tag": "ABX9TyPiYyZ8BQHX18BG11kPnXjo",
      "include_colab_link": true
    },
    "kernelspec": {
      "name": "python3",
      "display_name": "Python 3"
    }
  },
  "cells": [
    {
      "cell_type": "markdown",
      "metadata": {
        "id": "view-in-github",
        "colab_type": "text"
      },
      "source": [
        "<a href=\"https://colab.research.google.com/github/MagdaSousa/Estudo_Pandas/blob/master/Pandas_Udemy.ipynb\" target=\"_parent\"><img src=\"https://colab.research.google.com/assets/colab-badge.svg\" alt=\"Open In Colab\"/></a>"
      ]
    },
    {
      "cell_type": "markdown",
      "metadata": {
        "id": "m_254HoGvg9z",
        "colab_type": "text"
      },
      "source": [
        "Estudo da biblioteca Pandas, utilizando-a na análise, limpeza e obtenção de informações através dos dados."
      ]
    },
    {
      "cell_type": "code",
      "metadata": {
        "id": "t2UVV82yupiz",
        "colab_type": "code",
        "colab": {}
      },
      "source": [
        "import pandas as pd\n",
        "import numpy as np\n"
      ],
      "execution_count": 1,
      "outputs": []
    },
    {
      "cell_type": "code",
      "metadata": {
        "id": "KVs0_FG_v3XS",
        "colab_type": "code",
        "colab": {}
      },
      "source": [
        "series =pd.Series([7,4,2,np.nan,6,9])"
      ],
      "execution_count": 2,
      "outputs": []
    },
    {
      "cell_type": "code",
      "metadata": {
        "id": "DxEkvwb7wG4S",
        "colab_type": "code",
        "colab": {
          "base_uri": "https://localhost:8080/",
          "height": 139
        },
        "outputId": "880290e5-712d-420d-ec7b-78c78d4878a7"
      },
      "source": [
        "series\n",
        "# os indices representam o tempo, e ao lado são os valores atribuídos a cada tempo"
      ],
      "execution_count": 3,
      "outputs": [
        {
          "output_type": "execute_result",
          "data": {
            "text/plain": [
              "0    7.0\n",
              "1    4.0\n",
              "2    2.0\n",
              "3    NaN\n",
              "4    6.0\n",
              "5    9.0\n",
              "dtype: float64"
            ]
          },
          "metadata": {
            "tags": []
          },
          "execution_count": 3
        }
      ]
    },
    {
      "cell_type": "code",
      "metadata": {
        "id": "MHRfp598wsgc",
        "colab_type": "code",
        "colab": {
          "base_uri": "https://localhost:8080/",
          "height": 35
        },
        "outputId": "5d84a88c-329c-4f5d-af7c-48b925625b99"
      },
      "source": [
        "type(series)"
      ],
      "execution_count": 4,
      "outputs": [
        {
          "output_type": "execute_result",
          "data": {
            "text/plain": [
              "pandas.core.series.Series"
            ]
          },
          "metadata": {
            "tags": []
          },
          "execution_count": 4
        }
      ]
    },
    {
      "cell_type": "code",
      "metadata": {
        "id": "V0y-usDVxHQm",
        "colab_type": "code",
        "colab": {}
      },
      "source": [
        "data = pd.date_range('20180101',periods =6)\n",
        "#periods, está relacionado a dias (freq='D').Mas  a frequencia pode ser alterada\n",
        "# date_range é utilizado para manipulação de datas a partir de um período, aqui estou dizendo que quero visualizar o mes 01 no dia 01 de 2018"
      ],
      "execution_count": 6,
      "outputs": []
    },
    {
      "cell_type": "code",
      "metadata": {
        "id": "FbZDq_3nx0DH",
        "colab_type": "code",
        "colab": {
          "base_uri": "https://localhost:8080/",
          "height": 69
        },
        "outputId": "c3f05b3d-f513-4b46-ad3b-1c73657949af"
      },
      "source": [
        "data"
      ],
      "execution_count": 7,
      "outputs": [
        {
          "output_type": "execute_result",
          "data": {
            "text/plain": [
              "DatetimeIndex(['2018-01-01', '2018-01-02', '2018-01-03', '2018-01-04',\n",
              "               '2018-01-05', '2018-01-06'],\n",
              "              dtype='datetime64[ns]', freq='D')"
            ]
          },
          "metadata": {
            "tags": []
          },
          "execution_count": 7
        }
      ]
    },
    {
      "cell_type": "code",
      "metadata": {
        "id": "gtPMuw5-3V8P",
        "colab_type": "code",
        "colab": {}
      },
      "source": [
        "?data = pd.date_range()\n",
        "# dando um \"help\", consigo verificar todos os parametros desta função"
      ],
      "execution_count": 8,
      "outputs": []
    },
    {
      "cell_type": "code",
      "metadata": {
        "id": "GAIh-aRx36po",
        "colab_type": "code",
        "colab": {
          "base_uri": "https://localhost:8080/",
          "height": 69
        },
        "outputId": "dc85d5a9-cad0-40c4-e621-388e004e77c7"
      },
      "source": [
        "mes = pd.date_range('20180101',periods =6,freq='M')\n",
        "#Colocando o parâmetro freq='M', eu relaciono o período a meses em vez de dias. E ao que posso verificar ele sempre olha para o último \n",
        "# dia  de cada mês\n",
        "mes"
      ],
      "execution_count": 11,
      "outputs": [
        {
          "output_type": "execute_result",
          "data": {
            "text/plain": [
              "DatetimeIndex(['2018-01-31', '2018-02-28', '2018-03-31', '2018-04-30',\n",
              "               '2018-05-31', '2018-06-30'],\n",
              "              dtype='datetime64[ns]', freq='M')"
            ]
          },
          "metadata": {
            "tags": []
          },
          "execution_count": 11
        }
      ]
    },
    {
      "cell_type": "code",
      "metadata": {
        "id": "LgXVm2WB4mQM",
        "colab_type": "code",
        "colab": {
          "base_uri": "https://localhost:8080/",
          "height": 69
        },
        "outputId": "093ad193-0688-4354-9e52-ee146f91aa63"
      },
      "source": [
        "ano = pd.date_range('20180101',periods =6,freq='Y')\n",
        "#Colocando o parâmetro freq='Y', eu relaciono o período a ANOS em vez de dias ou meses. E ao que posso verificar ele sempre olha para o último \n",
        "# dia  do mês de dezembro de cada ano\n",
        "ano"
      ],
      "execution_count": 12,
      "outputs": [
        {
          "output_type": "execute_result",
          "data": {
            "text/plain": [
              "DatetimeIndex(['2018-12-31', '2019-12-31', '2020-12-31', '2021-12-31',\n",
              "               '2022-12-31', '2023-12-31'],\n",
              "              dtype='datetime64[ns]', freq='A-DEC')"
            ]
          },
          "metadata": {
            "tags": []
          },
          "execution_count": 12
        }
      ]
    },
    {
      "cell_type": "code",
      "metadata": {
        "id": "b2DlC87G5I33",
        "colab_type": "code",
        "colab": {
          "base_uri": "https://localhost:8080/",
          "height": 35
        },
        "outputId": "9049c3db-0800-4878-cf50-a700ee16565c"
      },
      "source": [
        "type(ano)"
      ],
      "execution_count": 13,
      "outputs": [
        {
          "output_type": "execute_result",
          "data": {
            "text/plain": [
              "pandas.core.indexes.datetimes.DatetimeIndex"
            ]
          },
          "metadata": {
            "tags": []
          },
          "execution_count": 13
        }
      ]
    },
    {
      "cell_type": "markdown",
      "metadata": {
        "id": "cDboa-We5bPC",
        "colab_type": "text"
      },
      "source": [
        "Criando um Dataframe"
      ]
    },
    {
      "cell_type": "code",
      "metadata": {
        "id": "0A0BEBz_6Tsr",
        "colab_type": "code",
        "colab": {
          "base_uri": "https://localhost:8080/",
          "height": 121
        },
        "outputId": "87969bee-9942-4ddc-a990-9bc91fc7ba24"
      },
      "source": [
        "np.random.randn(6,4)\n",
        "# criando um array de 6 linhas e 4 colunas, preenchidos com números aleatórios.\n",
        "#randn-> Gera números aleatórios"
      ],
      "execution_count": 14,
      "outputs": [
        {
          "output_type": "execute_result",
          "data": {
            "text/plain": [
              "array([[ 1.2872204 , -1.31365005, -0.58044925,  0.36983327],\n",
              "       [ 0.64512162,  0.22300354, -0.08589009,  0.53531976],\n",
              "       [ 1.67933636, -0.87372327,  1.71540641,  1.05060708],\n",
              "       [-0.04476308,  0.9648499 , -1.39552906, -0.45303189],\n",
              "       [-2.32371663,  0.91641146, -0.18437965,  0.69652434],\n",
              "       [ 1.91805332, -0.31417153,  0.33371761,  0.37735785]])"
            ]
          },
          "metadata": {
            "tags": []
          },
          "execution_count": 14
        }
      ]
    },
    {
      "cell_type": "code",
      "metadata": {
        "id": "zLOzt4y17FBh",
        "colab_type": "code",
        "colab": {
          "base_uri": "https://localhost:8080/",
          "height": 35
        },
        "outputId": "0053a49d-ead1-4afd-99f1-25aabc7aa8f8"
      },
      "source": [
        "list('ABDC')\n",
        "# criando uma lista"
      ],
      "execution_count": 15,
      "outputs": [
        {
          "output_type": "execute_result",
          "data": {
            "text/plain": [
              "['A', 'B', 'D', 'C']"
            ]
          },
          "metadata": {
            "tags": []
          },
          "execution_count": 15
        }
      ]
    },
    {
      "cell_type": "code",
      "metadata": {
        "id": "aLitX2dG5nrr",
        "colab_type": "code",
        "colab": {}
      },
      "source": [
        "df = pd.DataFrame(np.random.randn(6,4),index= data,columns=list('ABDC'))"
      ],
      "execution_count": 17,
      "outputs": []
    },
    {
      "cell_type": "code",
      "metadata": {
        "id": "xHDzfxny7hpt",
        "colab_type": "code",
        "colab": {
          "base_uri": "https://localhost:8080/",
          "height": 233
        },
        "outputId": "e83fe538-62a6-4bf5-9997-af13aca2d689"
      },
      "source": [
        "df\n",
        "# dataframe montado com os indices que são as datas e as colunas são as letras \n",
        "#da lista"
      ],
      "execution_count": 18,
      "outputs": [
        {
          "output_type": "execute_result",
          "data": {
            "text/html": [
              "<div>\n",
              "<style scoped>\n",
              "    .dataframe tbody tr th:only-of-type {\n",
              "        vertical-align: middle;\n",
              "    }\n",
              "\n",
              "    .dataframe tbody tr th {\n",
              "        vertical-align: top;\n",
              "    }\n",
              "\n",
              "    .dataframe thead th {\n",
              "        text-align: right;\n",
              "    }\n",
              "</style>\n",
              "<table border=\"1\" class=\"dataframe\">\n",
              "  <thead>\n",
              "    <tr style=\"text-align: right;\">\n",
              "      <th></th>\n",
              "      <th>A</th>\n",
              "      <th>B</th>\n",
              "      <th>D</th>\n",
              "      <th>C</th>\n",
              "    </tr>\n",
              "  </thead>\n",
              "  <tbody>\n",
              "    <tr>\n",
              "      <th>2018-01-01</th>\n",
              "      <td>0.528401</td>\n",
              "      <td>0.707031</td>\n",
              "      <td>-1.050405</td>\n",
              "      <td>2.239532</td>\n",
              "    </tr>\n",
              "    <tr>\n",
              "      <th>2018-01-02</th>\n",
              "      <td>0.268229</td>\n",
              "      <td>0.352079</td>\n",
              "      <td>-0.834119</td>\n",
              "      <td>-0.646868</td>\n",
              "    </tr>\n",
              "    <tr>\n",
              "      <th>2018-01-03</th>\n",
              "      <td>0.589400</td>\n",
              "      <td>0.133959</td>\n",
              "      <td>-0.234439</td>\n",
              "      <td>0.021007</td>\n",
              "    </tr>\n",
              "    <tr>\n",
              "      <th>2018-01-04</th>\n",
              "      <td>-0.067797</td>\n",
              "      <td>-1.544373</td>\n",
              "      <td>-0.599789</td>\n",
              "      <td>0.517343</td>\n",
              "    </tr>\n",
              "    <tr>\n",
              "      <th>2018-01-05</th>\n",
              "      <td>1.053594</td>\n",
              "      <td>0.586922</td>\n",
              "      <td>0.203107</td>\n",
              "      <td>0.092241</td>\n",
              "    </tr>\n",
              "    <tr>\n",
              "      <th>2018-01-06</th>\n",
              "      <td>0.565021</td>\n",
              "      <td>0.399277</td>\n",
              "      <td>1.446714</td>\n",
              "      <td>-2.113330</td>\n",
              "    </tr>\n",
              "  </tbody>\n",
              "</table>\n",
              "</div>"
            ],
            "text/plain": [
              "                   A         B         D         C\n",
              "2018-01-01  0.528401  0.707031 -1.050405  2.239532\n",
              "2018-01-02  0.268229  0.352079 -0.834119 -0.646868\n",
              "2018-01-03  0.589400  0.133959 -0.234439  0.021007\n",
              "2018-01-04 -0.067797 -1.544373 -0.599789  0.517343\n",
              "2018-01-05  1.053594  0.586922  0.203107  0.092241\n",
              "2018-01-06  0.565021  0.399277  1.446714 -2.113330"
            ]
          },
          "metadata": {
            "tags": []
          },
          "execution_count": 18
        }
      ]
    },
    {
      "cell_type": "code",
      "metadata": {
        "id": "vIIuY06-8gZ1",
        "colab_type": "code",
        "colab": {}
      },
      "source": [
        "df2= pd.DataFrame({'A':7,\n",
        "                   'B':pd.Timestamp('20190101'),\n",
        "                   'C':pd.Series(1,index=list(range(4)), dtype= 'float32'),\n",
        "                   'D':np.array([3]*4, dtype='int32'),\n",
        "                   'E':pd.Categorical(['test','train','test','train']),\n",
        "                   'E':'Python'})\n",
        "# as letras A,B,C,D,E,F serão as colunas"
      ],
      "execution_count": 19,
      "outputs": []
    },
    {
      "cell_type": "code",
      "metadata": {
        "id": "nPPUb-dZ-1ps",
        "colab_type": "code",
        "colab": {
          "base_uri": "https://localhost:8080/",
          "height": 171
        },
        "outputId": "133f7068-1615-4586-9bcb-522ca4e77ca8"
      },
      "source": [
        "df2"
      ],
      "execution_count": 20,
      "outputs": [
        {
          "output_type": "execute_result",
          "data": {
            "text/html": [
              "<div>\n",
              "<style scoped>\n",
              "    .dataframe tbody tr th:only-of-type {\n",
              "        vertical-align: middle;\n",
              "    }\n",
              "\n",
              "    .dataframe tbody tr th {\n",
              "        vertical-align: top;\n",
              "    }\n",
              "\n",
              "    .dataframe thead th {\n",
              "        text-align: right;\n",
              "    }\n",
              "</style>\n",
              "<table border=\"1\" class=\"dataframe\">\n",
              "  <thead>\n",
              "    <tr style=\"text-align: right;\">\n",
              "      <th></th>\n",
              "      <th>A</th>\n",
              "      <th>B</th>\n",
              "      <th>C</th>\n",
              "      <th>D</th>\n",
              "      <th>E</th>\n",
              "    </tr>\n",
              "  </thead>\n",
              "  <tbody>\n",
              "    <tr>\n",
              "      <th>0</th>\n",
              "      <td>7</td>\n",
              "      <td>2019-01-01</td>\n",
              "      <td>1.0</td>\n",
              "      <td>3</td>\n",
              "      <td>Python</td>\n",
              "    </tr>\n",
              "    <tr>\n",
              "      <th>1</th>\n",
              "      <td>7</td>\n",
              "      <td>2019-01-01</td>\n",
              "      <td>1.0</td>\n",
              "      <td>3</td>\n",
              "      <td>Python</td>\n",
              "    </tr>\n",
              "    <tr>\n",
              "      <th>2</th>\n",
              "      <td>7</td>\n",
              "      <td>2019-01-01</td>\n",
              "      <td>1.0</td>\n",
              "      <td>3</td>\n",
              "      <td>Python</td>\n",
              "    </tr>\n",
              "    <tr>\n",
              "      <th>3</th>\n",
              "      <td>7</td>\n",
              "      <td>2019-01-01</td>\n",
              "      <td>1.0</td>\n",
              "      <td>3</td>\n",
              "      <td>Python</td>\n",
              "    </tr>\n",
              "  </tbody>\n",
              "</table>\n",
              "</div>"
            ],
            "text/plain": [
              "   A          B    C  D       E\n",
              "0  7 2019-01-01  1.0  3  Python\n",
              "1  7 2019-01-01  1.0  3  Python\n",
              "2  7 2019-01-01  1.0  3  Python\n",
              "3  7 2019-01-01  1.0  3  Python"
            ]
          },
          "metadata": {
            "tags": []
          },
          "execution_count": 20
        }
      ]
    },
    {
      "cell_type": "code",
      "metadata": {
        "id": "AInXkCoM_ceo",
        "colab_type": "code",
        "colab": {
          "base_uri": "https://localhost:8080/",
          "height": 121
        },
        "outputId": "65833143-feed-423d-9a9f-a3cbe76e2501"
      },
      "source": [
        "df2.dtypes\n",
        "# verificando os tipos de dados contidos no dataframe"
      ],
      "execution_count": 21,
      "outputs": [
        {
          "output_type": "execute_result",
          "data": {
            "text/plain": [
              "A             int64\n",
              "B    datetime64[ns]\n",
              "C           float32\n",
              "D             int32\n",
              "E            object\n",
              "dtype: object"
            ]
          },
          "metadata": {
            "tags": []
          },
          "execution_count": 21
        }
      ]
    }
  ]
}