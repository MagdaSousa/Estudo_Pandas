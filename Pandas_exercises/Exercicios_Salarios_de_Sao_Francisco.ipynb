{
  "nbformat": 4,
  "nbformat_minor": 0,
  "metadata": {
    "kernelspec": {
      "display_name": "Python 3",
      "language": "python",
      "name": "python3"
    },
    "language_info": {
      "codemirror_mode": {
        "name": "ipython",
        "version": 3
      },
      "file_extension": ".py",
      "mimetype": "text/x-python",
      "name": "python",
      "nbconvert_exporter": "python",
      "pygments_lexer": "ipython3",
      "version": "3.6.1"
    },
    "colab": {
      "name": "Exercícios - Salarios de São Francisco.ipynb",
      "provenance": [],
      "collapsed_sections": [],
      "include_colab_link": true
    }
  },
  "cells": [
    {
      "cell_type": "markdown",
      "metadata": {
        "id": "view-in-github",
        "colab_type": "text"
      },
      "source": [
        "<a href=\"https://colab.research.google.com/github/MagdaSousa/Estudo_Pandas/blob/master/Exerc%C3%ADcios_Salarios_de_S%C3%A3o_Francisco.ipynb\" target=\"_parent\"><img src=\"https://colab.research.google.com/assets/colab-badge.svg\" alt=\"Open In Colab\"/></a>"
      ]
    },
    {
      "cell_type": "markdown",
      "metadata": {
        "id": "XzImnsEnyMTE"
      },
      "source": [
        "# Exercícios - Salarios de São Francisco\n",
        "\n"
      ]
    },
    {
      "cell_type": "code",
      "metadata": {
        "collapsed": true,
        "id": "XwfIt8CUyMTH"
      },
      "source": [
        "import pandas as pd"
      ],
      "execution_count": 1,
      "outputs": []
    },
    {
      "cell_type": "code",
      "metadata": {
        "collapsed": true,
        "id": "c0GPkTz1yMTH"
      },
      "source": [
        "salaries= pd.read_csv('Salaries.csv')"
      ],
      "execution_count": 2,
      "outputs": []
    },
    {
      "cell_type": "code",
      "metadata": {
        "colab": {
          "base_uri": "https://localhost:8080/"
        },
        "id": "ZgO_89TTC4S2",
        "outputId": "3c8a7d5a-b7ce-4992-d6a2-0d5d5702bf4c"
      },
      "source": [
        "len(salaries)"
      ],
      "execution_count": 39,
      "outputs": [
        {
          "output_type": "execute_result",
          "data": {
            "text/plain": [
              "107131"
            ]
          },
          "metadata": {
            "tags": []
          },
          "execution_count": 39
        }
      ]
    },
    {
      "cell_type": "code",
      "metadata": {
        "colab": {
          "base_uri": "https://localhost:8080/",
          "height": 281
        },
        "id": "2Wl4HP1KyMTI",
        "outputId": "254e2c73-a16c-4cfd-948c-d1349ed2cc75"
      },
      "source": [
        "salaries.head()"
      ],
      "execution_count": 3,
      "outputs": [
        {
          "output_type": "execute_result",
          "data": {
            "text/html": [
              "<div>\n",
              "<style scoped>\n",
              "    .dataframe tbody tr th:only-of-type {\n",
              "        vertical-align: middle;\n",
              "    }\n",
              "\n",
              "    .dataframe tbody tr th {\n",
              "        vertical-align: top;\n",
              "    }\n",
              "\n",
              "    .dataframe thead th {\n",
              "        text-align: right;\n",
              "    }\n",
              "</style>\n",
              "<table border=\"1\" class=\"dataframe\">\n",
              "  <thead>\n",
              "    <tr style=\"text-align: right;\">\n",
              "      <th></th>\n",
              "      <th>Id</th>\n",
              "      <th>EmployeeName</th>\n",
              "      <th>JobTitle</th>\n",
              "      <th>BasePay</th>\n",
              "      <th>OvertimePay</th>\n",
              "      <th>OtherPay</th>\n",
              "      <th>Benefits</th>\n",
              "      <th>TotalPay</th>\n",
              "      <th>TotalPayBenefits</th>\n",
              "      <th>Year</th>\n",
              "      <th>Notes</th>\n",
              "      <th>Agency</th>\n",
              "      <th>Status</th>\n",
              "    </tr>\n",
              "  </thead>\n",
              "  <tbody>\n",
              "    <tr>\n",
              "      <th>0</th>\n",
              "      <td>1</td>\n",
              "      <td>NATHANIEL FORD</td>\n",
              "      <td>GENERAL MANAGER-METROPOLITAN TRANSIT AUTHORITY</td>\n",
              "      <td>167411.18</td>\n",
              "      <td>0.00</td>\n",
              "      <td>400184.25</td>\n",
              "      <td>NaN</td>\n",
              "      <td>567595.43</td>\n",
              "      <td>567595.43</td>\n",
              "      <td>2011</td>\n",
              "      <td>NaN</td>\n",
              "      <td>San Francisco</td>\n",
              "      <td>NaN</td>\n",
              "    </tr>\n",
              "    <tr>\n",
              "      <th>1</th>\n",
              "      <td>2</td>\n",
              "      <td>GARY JIMENEZ</td>\n",
              "      <td>CAPTAIN III (POLICE DEPARTMENT)</td>\n",
              "      <td>155966.02</td>\n",
              "      <td>245131.88</td>\n",
              "      <td>137811.38</td>\n",
              "      <td>NaN</td>\n",
              "      <td>538909.28</td>\n",
              "      <td>538909.28</td>\n",
              "      <td>2011</td>\n",
              "      <td>NaN</td>\n",
              "      <td>San Francisco</td>\n",
              "      <td>NaN</td>\n",
              "    </tr>\n",
              "    <tr>\n",
              "      <th>2</th>\n",
              "      <td>3</td>\n",
              "      <td>ALBERT PARDINI</td>\n",
              "      <td>CAPTAIN III (POLICE DEPARTMENT)</td>\n",
              "      <td>212739.13</td>\n",
              "      <td>106088.18</td>\n",
              "      <td>16452.60</td>\n",
              "      <td>NaN</td>\n",
              "      <td>335279.91</td>\n",
              "      <td>335279.91</td>\n",
              "      <td>2011</td>\n",
              "      <td>NaN</td>\n",
              "      <td>San Francisco</td>\n",
              "      <td>NaN</td>\n",
              "    </tr>\n",
              "    <tr>\n",
              "      <th>3</th>\n",
              "      <td>4</td>\n",
              "      <td>CHRISTOPHER CHONG</td>\n",
              "      <td>WIRE ROPE CABLE MAINTENANCE MECHANIC</td>\n",
              "      <td>77916.00</td>\n",
              "      <td>56120.71</td>\n",
              "      <td>198306.90</td>\n",
              "      <td>NaN</td>\n",
              "      <td>332343.61</td>\n",
              "      <td>332343.61</td>\n",
              "      <td>2011</td>\n",
              "      <td>NaN</td>\n",
              "      <td>San Francisco</td>\n",
              "      <td>NaN</td>\n",
              "    </tr>\n",
              "    <tr>\n",
              "      <th>4</th>\n",
              "      <td>5</td>\n",
              "      <td>PATRICK GARDNER</td>\n",
              "      <td>DEPUTY CHIEF OF DEPARTMENT,(FIRE DEPARTMENT)</td>\n",
              "      <td>134401.60</td>\n",
              "      <td>9737.00</td>\n",
              "      <td>182234.59</td>\n",
              "      <td>NaN</td>\n",
              "      <td>326373.19</td>\n",
              "      <td>326373.19</td>\n",
              "      <td>2011</td>\n",
              "      <td>NaN</td>\n",
              "      <td>San Francisco</td>\n",
              "      <td>NaN</td>\n",
              "    </tr>\n",
              "  </tbody>\n",
              "</table>\n",
              "</div>"
            ],
            "text/plain": [
              "   Id       EmployeeName  ...         Agency  Status\n",
              "0   1     NATHANIEL FORD  ...  San Francisco     NaN\n",
              "1   2       GARY JIMENEZ  ...  San Francisco     NaN\n",
              "2   3     ALBERT PARDINI  ...  San Francisco     NaN\n",
              "3   4  CHRISTOPHER CHONG  ...  San Francisco     NaN\n",
              "4   5    PATRICK GARDNER  ...  San Francisco     NaN\n",
              "\n",
              "[5 rows x 13 columns]"
            ]
          },
          "metadata": {
            "tags": []
          },
          "execution_count": 3
        }
      ]
    },
    {
      "cell_type": "markdown",
      "metadata": {
        "id": "xy-IJOaeyMTJ"
      },
      "source": [
        "** Use o método .info () para descobrir quantas entradas existem. **"
      ]
    },
    {
      "cell_type": "code",
      "metadata": {
        "colab": {
          "base_uri": "https://localhost:8080/"
        },
        "id": "PPdMfhWxyMTJ",
        "outputId": "a190c663-136a-454b-8f2f-7cd1e43a99d3"
      },
      "source": [
        "salaries.info() "
      ],
      "execution_count": 40,
      "outputs": [
        {
          "output_type": "stream",
          "text": [
            "<class 'pandas.core.frame.DataFrame'>\n",
            "RangeIndex: 107131 entries, 0 to 107130\n",
            "Data columns (total 13 columns):\n",
            " #   Column            Non-Null Count   Dtype  \n",
            "---  ------            --------------   -----  \n",
            " 0   Id                107131 non-null  int64  \n",
            " 1   EmployeeName      107131 non-null  object \n",
            " 2   JobTitle          107131 non-null  object \n",
            " 3   BasePay           106686 non-null  float64\n",
            " 4   OvertimePay       107131 non-null  float64\n",
            " 5   OtherPay          107131 non-null  float64\n",
            " 6   Benefits          70972 non-null   float64\n",
            " 7   TotalPay          107131 non-null  float64\n",
            " 8   TotalPayBenefits  107131 non-null  float64\n",
            " 9   Year              107131 non-null  int64  \n",
            " 10  Notes             0 non-null       float64\n",
            " 11  Agency            107131 non-null  object \n",
            " 12  Status            0 non-null       float64\n",
            "dtypes: float64(8), int64(2), object(3)\n",
            "memory usage: 10.6+ MB\n"
          ],
          "name": "stdout"
        }
      ]
    },
    {
      "cell_type": "markdown",
      "metadata": {
        "id": "aQ91_PbnyMTK"
      },
      "source": [
        "** Qual é o \"BasePay\" médio? ** 66325.44884050643"
      ]
    },
    {
      "cell_type": "code",
      "metadata": {
        "colab": {
          "base_uri": "https://localhost:8080/"
        },
        "id": "TG90D6QWyMTK",
        "outputId": "e1f8c87b-41a5-4812-d9cf-3cf64e47a004"
      },
      "source": [
        "salaries['BasePay'].mean()"
      ],
      "execution_count": 5,
      "outputs": [
        {
          "output_type": "execute_result",
          "data": {
            "text/plain": [
              "68165.60588082249"
            ]
          },
          "metadata": {
            "tags": []
          },
          "execution_count": 5
        }
      ]
    },
    {
      "cell_type": "markdown",
      "metadata": {
        "id": "KHbrTf4_yMTK"
      },
      "source": [
        "** Qual é a maior quantidade de \"OvertimePay\" no conjunto de dados? **"
      ]
    },
    {
      "cell_type": "code",
      "metadata": {
        "colab": {
          "base_uri": "https://localhost:8080/"
        },
        "id": "Q1Ym56_PyMTK",
        "outputId": "09d89e86-c329-43f3-c9be-a539fa5aadd3"
      },
      "source": [
        "salaries['OvertimePay'].max()"
      ],
      "execution_count": 7,
      "outputs": [
        {
          "output_type": "execute_result",
          "data": {
            "text/plain": [
              "245131.88"
            ]
          },
          "metadata": {
            "tags": []
          },
          "execution_count": 7
        }
      ]
    },
    {
      "cell_type": "markdown",
      "metadata": {
        "id": "0thOFQbbyMTK"
      },
      "source": [
        "** Qual é o cargo de JOSEPH DRISCOLL? Nota: use todas as maiúsculas, caso contrário você pode obter uma resposta que não coincida (há também um Joseph Driscoll com minúsculas). **"
      ]
    },
    {
      "cell_type": "code",
      "metadata": {
        "colab": {
          "base_uri": "https://localhost:8080/"
        },
        "id": "dLnGxfwnyMTL",
        "outputId": "cba1fb48-36fc-4e0f-bec4-7958910d3eea"
      },
      "source": [
        "Josephs_salary=salaries.loc[salaries['EmployeeName']=='JOSEPH DRISCOLL']\n",
        "Josephs_salary['JobTitle']"
      ],
      "execution_count": 9,
      "outputs": [
        {
          "output_type": "execute_result",
          "data": {
            "text/plain": [
              "24    CAPTAIN, FIRE SUPPRESSION\n",
              "Name: JobTitle, dtype: object"
            ]
          },
          "metadata": {
            "tags": []
          },
          "execution_count": 9
        }
      ]
    },
    {
      "cell_type": "code",
      "metadata": {
        "colab": {
          "base_uri": "https://localhost:8080/"
        },
        "id": "9dRUqe8ID9PC",
        "outputId": "7aa4ca1c-4c1a-40c4-9a1e-53d35504e907"
      },
      "source": [
        "#2ª maneira de resolver:\n",
        "salaries[salaries['EmployeeName']=='JOSEPH DRISCOLL']['JobTitle']\n"
      ],
      "execution_count": 41,
      "outputs": [
        {
          "output_type": "execute_result",
          "data": {
            "text/plain": [
              "24    CAPTAIN, FIRE SUPPRESSION\n",
              "Name: JobTitle, dtype: object"
            ]
          },
          "metadata": {
            "tags": []
          },
          "execution_count": 41
        }
      ]
    },
    {
      "cell_type": "markdown",
      "metadata": {
        "id": "UYOdgLGZyMTL"
      },
      "source": [
        "** Quanto JOSEPH DRISCOLL ganha (incluindo benefícios)? **"
      ]
    },
    {
      "cell_type": "code",
      "metadata": {
        "colab": {
          "base_uri": "https://localhost:8080/"
        },
        "id": "LCa-oPhuyMTL",
        "outputId": "344d4348-d987-49de-b4aa-ddc3781efaea"
      },
      "source": [
        "Josephs_salary['TotalPayBenefits']"
      ],
      "execution_count": 10,
      "outputs": [
        {
          "output_type": "execute_result",
          "data": {
            "text/plain": [
              "24    270324.91\n",
              "Name: TotalPayBenefits, dtype: float64"
            ]
          },
          "metadata": {
            "tags": []
          },
          "execution_count": 10
        }
      ]
    },
    {
      "cell_type": "code",
      "metadata": {
        "colab": {
          "base_uri": "https://localhost:8080/"
        },
        "id": "AY5UqKTxEXh6",
        "outputId": "32e1bf88-2186-4e01-9815-806cd93c922a"
      },
      "source": [
        "#2ª maneira de resolver:\n",
        "salaries[salaries['EmployeeName']=='JOSEPH DRISCOLL']['TotalPayBenefits']"
      ],
      "execution_count": 42,
      "outputs": [
        {
          "output_type": "execute_result",
          "data": {
            "text/plain": [
              "24    270324.91\n",
              "Name: TotalPayBenefits, dtype: float64"
            ]
          },
          "metadata": {
            "tags": []
          },
          "execution_count": 42
        }
      ]
    },
    {
      "cell_type": "markdown",
      "metadata": {
        "id": "Z3gWVFkHyMTL"
      },
      "source": [
        "** Qual o nome da pessoa mais bem paga (incluindo benefícios)? **"
      ]
    },
    {
      "cell_type": "code",
      "metadata": {
        "colab": {
          "base_uri": "https://localhost:8080/"
        },
        "id": "9_CwoGmByMTM",
        "outputId": "e41e93fa-eb90-42a8-bc1e-583557321683"
      },
      "source": [
        "highest_salary=salaries['TotalPayBenefits'].max()\n",
        "people_with_higher_salary=salaries.loc[salaries['TotalPayBenefits']== highest_salary]\n",
        "people_with_higher_salary['EmployeeName']"
      ],
      "execution_count": 12,
      "outputs": [
        {
          "output_type": "execute_result",
          "data": {
            "text/plain": [
              "0    NATHANIEL FORD\n",
              "Name: EmployeeName, dtype: object"
            ]
          },
          "metadata": {
            "tags": []
          },
          "execution_count": 12
        }
      ]
    },
    {
      "cell_type": "code",
      "metadata": {
        "colab": {
          "base_uri": "https://localhost:8080/",
          "height": 94
        },
        "id": "bt92M59dEgng",
        "outputId": "16ac9c57-3e66-45e5-99c0-604eab952c0b"
      },
      "source": [
        "#2ª forma de resolver:\n",
        "salaries[salaries['TotalPayBenefits']==salaries['TotalPayBenefits'].max()]"
      ],
      "execution_count": 43,
      "outputs": [
        {
          "output_type": "execute_result",
          "data": {
            "text/html": [
              "<div>\n",
              "<style scoped>\n",
              "    .dataframe tbody tr th:only-of-type {\n",
              "        vertical-align: middle;\n",
              "    }\n",
              "\n",
              "    .dataframe tbody tr th {\n",
              "        vertical-align: top;\n",
              "    }\n",
              "\n",
              "    .dataframe thead th {\n",
              "        text-align: right;\n",
              "    }\n",
              "</style>\n",
              "<table border=\"1\" class=\"dataframe\">\n",
              "  <thead>\n",
              "    <tr style=\"text-align: right;\">\n",
              "      <th></th>\n",
              "      <th>Id</th>\n",
              "      <th>EmployeeName</th>\n",
              "      <th>JobTitle</th>\n",
              "      <th>BasePay</th>\n",
              "      <th>OvertimePay</th>\n",
              "      <th>OtherPay</th>\n",
              "      <th>Benefits</th>\n",
              "      <th>TotalPay</th>\n",
              "      <th>TotalPayBenefits</th>\n",
              "      <th>Year</th>\n",
              "      <th>Notes</th>\n",
              "      <th>Agency</th>\n",
              "      <th>Status</th>\n",
              "    </tr>\n",
              "  </thead>\n",
              "  <tbody>\n",
              "    <tr>\n",
              "      <th>0</th>\n",
              "      <td>1</td>\n",
              "      <td>NATHANIEL FORD</td>\n",
              "      <td>GENERAL MANAGER-METROPOLITAN TRANSIT AUTHORITY</td>\n",
              "      <td>167411.18</td>\n",
              "      <td>0.0</td>\n",
              "      <td>400184.25</td>\n",
              "      <td>NaN</td>\n",
              "      <td>567595.43</td>\n",
              "      <td>567595.43</td>\n",
              "      <td>2011</td>\n",
              "      <td>NaN</td>\n",
              "      <td>San Francisco</td>\n",
              "      <td>NaN</td>\n",
              "    </tr>\n",
              "  </tbody>\n",
              "</table>\n",
              "</div>"
            ],
            "text/plain": [
              "   Id    EmployeeName  ...         Agency  Status\n",
              "0   1  NATHANIEL FORD  ...  San Francisco     NaN\n",
              "\n",
              "[1 rows x 13 columns]"
            ]
          },
          "metadata": {
            "tags": []
          },
          "execution_count": 43
        }
      ]
    },
    {
      "cell_type": "code",
      "metadata": {
        "colab": {
          "base_uri": "https://localhost:8080/"
        },
        "id": "PeIzz8jhFJmv",
        "outputId": "34bec5d2-ebca-43dc-838b-89f0c6bccb0c"
      },
      "source": [
        "#3ª forma de resolver:\n",
        "salaries.loc[salaries['TotalPayBenefits'].idxmax()]# indice em x da pessoa que rece mais"
      ],
      "execution_count": 44,
      "outputs": [
        {
          "output_type": "execute_result",
          "data": {
            "text/plain": [
              "Id                                                               1\n",
              "EmployeeName                                        NATHANIEL FORD\n",
              "JobTitle            GENERAL MANAGER-METROPOLITAN TRANSIT AUTHORITY\n",
              "BasePay                                                     167411\n",
              "OvertimePay                                                      0\n",
              "OtherPay                                                    400184\n",
              "Benefits                                                       NaN\n",
              "TotalPay                                                    567595\n",
              "TotalPayBenefits                                            567595\n",
              "Year                                                          2011\n",
              "Notes                                                          NaN\n",
              "Agency                                               San Francisco\n",
              "Status                                                         NaN\n",
              "Name: 0, dtype: object"
            ]
          },
          "metadata": {
            "tags": []
          },
          "execution_count": 44
        }
      ]
    },
    {
      "cell_type": "markdown",
      "metadata": {
        "id": "gxFQ2fkKyMTM"
      },
      "source": [
        "** Qual o nome da pessoa paga mais baixa (incluindo benefícios)? Você percebe algo estranho sobre o quanto ele ou ela é paga? **"
      ]
    },
    {
      "cell_type": "code",
      "metadata": {
        "colab": {
          "base_uri": "https://localhost:8080/",
          "height": 187
        },
        "id": "pXk5pOw7yMTM",
        "outputId": "bf89fce4-4a07-4a84-9aa8-3d445fbe38fc"
      },
      "source": [
        "lowest_salary=salaries['TotalPayBenefits'].min()\n",
        "low_income_people=salaries.loc[salaries['TotalPayBenefits']== lowest_salary]\n",
        "low_income_people"
      ],
      "execution_count": 27,
      "outputs": [
        {
          "output_type": "execute_result",
          "data": {
            "text/html": [
              "<div>\n",
              "<style scoped>\n",
              "    .dataframe tbody tr th:only-of-type {\n",
              "        vertical-align: middle;\n",
              "    }\n",
              "\n",
              "    .dataframe tbody tr th {\n",
              "        vertical-align: top;\n",
              "    }\n",
              "\n",
              "    .dataframe thead th {\n",
              "        text-align: right;\n",
              "    }\n",
              "</style>\n",
              "<table border=\"1\" class=\"dataframe\">\n",
              "  <thead>\n",
              "    <tr style=\"text-align: right;\">\n",
              "      <th></th>\n",
              "      <th>Id</th>\n",
              "      <th>EmployeeName</th>\n",
              "      <th>JobTitle</th>\n",
              "      <th>BasePay</th>\n",
              "      <th>OvertimePay</th>\n",
              "      <th>OtherPay</th>\n",
              "      <th>Benefits</th>\n",
              "      <th>TotalPay</th>\n",
              "      <th>TotalPayBenefits</th>\n",
              "      <th>Year</th>\n",
              "      <th>Notes</th>\n",
              "      <th>Agency</th>\n",
              "      <th>Status</th>\n",
              "    </tr>\n",
              "  </thead>\n",
              "  <tbody>\n",
              "    <tr>\n",
              "      <th>36156</th>\n",
              "      <td>36157</td>\n",
              "      <td>PAULETTE ADAMS</td>\n",
              "      <td>STATIONARY ENGINEER, WATER TREATMENT PLANT</td>\n",
              "      <td>0.0</td>\n",
              "      <td>0.0</td>\n",
              "      <td>0.0</td>\n",
              "      <td>NaN</td>\n",
              "      <td>0.0</td>\n",
              "      <td>0.0</td>\n",
              "      <td>2011</td>\n",
              "      <td>NaN</td>\n",
              "      <td>San Francisco</td>\n",
              "      <td>NaN</td>\n",
              "    </tr>\n",
              "    <tr>\n",
              "      <th>36157</th>\n",
              "      <td>36158</td>\n",
              "      <td>KAUKAB MOHSIN</td>\n",
              "      <td>TRANSIT OPERATOR</td>\n",
              "      <td>0.0</td>\n",
              "      <td>0.0</td>\n",
              "      <td>0.0</td>\n",
              "      <td>NaN</td>\n",
              "      <td>0.0</td>\n",
              "      <td>0.0</td>\n",
              "      <td>2011</td>\n",
              "      <td>NaN</td>\n",
              "      <td>San Francisco</td>\n",
              "      <td>NaN</td>\n",
              "    </tr>\n",
              "    <tr>\n",
              "      <th>36158</th>\n",
              "      <td>36159</td>\n",
              "      <td>JOSEPHINE MCCREARY</td>\n",
              "      <td>MANAGER IV</td>\n",
              "      <td>0.0</td>\n",
              "      <td>0.0</td>\n",
              "      <td>0.0</td>\n",
              "      <td>NaN</td>\n",
              "      <td>0.0</td>\n",
              "      <td>0.0</td>\n",
              "      <td>2011</td>\n",
              "      <td>NaN</td>\n",
              "      <td>San Francisco</td>\n",
              "      <td>NaN</td>\n",
              "    </tr>\n",
              "  </tbody>\n",
              "</table>\n",
              "</div>"
            ],
            "text/plain": [
              "          Id        EmployeeName  ...         Agency  Status\n",
              "36156  36157      PAULETTE ADAMS  ...  San Francisco     NaN\n",
              "36157  36158       KAUKAB MOHSIN  ...  San Francisco     NaN\n",
              "36158  36159  JOSEPHINE MCCREARY  ...  San Francisco     NaN\n",
              "\n",
              "[3 rows x 13 columns]"
            ]
          },
          "metadata": {
            "tags": []
          },
          "execution_count": 27
        }
      ]
    },
    {
      "cell_type": "code",
      "metadata": {
        "colab": {
          "base_uri": "https://localhost:8080/",
          "height": 187
        },
        "id": "xXQNQxQhGPpk",
        "outputId": "f8ffc3a9-71d6-4088-dda5-a0d2cfd5e954"
      },
      "source": [
        "#2ª forma de resolver:\n",
        "salaries[salaries['TotalPayBenefits']==salaries['TotalPayBenefits'].min()]# não está pegando os negativos"
      ],
      "execution_count": 45,
      "outputs": [
        {
          "output_type": "execute_result",
          "data": {
            "text/html": [
              "<div>\n",
              "<style scoped>\n",
              "    .dataframe tbody tr th:only-of-type {\n",
              "        vertical-align: middle;\n",
              "    }\n",
              "\n",
              "    .dataframe tbody tr th {\n",
              "        vertical-align: top;\n",
              "    }\n",
              "\n",
              "    .dataframe thead th {\n",
              "        text-align: right;\n",
              "    }\n",
              "</style>\n",
              "<table border=\"1\" class=\"dataframe\">\n",
              "  <thead>\n",
              "    <tr style=\"text-align: right;\">\n",
              "      <th></th>\n",
              "      <th>Id</th>\n",
              "      <th>EmployeeName</th>\n",
              "      <th>JobTitle</th>\n",
              "      <th>BasePay</th>\n",
              "      <th>OvertimePay</th>\n",
              "      <th>OtherPay</th>\n",
              "      <th>Benefits</th>\n",
              "      <th>TotalPay</th>\n",
              "      <th>TotalPayBenefits</th>\n",
              "      <th>Year</th>\n",
              "      <th>Notes</th>\n",
              "      <th>Agency</th>\n",
              "      <th>Status</th>\n",
              "    </tr>\n",
              "  </thead>\n",
              "  <tbody>\n",
              "    <tr>\n",
              "      <th>36156</th>\n",
              "      <td>36157</td>\n",
              "      <td>PAULETTE ADAMS</td>\n",
              "      <td>STATIONARY ENGINEER, WATER TREATMENT PLANT</td>\n",
              "      <td>0.0</td>\n",
              "      <td>0.0</td>\n",
              "      <td>0.0</td>\n",
              "      <td>NaN</td>\n",
              "      <td>0.0</td>\n",
              "      <td>0.0</td>\n",
              "      <td>2011</td>\n",
              "      <td>NaN</td>\n",
              "      <td>San Francisco</td>\n",
              "      <td>NaN</td>\n",
              "    </tr>\n",
              "    <tr>\n",
              "      <th>36157</th>\n",
              "      <td>36158</td>\n",
              "      <td>KAUKAB MOHSIN</td>\n",
              "      <td>TRANSIT OPERATOR</td>\n",
              "      <td>0.0</td>\n",
              "      <td>0.0</td>\n",
              "      <td>0.0</td>\n",
              "      <td>NaN</td>\n",
              "      <td>0.0</td>\n",
              "      <td>0.0</td>\n",
              "      <td>2011</td>\n",
              "      <td>NaN</td>\n",
              "      <td>San Francisco</td>\n",
              "      <td>NaN</td>\n",
              "    </tr>\n",
              "    <tr>\n",
              "      <th>36158</th>\n",
              "      <td>36159</td>\n",
              "      <td>JOSEPHINE MCCREARY</td>\n",
              "      <td>MANAGER IV</td>\n",
              "      <td>0.0</td>\n",
              "      <td>0.0</td>\n",
              "      <td>0.0</td>\n",
              "      <td>NaN</td>\n",
              "      <td>0.0</td>\n",
              "      <td>0.0</td>\n",
              "      <td>2011</td>\n",
              "      <td>NaN</td>\n",
              "      <td>San Francisco</td>\n",
              "      <td>NaN</td>\n",
              "    </tr>\n",
              "  </tbody>\n",
              "</table>\n",
              "</div>"
            ],
            "text/plain": [
              "          Id        EmployeeName  ...         Agency  Status\n",
              "36156  36157      PAULETTE ADAMS  ...  San Francisco     NaN\n",
              "36157  36158       KAUKAB MOHSIN  ...  San Francisco     NaN\n",
              "36158  36159  JOSEPHINE MCCREARY  ...  San Francisco     NaN\n",
              "\n",
              "[3 rows x 13 columns]"
            ]
          },
          "metadata": {
            "tags": []
          },
          "execution_count": 45
        }
      ]
    },
    {
      "cell_type": "markdown",
      "metadata": {
        "id": "yzZlLT1kyMTM"
      },
      "source": [
        "** Qual foi a média (média) BasePay de todos os funcionários por ano? (2011-2014)? **"
      ]
    },
    {
      "cell_type": "code",
      "metadata": {
        "colab": {
          "base_uri": "https://localhost:8080/"
        },
        "id": "5KSdFC7WyMTM",
        "outputId": "eaaefecb-5555-48c0-c64d-aacefef737e2"
      },
      "source": [
        "base_salary_per_year_2011= salaries.loc[salaries['Year']==2011]\n",
        "base_salary_per_year_2013= salaries.loc[salaries['Year']==2013]\n",
        "base_salary_per_year_2014= salaries.loc[salaries['Year']==2014]\n",
        "base_salary_per_year_2012= salaries.loc[salaries['Year']==2012]\n",
        "print(base_salary_per_year_2011['BasePay'].mean(),\n",
        "      base_salary_per_year_2012['BasePay'].mean(),\n",
        "      base_salary_per_year_2013['BasePay'].mean(),\n",
        "      base_salary_per_year_2014['BasePay'].mean())"
      ],
      "execution_count": 33,
      "outputs": [
        {
          "output_type": "stream",
          "text": [
            "63595.956516774524 65436.40685742255 76031.95115044015 nan\n"
          ],
          "name": "stdout"
        }
      ]
    },
    {
      "cell_type": "code",
      "metadata": {
        "colab": {
          "base_uri": "https://localhost:8080/"
        },
        "id": "dUeEqjQoGmmn",
        "outputId": "143af5c0-e64a-4189-8d2d-fd9a7a92573c"
      },
      "source": [
        "#2ª forma de resolver:Agrupando\n",
        "salaries.groupby('Year').mean()['BasePay']"
      ],
      "execution_count": 47,
      "outputs": [
        {
          "output_type": "execute_result",
          "data": {
            "text/plain": [
              "Year\n",
              "2011    63595.956517\n",
              "2012    65436.406857\n",
              "2013    76031.951150\n",
              "Name: BasePay, dtype: float64"
            ]
          },
          "metadata": {
            "tags": []
          },
          "execution_count": 47
        }
      ]
    },
    {
      "cell_type": "markdown",
      "metadata": {
        "id": "l-l4E1wqyMTN"
      },
      "source": [
        "** Quantos títulos de trabalho únicos existem? **"
      ]
    },
    {
      "cell_type": "code",
      "metadata": {
        "colab": {
          "base_uri": "https://localhost:8080/"
        },
        "id": "5yrZcZBryMTN",
        "outputId": "8f92c469-2ba5-4893-e431-cfa29186d2aa"
      },
      "source": [
        "len(salaries['JobTitle'].unique())"
      ],
      "execution_count": 36,
      "outputs": [
        {
          "output_type": "execute_result",
          "data": {
            "text/plain": [
              "2123"
            ]
          },
          "metadata": {
            "tags": []
          },
          "execution_count": 36
        }
      ]
    },
    {
      "cell_type": "code",
      "metadata": {
        "colab": {
          "base_uri": "https://localhost:8080/"
        },
        "id": "S55BMcHCG-r3",
        "outputId": "23c34616-2914-49f6-e41f-b791e0cebd8d"
      },
      "source": [
        "#2ª forma de resolver:\n",
        "salaries['JobTitle'].nunique()"
      ],
      "execution_count": 48,
      "outputs": [
        {
          "output_type": "execute_result",
          "data": {
            "text/plain": [
              "2123"
            ]
          },
          "metadata": {
            "tags": []
          },
          "execution_count": 48
        }
      ]
    },
    {
      "cell_type": "markdown",
      "metadata": {
        "id": "CdpZYoupyMTN"
      },
      "source": [
        "** Quais são os 5 principais empregos mais comuns? **"
      ]
    },
    {
      "cell_type": "code",
      "metadata": {
        "colab": {
          "base_uri": "https://localhost:8080/"
        },
        "id": "6UqrZRESyMTN",
        "outputId": "da8285df-d3cb-4590-c16e-76bd8c8d6f79"
      },
      "source": [
        "salaries['JobTitle'].value_counts().head()"
      ],
      "execution_count": 50,
      "outputs": [
        {
          "output_type": "execute_result",
          "data": {
            "text/plain": [
              "Transit Operator    4489\n",
              "Special Nurse       2528\n",
              "Registered Nurse    2490\n",
              "TRANSIT OPERATOR    2388\n",
              "Police Officer 3    1635\n",
              "Name: JobTitle, dtype: int64"
            ]
          },
          "metadata": {
            "tags": []
          },
          "execution_count": 50
        }
      ]
    },
    {
      "cell_type": "code",
      "metadata": {
        "colab": {
          "base_uri": "https://localhost:8080/"
        },
        "id": "lm0_zgs_HcBc",
        "outputId": "99555288-4857-48be-ed2e-81844fab2337"
      },
      "source": [
        "#2forma de resolver:\n",
        "salaries['JobTitle'].value_counts().iloc[:5]"
      ],
      "execution_count": 51,
      "outputs": [
        {
          "output_type": "execute_result",
          "data": {
            "text/plain": [
              "Transit Operator    4489\n",
              "Special Nurse       2528\n",
              "Registered Nurse    2490\n",
              "TRANSIT OPERATOR    2388\n",
              "Police Officer 3    1635\n",
              "Name: JobTitle, dtype: int64"
            ]
          },
          "metadata": {
            "tags": []
          },
          "execution_count": 51
        }
      ]
    },
    {
      "cell_type": "markdown",
      "metadata": {
        "id": "1c2VXKITyMTN"
      },
      "source": [
        "** Quantos Títulos de Trabalho foram representados por apenas uma pessoa em 2013? (Por exemplo, títulos de trabalho com apenas uma ocorrência em 2013?) **"
      ]
    },
    {
      "cell_type": "code",
      "metadata": {
        "colab": {
          "base_uri": "https://localhost:8080/"
        },
        "id": "SnyfUIogyMTO",
        "outputId": "6ebcff66-8a98-4e9c-da0c-3c246bfb2bb9"
      },
      "source": [
        "\n",
        "sum(salaries[salaries['Year']== 2013]['JobTitle'].value_counts()==1)"
      ],
      "execution_count": 57,
      "outputs": [
        {
          "output_type": "execute_result",
          "data": {
            "text/plain": [
              "202"
            ]
          },
          "metadata": {
            "tags": []
          },
          "execution_count": 57
        }
      ]
    },
    {
      "cell_type": "markdown",
      "metadata": {
        "id": "VSVfNJLlyMTO"
      },
      "source": [
        "** Quantas pessoas têm a palavra Chefe em seu cargo? (Isso é bastante complicado) **"
      ]
    },
    {
      "cell_type": "code",
      "metadata": {
        "collapsed": true,
        "colab": {
          "base_uri": "https://localhost:8080/"
        },
        "id": "2vo-znt-yMTO",
        "outputId": "83424e88-e887-4eb5-d542-7e69b03a08ea"
      },
      "source": [
        "def verify_string(title):\n",
        "  if 'chief'in title.lower():\n",
        "    return True\n",
        "  return False\n",
        "\n",
        "\n",
        "sum(salaries['JobTitle'].apply(lambda x: verify_string(x))) "
      ],
      "execution_count": 60,
      "outputs": [
        {
          "output_type": "execute_result",
          "data": {
            "text/plain": [
              "487"
            ]
          },
          "metadata": {
            "tags": []
          },
          "execution_count": 60
        }
      ]
    },
    {
      "cell_type": "markdown",
      "metadata": {
        "id": "B4XaESUkyMTO"
      },
      "source": [
        "** Bônus: Existe uma correlação entre o comprimento da seqüência do título do trabalho e o salário? **"
      ]
    },
    {
      "cell_type": "code",
      "metadata": {
        "collapsed": true,
        "id": "fX2HarJ1yMTO"
      },
      "source": [
        "salaries['Tamanho da String'] =salaries['JobTitle'].apply(len)"
      ],
      "execution_count": 61,
      "outputs": []
    },
    {
      "cell_type": "code",
      "metadata": {
        "colab": {
          "base_uri": "https://localhost:8080/",
          "height": 107
        },
        "id": "qitxjmZ2yMTP",
        "outputId": "34757605-8642-4b7d-f736-28d23658c150"
      },
      "source": [
        "salaries[['Tamanho da String','TotalPayBenefits']].corr()\n",
        "# Neste caso ente elas a correlação é bem róxima ao 0, portando não há correlação."
      ],
      "execution_count": 62,
      "outputs": [
        {
          "output_type": "execute_result",
          "data": {
            "text/html": [
              "<div>\n",
              "<style scoped>\n",
              "    .dataframe tbody tr th:only-of-type {\n",
              "        vertical-align: middle;\n",
              "    }\n",
              "\n",
              "    .dataframe tbody tr th {\n",
              "        vertical-align: top;\n",
              "    }\n",
              "\n",
              "    .dataframe thead th {\n",
              "        text-align: right;\n",
              "    }\n",
              "</style>\n",
              "<table border=\"1\" class=\"dataframe\">\n",
              "  <thead>\n",
              "    <tr style=\"text-align: right;\">\n",
              "      <th></th>\n",
              "      <th>Tamanho da String</th>\n",
              "      <th>TotalPayBenefits</th>\n",
              "    </tr>\n",
              "  </thead>\n",
              "  <tbody>\n",
              "    <tr>\n",
              "      <th>Tamanho da String</th>\n",
              "      <td>1.000000</td>\n",
              "      <td>-0.033782</td>\n",
              "    </tr>\n",
              "    <tr>\n",
              "      <th>TotalPayBenefits</th>\n",
              "      <td>-0.033782</td>\n",
              "      <td>1.000000</td>\n",
              "    </tr>\n",
              "  </tbody>\n",
              "</table>\n",
              "</div>"
            ],
            "text/plain": [
              "                   Tamanho da String  TotalPayBenefits\n",
              "Tamanho da String           1.000000         -0.033782\n",
              "TotalPayBenefits           -0.033782          1.000000"
            ]
          },
          "metadata": {
            "tags": []
          },
          "execution_count": 62
        }
      ]
    },
    {
      "cell_type": "markdown",
      "metadata": {
        "id": "bCV3_eLPK4jC"
      },
      "source": [
        "** Existe uma correlação entre o TotalPayBenefitse o Year? **"
      ]
    },
    {
      "cell_type": "code",
      "metadata": {
        "colab": {
          "base_uri": "https://localhost:8080/",
          "height": 107
        },
        "id": "oRdaLk39LQ96",
        "outputId": "bbd8f99e-e6c1-4bfe-ad2e-948b7577698d"
      },
      "source": [
        "salaries[['Year','TotalPayBenefits']].corr()"
      ],
      "execution_count": 64,
      "outputs": [
        {
          "output_type": "execute_result",
          "data": {
            "text/html": [
              "<div>\n",
              "<style scoped>\n",
              "    .dataframe tbody tr th:only-of-type {\n",
              "        vertical-align: middle;\n",
              "    }\n",
              "\n",
              "    .dataframe tbody tr th {\n",
              "        vertical-align: top;\n",
              "    }\n",
              "\n",
              "    .dataframe thead th {\n",
              "        text-align: right;\n",
              "    }\n",
              "</style>\n",
              "<table border=\"1\" class=\"dataframe\">\n",
              "  <thead>\n",
              "    <tr style=\"text-align: right;\">\n",
              "      <th></th>\n",
              "      <th>Year</th>\n",
              "      <th>TotalPayBenefits</th>\n",
              "    </tr>\n",
              "  </thead>\n",
              "  <tbody>\n",
              "    <tr>\n",
              "      <th>Year</th>\n",
              "      <td>1.000000</td>\n",
              "      <td>0.266398</td>\n",
              "    </tr>\n",
              "    <tr>\n",
              "      <th>TotalPayBenefits</th>\n",
              "      <td>0.266398</td>\n",
              "      <td>1.000000</td>\n",
              "    </tr>\n",
              "  </tbody>\n",
              "</table>\n",
              "</div>"
            ],
            "text/plain": [
              "                      Year  TotalPayBenefits\n",
              "Year              1.000000          0.266398\n",
              "TotalPayBenefits  0.266398          1.000000"
            ]
          },
          "metadata": {
            "tags": []
          },
          "execution_count": 64
        }
      ]
    }
  ]
}