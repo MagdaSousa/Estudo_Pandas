{
  "nbformat": 4,
  "nbformat_minor": 0,
  "metadata": {
    "colab": {
      "name": "Stack_e_unstack.ipynb",
      "provenance": [],
      "collapsed_sections": [],
      "authorship_tag": "ABX9TyN4Qalv8+o2oMMVoni40nMU",
      "include_colab_link": true
    },
    "kernelspec": {
      "name": "python3",
      "display_name": "Python 3"
    }
  },
  "cells": [
    {
      "cell_type": "markdown",
      "metadata": {
        "id": "view-in-github",
        "colab_type": "text"
      },
      "source": [
        "<a href=\"https://colab.research.google.com/github/MagdaSousa/Estudo_Pandas/blob/master/Stack_e_unstack.ipynb\" target=\"_parent\"><img src=\"https://colab.research.google.com/assets/colab-badge.svg\" alt=\"Open In Colab\"/></a>"
      ]
    },
    {
      "cell_type": "markdown",
      "metadata": {
        "id": "p_Nw7e61brbj",
        "colab_type": "text"
      },
      "source": [
        "Stcak -> os dadossereão empilahdos colocados um abaixo do outro como uma pilha.."
      ]
    },
    {
      "cell_type": "code",
      "metadata": {
        "id": "-L4u4_5Savve",
        "colab_type": "code",
        "colab": {}
      },
      "source": [
        "import pandas as pd"
      ],
      "execution_count": 1,
      "outputs": []
    },
    {
      "cell_type": "code",
      "metadata": {
        "id": "ynYFc2ckbGKu",
        "colab_type": "code",
        "colab": {}
      },
      "source": [
        "df =pd.read_csv(\"https://cdncontribute.geeksforgeeks.org/wp-content/uploads/nba.csv\")"
      ],
      "execution_count": 6,
      "outputs": []
    },
    {
      "cell_type": "code",
      "metadata": {
        "id": "9W1Hsdu0cp-L",
        "colab_type": "code",
        "colab": {
          "base_uri": "https://localhost:8080/",
          "height": 171
        },
        "outputId": "ddf676fe-17e5-4a84-e75f-63a3ed748aed"
      },
      "source": [
        "df.head(4)"
      ],
      "execution_count": 7,
      "outputs": [
        {
          "output_type": "execute_result",
          "data": {
            "text/html": [
              "<div>\n",
              "<style scoped>\n",
              "    .dataframe tbody tr th:only-of-type {\n",
              "        vertical-align: middle;\n",
              "    }\n",
              "\n",
              "    .dataframe tbody tr th {\n",
              "        vertical-align: top;\n",
              "    }\n",
              "\n",
              "    .dataframe thead th {\n",
              "        text-align: right;\n",
              "    }\n",
              "</style>\n",
              "<table border=\"1\" class=\"dataframe\">\n",
              "  <thead>\n",
              "    <tr style=\"text-align: right;\">\n",
              "      <th></th>\n",
              "      <th>Name</th>\n",
              "      <th>Team</th>\n",
              "      <th>Number</th>\n",
              "      <th>Position</th>\n",
              "      <th>Age</th>\n",
              "      <th>Height</th>\n",
              "      <th>Weight</th>\n",
              "      <th>College</th>\n",
              "      <th>Salary</th>\n",
              "    </tr>\n",
              "  </thead>\n",
              "  <tbody>\n",
              "    <tr>\n",
              "      <th>0</th>\n",
              "      <td>Avery Bradley</td>\n",
              "      <td>Boston Celtics</td>\n",
              "      <td>0.0</td>\n",
              "      <td>PG</td>\n",
              "      <td>25.0</td>\n",
              "      <td>6-2</td>\n",
              "      <td>180.0</td>\n",
              "      <td>Texas</td>\n",
              "      <td>7730337.0</td>\n",
              "    </tr>\n",
              "    <tr>\n",
              "      <th>1</th>\n",
              "      <td>Jae Crowder</td>\n",
              "      <td>Boston Celtics</td>\n",
              "      <td>99.0</td>\n",
              "      <td>SF</td>\n",
              "      <td>25.0</td>\n",
              "      <td>6-6</td>\n",
              "      <td>235.0</td>\n",
              "      <td>Marquette</td>\n",
              "      <td>6796117.0</td>\n",
              "    </tr>\n",
              "    <tr>\n",
              "      <th>2</th>\n",
              "      <td>John Holland</td>\n",
              "      <td>Boston Celtics</td>\n",
              "      <td>30.0</td>\n",
              "      <td>SG</td>\n",
              "      <td>27.0</td>\n",
              "      <td>6-5</td>\n",
              "      <td>205.0</td>\n",
              "      <td>Boston University</td>\n",
              "      <td>NaN</td>\n",
              "    </tr>\n",
              "    <tr>\n",
              "      <th>3</th>\n",
              "      <td>R.J. Hunter</td>\n",
              "      <td>Boston Celtics</td>\n",
              "      <td>28.0</td>\n",
              "      <td>SG</td>\n",
              "      <td>22.0</td>\n",
              "      <td>6-5</td>\n",
              "      <td>185.0</td>\n",
              "      <td>Georgia State</td>\n",
              "      <td>1148640.0</td>\n",
              "    </tr>\n",
              "  </tbody>\n",
              "</table>\n",
              "</div>"
            ],
            "text/plain": [
              "            Name            Team  Number  ... Weight            College     Salary\n",
              "0  Avery Bradley  Boston Celtics     0.0  ...  180.0              Texas  7730337.0\n",
              "1    Jae Crowder  Boston Celtics    99.0  ...  235.0          Marquette  6796117.0\n",
              "2   John Holland  Boston Celtics    30.0  ...  205.0  Boston University        NaN\n",
              "3    R.J. Hunter  Boston Celtics    28.0  ...  185.0      Georgia State  1148640.0\n",
              "\n",
              "[4 rows x 9 columns]"
            ]
          },
          "metadata": {
            "tags": []
          },
          "execution_count": 7
        }
      ]
    },
    {
      "cell_type": "code",
      "metadata": {
        "id": "Y4po0lLsc41S",
        "colab_type": "code",
        "colab": {
          "base_uri": "https://localhost:8080/",
          "height": 35
        },
        "outputId": "cd4857eb-5b2f-4e7c-ac9d-401b7f4db4bc"
      },
      "source": [
        "df.shape"
      ],
      "execution_count": 8,
      "outputs": [
        {
          "output_type": "execute_result",
          "data": {
            "text/plain": [
              "(458, 9)"
            ]
          },
          "metadata": {
            "tags": []
          },
          "execution_count": 8
        }
      ]
    },
    {
      "cell_type": "code",
      "metadata": {
        "id": "BtUI6swcdSsX",
        "colab_type": "code",
        "colab": {}
      },
      "source": [
        "stack_df =df.stack()\n",
        "# fazendo o empilhamento dos dados do dataframe"
      ],
      "execution_count": 9,
      "outputs": []
    },
    {
      "cell_type": "code",
      "metadata": {
        "id": "GMYWHksSdSv2",
        "colab_type": "code",
        "colab": {
          "base_uri": "https://localhost:8080/",
          "height": 225
        },
        "outputId": "ec79a702-3d70-4ad8-e35c-6133e588b579"
      },
      "source": [
        "stack_df"
      ],
      "execution_count": 10,
      "outputs": [
        {
          "output_type": "execute_result",
          "data": {
            "text/plain": [
              "0    Name         Avery Bradley\n",
              "     Team        Boston Celtics\n",
              "     Number                   0\n",
              "     Position                PG\n",
              "     Age                     25\n",
              "                      ...      \n",
              "456  Age                     26\n",
              "     Height                 7-0\n",
              "     Weight                 231\n",
              "     College             Kansas\n",
              "     Salary              947276\n",
              "Length: 4018, dtype: object"
            ]
          },
          "metadata": {
            "tags": []
          },
          "execution_count": 10
        }
      ]
    },
    {
      "cell_type": "code",
      "metadata": {
        "id": "j_yDhp1weLWF",
        "colab_type": "code",
        "colab": {}
      },
      "source": [
        "desfaz_stack = stack_df.unstack()\n",
        "# desfazendo o empilhamento e retornando ao formato de tabela"
      ],
      "execution_count": 11,
      "outputs": []
    },
    {
      "cell_type": "code",
      "metadata": {
        "id": "7hFE0ZsKea_4",
        "colab_type": "code",
        "colab": {
          "base_uri": "https://localhost:8080/",
          "height": 415
        },
        "outputId": "2d566cfe-44d5-4bcb-f9d7-d5fa4d91daff"
      },
      "source": [
        "desfaz_stack"
      ],
      "execution_count": 12,
      "outputs": [
        {
          "output_type": "execute_result",
          "data": {
            "text/html": [
              "<div>\n",
              "<style scoped>\n",
              "    .dataframe tbody tr th:only-of-type {\n",
              "        vertical-align: middle;\n",
              "    }\n",
              "\n",
              "    .dataframe tbody tr th {\n",
              "        vertical-align: top;\n",
              "    }\n",
              "\n",
              "    .dataframe thead th {\n",
              "        text-align: right;\n",
              "    }\n",
              "</style>\n",
              "<table border=\"1\" class=\"dataframe\">\n",
              "  <thead>\n",
              "    <tr style=\"text-align: right;\">\n",
              "      <th></th>\n",
              "      <th>Name</th>\n",
              "      <th>Team</th>\n",
              "      <th>Number</th>\n",
              "      <th>Position</th>\n",
              "      <th>Age</th>\n",
              "      <th>Height</th>\n",
              "      <th>Weight</th>\n",
              "      <th>College</th>\n",
              "      <th>Salary</th>\n",
              "    </tr>\n",
              "  </thead>\n",
              "  <tbody>\n",
              "    <tr>\n",
              "      <th>0</th>\n",
              "      <td>Avery Bradley</td>\n",
              "      <td>Boston Celtics</td>\n",
              "      <td>0</td>\n",
              "      <td>PG</td>\n",
              "      <td>25</td>\n",
              "      <td>6-2</td>\n",
              "      <td>180</td>\n",
              "      <td>Texas</td>\n",
              "      <td>7.73034e+06</td>\n",
              "    </tr>\n",
              "    <tr>\n",
              "      <th>1</th>\n",
              "      <td>Jae Crowder</td>\n",
              "      <td>Boston Celtics</td>\n",
              "      <td>99</td>\n",
              "      <td>SF</td>\n",
              "      <td>25</td>\n",
              "      <td>6-6</td>\n",
              "      <td>235</td>\n",
              "      <td>Marquette</td>\n",
              "      <td>6.79612e+06</td>\n",
              "    </tr>\n",
              "    <tr>\n",
              "      <th>2</th>\n",
              "      <td>John Holland</td>\n",
              "      <td>Boston Celtics</td>\n",
              "      <td>30</td>\n",
              "      <td>SG</td>\n",
              "      <td>27</td>\n",
              "      <td>6-5</td>\n",
              "      <td>205</td>\n",
              "      <td>Boston University</td>\n",
              "      <td>NaN</td>\n",
              "    </tr>\n",
              "    <tr>\n",
              "      <th>3</th>\n",
              "      <td>R.J. Hunter</td>\n",
              "      <td>Boston Celtics</td>\n",
              "      <td>28</td>\n",
              "      <td>SG</td>\n",
              "      <td>22</td>\n",
              "      <td>6-5</td>\n",
              "      <td>185</td>\n",
              "      <td>Georgia State</td>\n",
              "      <td>1.14864e+06</td>\n",
              "    </tr>\n",
              "    <tr>\n",
              "      <th>4</th>\n",
              "      <td>Jonas Jerebko</td>\n",
              "      <td>Boston Celtics</td>\n",
              "      <td>8</td>\n",
              "      <td>PF</td>\n",
              "      <td>29</td>\n",
              "      <td>6-10</td>\n",
              "      <td>231</td>\n",
              "      <td>NaN</td>\n",
              "      <td>5e+06</td>\n",
              "    </tr>\n",
              "    <tr>\n",
              "      <th>...</th>\n",
              "      <td>...</td>\n",
              "      <td>...</td>\n",
              "      <td>...</td>\n",
              "      <td>...</td>\n",
              "      <td>...</td>\n",
              "      <td>...</td>\n",
              "      <td>...</td>\n",
              "      <td>...</td>\n",
              "      <td>...</td>\n",
              "    </tr>\n",
              "    <tr>\n",
              "      <th>452</th>\n",
              "      <td>Trey Lyles</td>\n",
              "      <td>Utah Jazz</td>\n",
              "      <td>41</td>\n",
              "      <td>PF</td>\n",
              "      <td>20</td>\n",
              "      <td>6-10</td>\n",
              "      <td>234</td>\n",
              "      <td>Kentucky</td>\n",
              "      <td>2.2398e+06</td>\n",
              "    </tr>\n",
              "    <tr>\n",
              "      <th>453</th>\n",
              "      <td>Shelvin Mack</td>\n",
              "      <td>Utah Jazz</td>\n",
              "      <td>8</td>\n",
              "      <td>PG</td>\n",
              "      <td>26</td>\n",
              "      <td>6-3</td>\n",
              "      <td>203</td>\n",
              "      <td>Butler</td>\n",
              "      <td>2.43333e+06</td>\n",
              "    </tr>\n",
              "    <tr>\n",
              "      <th>454</th>\n",
              "      <td>Raul Neto</td>\n",
              "      <td>Utah Jazz</td>\n",
              "      <td>25</td>\n",
              "      <td>PG</td>\n",
              "      <td>24</td>\n",
              "      <td>6-1</td>\n",
              "      <td>179</td>\n",
              "      <td>NaN</td>\n",
              "      <td>900000</td>\n",
              "    </tr>\n",
              "    <tr>\n",
              "      <th>455</th>\n",
              "      <td>Tibor Pleiss</td>\n",
              "      <td>Utah Jazz</td>\n",
              "      <td>21</td>\n",
              "      <td>C</td>\n",
              "      <td>26</td>\n",
              "      <td>7-3</td>\n",
              "      <td>256</td>\n",
              "      <td>NaN</td>\n",
              "      <td>2.9e+06</td>\n",
              "    </tr>\n",
              "    <tr>\n",
              "      <th>456</th>\n",
              "      <td>Jeff Withey</td>\n",
              "      <td>Utah Jazz</td>\n",
              "      <td>24</td>\n",
              "      <td>C</td>\n",
              "      <td>26</td>\n",
              "      <td>7-0</td>\n",
              "      <td>231</td>\n",
              "      <td>Kansas</td>\n",
              "      <td>947276</td>\n",
              "    </tr>\n",
              "  </tbody>\n",
              "</table>\n",
              "<p>457 rows × 9 columns</p>\n",
              "</div>"
            ],
            "text/plain": [
              "              Name            Team  ...            College       Salary\n",
              "0    Avery Bradley  Boston Celtics  ...              Texas  7.73034e+06\n",
              "1      Jae Crowder  Boston Celtics  ...          Marquette  6.79612e+06\n",
              "2     John Holland  Boston Celtics  ...  Boston University          NaN\n",
              "3      R.J. Hunter  Boston Celtics  ...      Georgia State  1.14864e+06\n",
              "4    Jonas Jerebko  Boston Celtics  ...                NaN        5e+06\n",
              "..             ...             ...  ...                ...          ...\n",
              "452     Trey Lyles       Utah Jazz  ...           Kentucky   2.2398e+06\n",
              "453   Shelvin Mack       Utah Jazz  ...             Butler  2.43333e+06\n",
              "454      Raul Neto       Utah Jazz  ...                NaN       900000\n",
              "455   Tibor Pleiss       Utah Jazz  ...                NaN      2.9e+06\n",
              "456    Jeff Withey       Utah Jazz  ...             Kansas       947276\n",
              "\n",
              "[457 rows x 9 columns]"
            ]
          },
          "metadata": {
            "tags": []
          },
          "execution_count": 12
        }
      ]
    }
  ]
}