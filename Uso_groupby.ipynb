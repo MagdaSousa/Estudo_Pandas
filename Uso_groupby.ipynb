{
  "nbformat": 4,
  "nbformat_minor": 0,
  "metadata": {
    "colab": {
      "name": "Uso_groupby.ipynb",
      "provenance": [],
      "collapsed_sections": [],
      "authorship_tag": "ABX9TyOiVeXDr4KZ2zZpwCp0jPd2",
      "include_colab_link": true
    },
    "kernelspec": {
      "name": "python3",
      "display_name": "Python 3"
    }
  },
  "cells": [
    {
      "cell_type": "markdown",
      "metadata": {
        "id": "view-in-github",
        "colab_type": "text"
      },
      "source": [
        "<a href=\"https://colab.research.google.com/github/MagdaSousa/Estudo_Pandas/blob/master/Uso_groupby.ipynb\" target=\"_parent\"><img src=\"https://colab.research.google.com/assets/colab-badge.svg\" alt=\"Open In Colab\"/></a>"
      ]
    },
    {
      "cell_type": "code",
      "metadata": {
        "id": "xKPgiTHyYEgt",
        "colab_type": "code",
        "colab": {}
      },
      "source": [
        "import numpy as np\n",
        "import pandas as pd"
      ],
      "execution_count": 1,
      "outputs": []
    },
    {
      "cell_type": "markdown",
      "metadata": {
        "id": "yAJ9Io6-kjgm",
        "colab_type": "text"
      },
      "source": [
        "# Aplicando o groupby\n",
        "neste caso vamos utilizar para agrupar as variáveis categoricas da coluna A"
      ]
    },
    {
      "cell_type": "code",
      "metadata": {
        "id": "p_SokVsFfpre",
        "colab_type": "code",
        "colab": {
          "base_uri": "https://localhost:8080/",
          "height": 294
        },
        "outputId": "5dd7125e-50fe-4a44-f951-ca2a6b93be01"
      },
      "source": [
        "df =pd.DataFrame({'A':['VERDADEIRO','FALSO','VERDADEIRO','FALSO','VERDADEIRO','FALSO','VERDADEIRO','FALSO'],\n",
        "                  'B':['UM','UM','DOIS','TRES','DOIS','DOIS','UM','TRES'],\n",
        "                  'C': np.random.randn(8),\n",
        "                  'D':np.random.randn(8)\n",
        "                  })\n",
        "\n",
        "df"
      ],
      "execution_count": 3,
      "outputs": [
        {
          "output_type": "execute_result",
          "data": {
            "text/html": [
              "<div>\n",
              "<style scoped>\n",
              "    .dataframe tbody tr th:only-of-type {\n",
              "        vertical-align: middle;\n",
              "    }\n",
              "\n",
              "    .dataframe tbody tr th {\n",
              "        vertical-align: top;\n",
              "    }\n",
              "\n",
              "    .dataframe thead th {\n",
              "        text-align: right;\n",
              "    }\n",
              "</style>\n",
              "<table border=\"1\" class=\"dataframe\">\n",
              "  <thead>\n",
              "    <tr style=\"text-align: right;\">\n",
              "      <th></th>\n",
              "      <th>A</th>\n",
              "      <th>B</th>\n",
              "      <th>C</th>\n",
              "      <th>D</th>\n",
              "    </tr>\n",
              "  </thead>\n",
              "  <tbody>\n",
              "    <tr>\n",
              "      <th>0</th>\n",
              "      <td>VERDADEIRO</td>\n",
              "      <td>UM</td>\n",
              "      <td>0.321138</td>\n",
              "      <td>-0.913721</td>\n",
              "    </tr>\n",
              "    <tr>\n",
              "      <th>1</th>\n",
              "      <td>FALSO</td>\n",
              "      <td>UM</td>\n",
              "      <td>0.122158</td>\n",
              "      <td>-0.063694</td>\n",
              "    </tr>\n",
              "    <tr>\n",
              "      <th>2</th>\n",
              "      <td>VERDADEIRO</td>\n",
              "      <td>DOIS</td>\n",
              "      <td>0.666150</td>\n",
              "      <td>-1.229882</td>\n",
              "    </tr>\n",
              "    <tr>\n",
              "      <th>3</th>\n",
              "      <td>FALSO</td>\n",
              "      <td>TRES</td>\n",
              "      <td>0.124791</td>\n",
              "      <td>-1.391557</td>\n",
              "    </tr>\n",
              "    <tr>\n",
              "      <th>4</th>\n",
              "      <td>VERDADEIRO</td>\n",
              "      <td>DOIS</td>\n",
              "      <td>0.526034</td>\n",
              "      <td>1.168058</td>\n",
              "    </tr>\n",
              "    <tr>\n",
              "      <th>5</th>\n",
              "      <td>FALSO</td>\n",
              "      <td>DOIS</td>\n",
              "      <td>0.989609</td>\n",
              "      <td>-1.159289</td>\n",
              "    </tr>\n",
              "    <tr>\n",
              "      <th>6</th>\n",
              "      <td>VERDADEIRO</td>\n",
              "      <td>UM</td>\n",
              "      <td>-0.113229</td>\n",
              "      <td>-0.339984</td>\n",
              "    </tr>\n",
              "    <tr>\n",
              "      <th>7</th>\n",
              "      <td>FALSO</td>\n",
              "      <td>TRES</td>\n",
              "      <td>-1.286706</td>\n",
              "      <td>-0.360363</td>\n",
              "    </tr>\n",
              "  </tbody>\n",
              "</table>\n",
              "</div>"
            ],
            "text/plain": [
              "            A     B         C         D\n",
              "0  VERDADEIRO    UM  0.321138 -0.913721\n",
              "1       FALSO    UM  0.122158 -0.063694\n",
              "2  VERDADEIRO  DOIS  0.666150 -1.229882\n",
              "3       FALSO  TRES  0.124791 -1.391557\n",
              "4  VERDADEIRO  DOIS  0.526034  1.168058\n",
              "5       FALSO  DOIS  0.989609 -1.159289\n",
              "6  VERDADEIRO    UM -0.113229 -0.339984\n",
              "7       FALSO  TRES -1.286706 -0.360363"
            ]
          },
          "metadata": {
            "tags": []
          },
          "execution_count": 3
        }
      ]
    },
    {
      "cell_type": "code",
      "metadata": {
        "id": "JcuU6HPsl8-N",
        "colab_type": "code",
        "colab": {
          "base_uri": "https://localhost:8080/",
          "height": 141
        },
        "outputId": "5df10436-6aae-46ba-a752-a58b63db6745"
      },
      "source": [
        "df.groupby(['A']).sum()\n",
        "# Faremos o agrupamento das variáveis categóricas, e faremos a soma dos valores referente a essas\n",
        "# variáveis, ou seja, total da soma dos item false e soma dos valores contidos nos itens true"
      ],
      "execution_count": 4,
      "outputs": [
        {
          "output_type": "execute_result",
          "data": {
            "text/html": [
              "<div>\n",
              "<style scoped>\n",
              "    .dataframe tbody tr th:only-of-type {\n",
              "        vertical-align: middle;\n",
              "    }\n",
              "\n",
              "    .dataframe tbody tr th {\n",
              "        vertical-align: top;\n",
              "    }\n",
              "\n",
              "    .dataframe thead th {\n",
              "        text-align: right;\n",
              "    }\n",
              "</style>\n",
              "<table border=\"1\" class=\"dataframe\">\n",
              "  <thead>\n",
              "    <tr style=\"text-align: right;\">\n",
              "      <th></th>\n",
              "      <th>C</th>\n",
              "      <th>D</th>\n",
              "    </tr>\n",
              "    <tr>\n",
              "      <th>A</th>\n",
              "      <th></th>\n",
              "      <th></th>\n",
              "    </tr>\n",
              "  </thead>\n",
              "  <tbody>\n",
              "    <tr>\n",
              "      <th>FALSO</th>\n",
              "      <td>-0.050148</td>\n",
              "      <td>-2.974904</td>\n",
              "    </tr>\n",
              "    <tr>\n",
              "      <th>VERDADEIRO</th>\n",
              "      <td>1.400093</td>\n",
              "      <td>-1.315530</td>\n",
              "    </tr>\n",
              "  </tbody>\n",
              "</table>\n",
              "</div>"
            ],
            "text/plain": [
              "                   C         D\n",
              "A                             \n",
              "FALSO      -0.050148 -2.974904\n",
              "VERDADEIRO  1.400093 -1.315530"
            ]
          },
          "metadata": {
            "tags": []
          },
          "execution_count": 4
        }
      ]
    },
    {
      "cell_type": "code",
      "metadata": {
        "id": "9_N76eASnTLR",
        "colab_type": "code",
        "colab": {
          "base_uri": "https://localhost:8080/",
          "height": 141
        },
        "outputId": "719bdf51-c30b-4788-e4d3-b719f5c0d1bf"
      },
      "source": [
        "df.groupby(['A']).mean()\n",
        "#  médias dos valores numéricos por colunas referentes as variáveis categóricas"
      ],
      "execution_count": 6,
      "outputs": [
        {
          "output_type": "execute_result",
          "data": {
            "text/html": [
              "<div>\n",
              "<style scoped>\n",
              "    .dataframe tbody tr th:only-of-type {\n",
              "        vertical-align: middle;\n",
              "    }\n",
              "\n",
              "    .dataframe tbody tr th {\n",
              "        vertical-align: top;\n",
              "    }\n",
              "\n",
              "    .dataframe thead th {\n",
              "        text-align: right;\n",
              "    }\n",
              "</style>\n",
              "<table border=\"1\" class=\"dataframe\">\n",
              "  <thead>\n",
              "    <tr style=\"text-align: right;\">\n",
              "      <th></th>\n",
              "      <th>C</th>\n",
              "      <th>D</th>\n",
              "    </tr>\n",
              "    <tr>\n",
              "      <th>A</th>\n",
              "      <th></th>\n",
              "      <th></th>\n",
              "    </tr>\n",
              "  </thead>\n",
              "  <tbody>\n",
              "    <tr>\n",
              "      <th>FALSO</th>\n",
              "      <td>-0.012537</td>\n",
              "      <td>-0.743726</td>\n",
              "    </tr>\n",
              "    <tr>\n",
              "      <th>VERDADEIRO</th>\n",
              "      <td>0.350023</td>\n",
              "      <td>-0.328882</td>\n",
              "    </tr>\n",
              "  </tbody>\n",
              "</table>\n",
              "</div>"
            ],
            "text/plain": [
              "                   C         D\n",
              "A                             \n",
              "FALSO      -0.012537 -0.743726\n",
              "VERDADEIRO  0.350023 -0.328882"
            ]
          },
          "metadata": {
            "tags": []
          },
          "execution_count": 6
        }
      ]
    },
    {
      "cell_type": "code",
      "metadata": {
        "id": "koRIsDqynyuQ",
        "colab_type": "code",
        "colab": {
          "base_uri": "https://localhost:8080/",
          "height": 171
        },
        "outputId": "7140101a-b09c-49bb-9a97-25b50f6deda2"
      },
      "source": [
        "df.groupby(['B']).sum()\n",
        "# Faremos o agrupamento das variáveis categóricas, e faremos a soma dos valores referente a essas\n",
        "# variáveis, ou seja, total da soma dos item false e soma dos valores contidos nos itens true"
      ],
      "execution_count": 7,
      "outputs": [
        {
          "output_type": "execute_result",
          "data": {
            "text/html": [
              "<div>\n",
              "<style scoped>\n",
              "    .dataframe tbody tr th:only-of-type {\n",
              "        vertical-align: middle;\n",
              "    }\n",
              "\n",
              "    .dataframe tbody tr th {\n",
              "        vertical-align: top;\n",
              "    }\n",
              "\n",
              "    .dataframe thead th {\n",
              "        text-align: right;\n",
              "    }\n",
              "</style>\n",
              "<table border=\"1\" class=\"dataframe\">\n",
              "  <thead>\n",
              "    <tr style=\"text-align: right;\">\n",
              "      <th></th>\n",
              "      <th>C</th>\n",
              "      <th>D</th>\n",
              "    </tr>\n",
              "    <tr>\n",
              "      <th>B</th>\n",
              "      <th></th>\n",
              "      <th></th>\n",
              "    </tr>\n",
              "  </thead>\n",
              "  <tbody>\n",
              "    <tr>\n",
              "      <th>DOIS</th>\n",
              "      <td>2.181793</td>\n",
              "      <td>-1.221114</td>\n",
              "    </tr>\n",
              "    <tr>\n",
              "      <th>TRES</th>\n",
              "      <td>-1.161915</td>\n",
              "      <td>-1.751920</td>\n",
              "    </tr>\n",
              "    <tr>\n",
              "      <th>UM</th>\n",
              "      <td>0.330066</td>\n",
              "      <td>-1.317400</td>\n",
              "    </tr>\n",
              "  </tbody>\n",
              "</table>\n",
              "</div>"
            ],
            "text/plain": [
              "             C         D\n",
              "B                       \n",
              "DOIS  2.181793 -1.221114\n",
              "TRES -1.161915 -1.751920\n",
              "UM    0.330066 -1.317400"
            ]
          },
          "metadata": {
            "tags": []
          },
          "execution_count": 7
        }
      ]
    },
    {
      "cell_type": "code",
      "metadata": {
        "id": "zCRS4-6sojzc",
        "colab_type": "code",
        "colab": {
          "base_uri": "https://localhost:8080/",
          "height": 233
        },
        "outputId": "89988608-5eb5-47ff-f603-8f9a93c0fbdc"
      },
      "source": [
        "df.groupby(['A','B']).sum()\n",
        "# Fazendo o agrupamento por 2 colunas"
      ],
      "execution_count": 8,
      "outputs": [
        {
          "output_type": "execute_result",
          "data": {
            "text/html": [
              "<div>\n",
              "<style scoped>\n",
              "    .dataframe tbody tr th:only-of-type {\n",
              "        vertical-align: middle;\n",
              "    }\n",
              "\n",
              "    .dataframe tbody tr th {\n",
              "        vertical-align: top;\n",
              "    }\n",
              "\n",
              "    .dataframe thead th {\n",
              "        text-align: right;\n",
              "    }\n",
              "</style>\n",
              "<table border=\"1\" class=\"dataframe\">\n",
              "  <thead>\n",
              "    <tr style=\"text-align: right;\">\n",
              "      <th></th>\n",
              "      <th></th>\n",
              "      <th>C</th>\n",
              "      <th>D</th>\n",
              "    </tr>\n",
              "    <tr>\n",
              "      <th>A</th>\n",
              "      <th>B</th>\n",
              "      <th></th>\n",
              "      <th></th>\n",
              "    </tr>\n",
              "  </thead>\n",
              "  <tbody>\n",
              "    <tr>\n",
              "      <th rowspan=\"3\" valign=\"top\">FALSO</th>\n",
              "      <th>DOIS</th>\n",
              "      <td>0.989609</td>\n",
              "      <td>-1.159289</td>\n",
              "    </tr>\n",
              "    <tr>\n",
              "      <th>TRES</th>\n",
              "      <td>-1.161915</td>\n",
              "      <td>-1.751920</td>\n",
              "    </tr>\n",
              "    <tr>\n",
              "      <th>UM</th>\n",
              "      <td>0.122158</td>\n",
              "      <td>-0.063694</td>\n",
              "    </tr>\n",
              "    <tr>\n",
              "      <th rowspan=\"2\" valign=\"top\">VERDADEIRO</th>\n",
              "      <th>DOIS</th>\n",
              "      <td>1.192184</td>\n",
              "      <td>-0.061824</td>\n",
              "    </tr>\n",
              "    <tr>\n",
              "      <th>UM</th>\n",
              "      <td>0.207909</td>\n",
              "      <td>-1.253705</td>\n",
              "    </tr>\n",
              "  </tbody>\n",
              "</table>\n",
              "</div>"
            ],
            "text/plain": [
              "                        C         D\n",
              "A          B                       \n",
              "FALSO      DOIS  0.989609 -1.159289\n",
              "           TRES -1.161915 -1.751920\n",
              "           UM    0.122158 -0.063694\n",
              "VERDADEIRO DOIS  1.192184 -0.061824\n",
              "           UM    0.207909 -1.253705"
            ]
          },
          "metadata": {
            "tags": []
          },
          "execution_count": 8
        }
      ]
    }
  ]
}