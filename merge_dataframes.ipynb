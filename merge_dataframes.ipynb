{
  "nbformat": 4,
  "nbformat_minor": 0,
  "metadata": {
    "colab": {
      "name": "merge_dataframes.ipynb",
      "provenance": [],
      "collapsed_sections": [],
      "authorship_tag": "ABX9TyOx54VEMqiXoLqvSF4plMuu",
      "include_colab_link": true
    },
    "kernelspec": {
      "name": "python3",
      "display_name": "Python 3"
    }
  },
  "cells": [
    {
      "cell_type": "markdown",
      "metadata": {
        "id": "view-in-github",
        "colab_type": "text"
      },
      "source": [
        "<a href=\"https://colab.research.google.com/github/MagdaSousa/Estudo_Pandas/blob/master/merge_dataframes.ipynb\" target=\"_parent\"><img src=\"https://colab.research.google.com/assets/colab-badge.svg\" alt=\"Open In Colab\"/></a>"
      ]
    },
    {
      "cell_type": "code",
      "metadata": {
        "id": "9xoLesTn2s6C",
        "colab_type": "code",
        "colab": {}
      },
      "source": [
        "import pandas as pd"
      ],
      "execution_count": 45,
      "outputs": []
    },
    {
      "cell_type": "markdown",
      "metadata": {
        "id": "mkMX0h9u3NDw",
        "colab_type": "text"
      },
      "source": [
        "Cadastro da loja A"
      ]
    },
    {
      "cell_type": "code",
      "metadata": {
        "id": "Q25jKVHj3RS6",
        "colab_type": "code",
        "colab": {
          "base_uri": "https://localhost:8080/",
          "height": 233
        },
        "outputId": "a221d0d5-f00d-4bb0-f4e2-6496582078f9"
      },
      "source": [
        "cadastro_a ={\"ID\":[\"AA2930\",\"BB4563\",\"CC2139\",\"DE2521\",\"GT3462\",\"HH1138\"],\n",
        "             \"NOME\":[\"VICTOR\",\"AMANDA\",\"RENATO\",\"ESTER\",\"REGINA\",\"RENAN\"],\n",
        "             \"IDADE\":[50,20,30,40,25,23],\n",
        "             \"CEP\":[\"90890-098\",\"23478-897\",\"12345-324\",\"23415-678\",\"12354-895\",\"22267-789\"]}\n",
        "\n",
        "cadastro_a= pd.DataFrame(cadastro_a,columns =[\"ID\",\"NOME\",\"IDADE\",\"CEP\"])\n",
        "cadastro_a"
      ],
      "execution_count": 46,
      "outputs": [
        {
          "output_type": "execute_result",
          "data": {
            "text/html": [
              "<div>\n",
              "<style scoped>\n",
              "    .dataframe tbody tr th:only-of-type {\n",
              "        vertical-align: middle;\n",
              "    }\n",
              "\n",
              "    .dataframe tbody tr th {\n",
              "        vertical-align: top;\n",
              "    }\n",
              "\n",
              "    .dataframe thead th {\n",
              "        text-align: right;\n",
              "    }\n",
              "</style>\n",
              "<table border=\"1\" class=\"dataframe\">\n",
              "  <thead>\n",
              "    <tr style=\"text-align: right;\">\n",
              "      <th></th>\n",
              "      <th>ID</th>\n",
              "      <th>NOME</th>\n",
              "      <th>IDADE</th>\n",
              "      <th>CEP</th>\n",
              "    </tr>\n",
              "  </thead>\n",
              "  <tbody>\n",
              "    <tr>\n",
              "      <th>0</th>\n",
              "      <td>AA2930</td>\n",
              "      <td>VICTOR</td>\n",
              "      <td>50</td>\n",
              "      <td>90890-098</td>\n",
              "    </tr>\n",
              "    <tr>\n",
              "      <th>1</th>\n",
              "      <td>BB4563</td>\n",
              "      <td>AMANDA</td>\n",
              "      <td>20</td>\n",
              "      <td>23478-897</td>\n",
              "    </tr>\n",
              "    <tr>\n",
              "      <th>2</th>\n",
              "      <td>CC2139</td>\n",
              "      <td>RENATO</td>\n",
              "      <td>30</td>\n",
              "      <td>12345-324</td>\n",
              "    </tr>\n",
              "    <tr>\n",
              "      <th>3</th>\n",
              "      <td>DE2521</td>\n",
              "      <td>ESTER</td>\n",
              "      <td>40</td>\n",
              "      <td>23415-678</td>\n",
              "    </tr>\n",
              "    <tr>\n",
              "      <th>4</th>\n",
              "      <td>GT3462</td>\n",
              "      <td>REGINA</td>\n",
              "      <td>25</td>\n",
              "      <td>12354-895</td>\n",
              "    </tr>\n",
              "    <tr>\n",
              "      <th>5</th>\n",
              "      <td>HH1138</td>\n",
              "      <td>RENAN</td>\n",
              "      <td>23</td>\n",
              "      <td>22267-789</td>\n",
              "    </tr>\n",
              "  </tbody>\n",
              "</table>\n",
              "</div>"
            ],
            "text/plain": [
              "       ID    NOME  IDADE        CEP\n",
              "0  AA2930  VICTOR     50  90890-098\n",
              "1  BB4563  AMANDA     20  23478-897\n",
              "2  CC2139  RENATO     30  12345-324\n",
              "3  DE2521   ESTER     40  23415-678\n",
              "4  GT3462  REGINA     25  12354-895\n",
              "5  HH1138   RENAN     23  22267-789"
            ]
          },
          "metadata": {
            "tags": []
          },
          "execution_count": 46
        }
      ]
    },
    {
      "cell_type": "code",
      "metadata": {
        "id": "cvkBUf-c5hHl",
        "colab_type": "code",
        "colab": {
          "base_uri": "https://localhost:8080/",
          "height": 233
        },
        "outputId": "1d45c726-7c89-4363-a55d-db19c0b1922f"
      },
      "source": [
        "cadastro_b ={\"ID\":[\"AA3330\",\"BB5663\",\"CC7639\",\"DE3421\",\"GT9862\",\"HH1138\"],\n",
        "             \"NOME\":[\"VITORIA\",\"EDUARDA\",\"CRISTIANO\",\"JULIA\",\"TATIANA\",\"RENAN\"],\n",
        "             \"IDADE\":[40,10,40,80,35,93],\n",
        "             \"CEP\":[\"45637-098\",\"28478-897\",\"88345-324\",\"33315-678\",\"55554-895\",\"22267-789\"]}\n",
        "\n",
        "cadastro_b= pd.DataFrame(cadastro_b,columns =[\"ID\",\"NOME\",\"IDADE\",\"CEP\"])\n",
        "cadastro_b"
      ],
      "execution_count": 47,
      "outputs": [
        {
          "output_type": "execute_result",
          "data": {
            "text/html": [
              "<div>\n",
              "<style scoped>\n",
              "    .dataframe tbody tr th:only-of-type {\n",
              "        vertical-align: middle;\n",
              "    }\n",
              "\n",
              "    .dataframe tbody tr th {\n",
              "        vertical-align: top;\n",
              "    }\n",
              "\n",
              "    .dataframe thead th {\n",
              "        text-align: right;\n",
              "    }\n",
              "</style>\n",
              "<table border=\"1\" class=\"dataframe\">\n",
              "  <thead>\n",
              "    <tr style=\"text-align: right;\">\n",
              "      <th></th>\n",
              "      <th>ID</th>\n",
              "      <th>NOME</th>\n",
              "      <th>IDADE</th>\n",
              "      <th>CEP</th>\n",
              "    </tr>\n",
              "  </thead>\n",
              "  <tbody>\n",
              "    <tr>\n",
              "      <th>0</th>\n",
              "      <td>AA3330</td>\n",
              "      <td>VITORIA</td>\n",
              "      <td>40</td>\n",
              "      <td>45637-098</td>\n",
              "    </tr>\n",
              "    <tr>\n",
              "      <th>1</th>\n",
              "      <td>BB5663</td>\n",
              "      <td>EDUARDA</td>\n",
              "      <td>10</td>\n",
              "      <td>28478-897</td>\n",
              "    </tr>\n",
              "    <tr>\n",
              "      <th>2</th>\n",
              "      <td>CC7639</td>\n",
              "      <td>CRISTIANO</td>\n",
              "      <td>40</td>\n",
              "      <td>88345-324</td>\n",
              "    </tr>\n",
              "    <tr>\n",
              "      <th>3</th>\n",
              "      <td>DE3421</td>\n",
              "      <td>JULIA</td>\n",
              "      <td>80</td>\n",
              "      <td>33315-678</td>\n",
              "    </tr>\n",
              "    <tr>\n",
              "      <th>4</th>\n",
              "      <td>GT9862</td>\n",
              "      <td>TATIANA</td>\n",
              "      <td>35</td>\n",
              "      <td>55554-895</td>\n",
              "    </tr>\n",
              "    <tr>\n",
              "      <th>5</th>\n",
              "      <td>HH1138</td>\n",
              "      <td>RENAN</td>\n",
              "      <td>93</td>\n",
              "      <td>22267-789</td>\n",
              "    </tr>\n",
              "  </tbody>\n",
              "</table>\n",
              "</div>"
            ],
            "text/plain": [
              "       ID       NOME  IDADE        CEP\n",
              "0  AA3330    VITORIA     40  45637-098\n",
              "1  BB5663    EDUARDA     10  28478-897\n",
              "2  CC7639  CRISTIANO     40  88345-324\n",
              "3  DE3421      JULIA     80  33315-678\n",
              "4  GT9862    TATIANA     35  55554-895\n",
              "5  HH1138      RENAN     93  22267-789"
            ]
          },
          "metadata": {
            "tags": []
          },
          "execution_count": 47
        }
      ]
    },
    {
      "cell_type": "markdown",
      "metadata": {
        "id": "HAvMx09V6vVQ",
        "colab_type": "text"
      },
      "source": [
        "REGISTRO DE COMPRAS, QUE INCLUI AÇÕES FEITAS POR USUÁRIOS DAS DUAS LISTAS CADASTRADAS ACIMA :"
      ]
    },
    {
      "cell_type": "code",
      "metadata": {
        "id": "Swv4YeSb66E8",
        "colab_type": "code",
        "colab": {
          "base_uri": "https://localhost:8080/",
          "height": 233
        },
        "outputId": "1bc71f02-4802-407e-d139-fa1110a429d3"
      },
      "source": [
        "compras ={\"ID\":[\"AA2930\",\"BB4563\",\"CC2139\",\"DE3421\",\"GT9862\",\"HH6638\"],\n",
        "             \"DATA\":[\"2019-01-01\",\"2019-01-02\",\"2019-02-03\",\"2019-03-11\",\"2019-04-51\",\"2019-11-21\"],\n",
        "             \"VALOR\":[200,100,400,800,350,930]}\n",
        "\n",
        "compras= pd.DataFrame(compras,columns =[\"ID\",\"DATA\",\"VALOR\"])\n",
        "compras"
      ],
      "execution_count": 48,
      "outputs": [
        {
          "output_type": "execute_result",
          "data": {
            "text/html": [
              "<div>\n",
              "<style scoped>\n",
              "    .dataframe tbody tr th:only-of-type {\n",
              "        vertical-align: middle;\n",
              "    }\n",
              "\n",
              "    .dataframe tbody tr th {\n",
              "        vertical-align: top;\n",
              "    }\n",
              "\n",
              "    .dataframe thead th {\n",
              "        text-align: right;\n",
              "    }\n",
              "</style>\n",
              "<table border=\"1\" class=\"dataframe\">\n",
              "  <thead>\n",
              "    <tr style=\"text-align: right;\">\n",
              "      <th></th>\n",
              "      <th>ID</th>\n",
              "      <th>DATA</th>\n",
              "      <th>VALOR</th>\n",
              "    </tr>\n",
              "  </thead>\n",
              "  <tbody>\n",
              "    <tr>\n",
              "      <th>0</th>\n",
              "      <td>AA2930</td>\n",
              "      <td>2019-01-01</td>\n",
              "      <td>200</td>\n",
              "    </tr>\n",
              "    <tr>\n",
              "      <th>1</th>\n",
              "      <td>BB4563</td>\n",
              "      <td>2019-01-02</td>\n",
              "      <td>100</td>\n",
              "    </tr>\n",
              "    <tr>\n",
              "      <th>2</th>\n",
              "      <td>CC2139</td>\n",
              "      <td>2019-02-03</td>\n",
              "      <td>400</td>\n",
              "    </tr>\n",
              "    <tr>\n",
              "      <th>3</th>\n",
              "      <td>DE3421</td>\n",
              "      <td>2019-03-11</td>\n",
              "      <td>800</td>\n",
              "    </tr>\n",
              "    <tr>\n",
              "      <th>4</th>\n",
              "      <td>GT9862</td>\n",
              "      <td>2019-04-51</td>\n",
              "      <td>350</td>\n",
              "    </tr>\n",
              "    <tr>\n",
              "      <th>5</th>\n",
              "      <td>HH6638</td>\n",
              "      <td>2019-11-21</td>\n",
              "      <td>930</td>\n",
              "    </tr>\n",
              "  </tbody>\n",
              "</table>\n",
              "</div>"
            ],
            "text/plain": [
              "       ID        DATA  VALOR\n",
              "0  AA2930  2019-01-01    200\n",
              "1  BB4563  2019-01-02    100\n",
              "2  CC2139  2019-02-03    400\n",
              "3  DE3421  2019-03-11    800\n",
              "4  GT9862  2019-04-51    350\n",
              "5  HH6638  2019-11-21    930"
            ]
          },
          "metadata": {
            "tags": []
          },
          "execution_count": 48
        }
      ]
    },
    {
      "cell_type": "markdown",
      "metadata": {
        "id": "iLXQXWMo8ZS8",
        "colab_type": "text"
      },
      "source": [
        "#UTILIZANDO O COMANDO MERGE"
      ]
    },
    {
      "cell_type": "code",
      "metadata": {
        "id": "kzD3Dfu18dql",
        "colab_type": "code",
        "colab": {}
      },
      "source": [
        "#pd.merge(tabela_da_esquerda,tabela_da_direita, on=\"coluna_coincidente\", how=\"left|right|inner|outer\")\n",
        "#on -> Coluna onde quero fazer a análise\n",
        "#how -> tipo de filtro(tratamento), que vou utilizar"
      ],
      "execution_count": 49,
      "outputs": []
    },
    {
      "cell_type": "code",
      "metadata": {
        "id": "xDdiprxk9dt0",
        "colab_type": "code",
        "colab": {}
      },
      "source": [
        "?pd.merge()"
      ],
      "execution_count": 50,
      "outputs": []
    },
    {
      "cell_type": "markdown",
      "metadata": {
        "id": "RcdJG4bhA5cC",
        "colab_type": "text"
      },
      "source": [
        "# usando o \"INNER\"\n",
        "Supondo que eu queira descobrir se um determinado cliente frequenta as duas lojas, as quais tem o cadastro, como cadastro_a(loja A) cadastro_b(loja B).Ou seja quero encontrar a intersecção entre as duas tabelas/lojas. Neste caso coloco o valor \"inner\",com valor do parâmetro how, o inner funciona igual as consultas SQL."
      ]
    },
    {
      "cell_type": "code",
      "metadata": {
        "id": "JkunSRUWAFf3",
        "colab_type": "code",
        "colab": {
          "base_uri": "https://localhost:8080/",
          "height": 79
        },
        "outputId": "d4a013e6-b779-4232-9594-f1b4fc4c274d"
      },
      "source": [
        "pd.merge(cadastro_a,cadastro_b, on=[\"ID\"], how=\"inner\")\n",
        "# O resultado mostra que RENAN, frequenta tanto a loja A quanto a loja B, as letras \"x\" e \"y\", indicam as lojas, \n",
        "# no caso o \"x\" é referente a cadastro_a(loja A), e \"y\" está referenciando a cadastro_b(loja B)\n",
        "#Como é um comando \"inner\", ele mostra os dados das duas tabelas, referente a aquele cliente que frequenta as duas lojas"
      ],
      "execution_count": 51,
      "outputs": [
        {
          "output_type": "execute_result",
          "data": {
            "text/html": [
              "<div>\n",
              "<style scoped>\n",
              "    .dataframe tbody tr th:only-of-type {\n",
              "        vertical-align: middle;\n",
              "    }\n",
              "\n",
              "    .dataframe tbody tr th {\n",
              "        vertical-align: top;\n",
              "    }\n",
              "\n",
              "    .dataframe thead th {\n",
              "        text-align: right;\n",
              "    }\n",
              "</style>\n",
              "<table border=\"1\" class=\"dataframe\">\n",
              "  <thead>\n",
              "    <tr style=\"text-align: right;\">\n",
              "      <th></th>\n",
              "      <th>ID</th>\n",
              "      <th>NOME_x</th>\n",
              "      <th>IDADE_x</th>\n",
              "      <th>CEP_x</th>\n",
              "      <th>NOME_y</th>\n",
              "      <th>IDADE_y</th>\n",
              "      <th>CEP_y</th>\n",
              "    </tr>\n",
              "  </thead>\n",
              "  <tbody>\n",
              "    <tr>\n",
              "      <th>0</th>\n",
              "      <td>HH1138</td>\n",
              "      <td>RENAN</td>\n",
              "      <td>23</td>\n",
              "      <td>22267-789</td>\n",
              "      <td>RENAN</td>\n",
              "      <td>93</td>\n",
              "      <td>22267-789</td>\n",
              "    </tr>\n",
              "  </tbody>\n",
              "</table>\n",
              "</div>"
            ],
            "text/plain": [
              "       ID NOME_x  IDADE_x      CEP_x NOME_y  IDADE_y      CEP_y\n",
              "0  HH1138  RENAN       23  22267-789  RENAN       93  22267-789"
            ]
          },
          "metadata": {
            "tags": []
          },
          "execution_count": 51
        }
      ]
    },
    {
      "cell_type": "code",
      "metadata": {
        "id": "tP0nUMtGDsBm",
        "colab_type": "code",
        "colab": {
          "base_uri": "https://localhost:8080/",
          "height": 79
        },
        "outputId": "14fa14cd-33d2-43e3-ac5d-9737faaf3454"
      },
      "source": [
        "pd.merge(cadastro_a,cadastro_b[[\"ID\",\"IDADE\",\"CEP\"]], on=[\"ID\"], how=\"inner\")\n",
        "# CAso eu queira limitar ou filtrar apenas os campos de meu interesse na hora de filtrar como o comando \"inner\",\n",
        "# basta colocar entre colchetes os campos de interesse, dentro de outro colchete ao lado da tabela escolhida para fazer o filtro"
      ],
      "execution_count": 52,
      "outputs": [
        {
          "output_type": "execute_result",
          "data": {
            "text/html": [
              "<div>\n",
              "<style scoped>\n",
              "    .dataframe tbody tr th:only-of-type {\n",
              "        vertical-align: middle;\n",
              "    }\n",
              "\n",
              "    .dataframe tbody tr th {\n",
              "        vertical-align: top;\n",
              "    }\n",
              "\n",
              "    .dataframe thead th {\n",
              "        text-align: right;\n",
              "    }\n",
              "</style>\n",
              "<table border=\"1\" class=\"dataframe\">\n",
              "  <thead>\n",
              "    <tr style=\"text-align: right;\">\n",
              "      <th></th>\n",
              "      <th>ID</th>\n",
              "      <th>NOME</th>\n",
              "      <th>IDADE_x</th>\n",
              "      <th>CEP_x</th>\n",
              "      <th>IDADE_y</th>\n",
              "      <th>CEP_y</th>\n",
              "    </tr>\n",
              "  </thead>\n",
              "  <tbody>\n",
              "    <tr>\n",
              "      <th>0</th>\n",
              "      <td>HH1138</td>\n",
              "      <td>RENAN</td>\n",
              "      <td>23</td>\n",
              "      <td>22267-789</td>\n",
              "      <td>93</td>\n",
              "      <td>22267-789</td>\n",
              "    </tr>\n",
              "  </tbody>\n",
              "</table>\n",
              "</div>"
            ],
            "text/plain": [
              "       ID   NOME  IDADE_x      CEP_x  IDADE_y      CEP_y\n",
              "0  HH1138  RENAN       23  22267-789       93  22267-789"
            ]
          },
          "metadata": {
            "tags": []
          },
          "execution_count": 52
        }
      ]
    },
    {
      "cell_type": "code",
      "metadata": {
        "id": "P5rzp7H4EcEb",
        "colab_type": "code",
        "colab": {
          "base_uri": "https://localhost:8080/",
          "height": 79
        },
        "outputId": "34a0b551-4ad5-42be-aaa1-a069c33795b4"
      },
      "source": [
        "pd.merge(cadastro_a,cadastro_b[[\"ID\",\"IDADE\",\"CEP\"]], on=[\"ID\"], how=\"inner\",suffixes=(\"_A\",\"_B\"))\n",
        "#Caso quiser trocar estes sufixos \"_y\" ou \"_X\", que estão junto aos nomes das colunas da tabelas, basta atribuir os valores acima\n",
        "# ao parâmetro suffixes"
      ],
      "execution_count": 53,
      "outputs": [
        {
          "output_type": "execute_result",
          "data": {
            "text/html": [
              "<div>\n",
              "<style scoped>\n",
              "    .dataframe tbody tr th:only-of-type {\n",
              "        vertical-align: middle;\n",
              "    }\n",
              "\n",
              "    .dataframe tbody tr th {\n",
              "        vertical-align: top;\n",
              "    }\n",
              "\n",
              "    .dataframe thead th {\n",
              "        text-align: right;\n",
              "    }\n",
              "</style>\n",
              "<table border=\"1\" class=\"dataframe\">\n",
              "  <thead>\n",
              "    <tr style=\"text-align: right;\">\n",
              "      <th></th>\n",
              "      <th>ID</th>\n",
              "      <th>NOME</th>\n",
              "      <th>IDADE_A</th>\n",
              "      <th>CEP_A</th>\n",
              "      <th>IDADE_B</th>\n",
              "      <th>CEP_B</th>\n",
              "    </tr>\n",
              "  </thead>\n",
              "  <tbody>\n",
              "    <tr>\n",
              "      <th>0</th>\n",
              "      <td>HH1138</td>\n",
              "      <td>RENAN</td>\n",
              "      <td>23</td>\n",
              "      <td>22267-789</td>\n",
              "      <td>93</td>\n",
              "      <td>22267-789</td>\n",
              "    </tr>\n",
              "  </tbody>\n",
              "</table>\n",
              "</div>"
            ],
            "text/plain": [
              "       ID   NOME  IDADE_A      CEP_A  IDADE_B      CEP_B\n",
              "0  HH1138  RENAN       23  22267-789       93  22267-789"
            ]
          },
          "metadata": {
            "tags": []
          },
          "execution_count": 53
        }
      ]
    },
    {
      "cell_type": "markdown",
      "metadata": {
        "id": "wY4wuJ3RFz5G",
        "colab_type": "text"
      },
      "source": [
        "# Trabalhando com o Full join\n",
        "Funciona assim como no SQL, e trará as informações das duas tabelas"
      ]
    },
    {
      "cell_type": "code",
      "metadata": {
        "id": "A5ExPIB8GFp_",
        "colab_type": "code",
        "colab": {
          "base_uri": "https://localhost:8080/",
          "height": 417
        },
        "outputId": "8ada9df9-5f3c-40f4-fb76-b910773ddfab"
      },
      "source": [
        "# Podemos  fazer o mesmo processo do full join, com a função concat\n",
        "# Neste caso ele vai apenas juntar as duas \"lojas\", mas como há clientes que frequentam as duas lojas, esta junção trará dados duplicados\n",
        "pd.concat([cadastro_a,cadastro_b],ignore_index=True)"
      ],
      "execution_count": 54,
      "outputs": [
        {
          "output_type": "execute_result",
          "data": {
            "text/html": [
              "<div>\n",
              "<style scoped>\n",
              "    .dataframe tbody tr th:only-of-type {\n",
              "        vertical-align: middle;\n",
              "    }\n",
              "\n",
              "    .dataframe tbody tr th {\n",
              "        vertical-align: top;\n",
              "    }\n",
              "\n",
              "    .dataframe thead th {\n",
              "        text-align: right;\n",
              "    }\n",
              "</style>\n",
              "<table border=\"1\" class=\"dataframe\">\n",
              "  <thead>\n",
              "    <tr style=\"text-align: right;\">\n",
              "      <th></th>\n",
              "      <th>ID</th>\n",
              "      <th>NOME</th>\n",
              "      <th>IDADE</th>\n",
              "      <th>CEP</th>\n",
              "    </tr>\n",
              "  </thead>\n",
              "  <tbody>\n",
              "    <tr>\n",
              "      <th>0</th>\n",
              "      <td>AA2930</td>\n",
              "      <td>VICTOR</td>\n",
              "      <td>50</td>\n",
              "      <td>90890-098</td>\n",
              "    </tr>\n",
              "    <tr>\n",
              "      <th>1</th>\n",
              "      <td>BB4563</td>\n",
              "      <td>AMANDA</td>\n",
              "      <td>20</td>\n",
              "      <td>23478-897</td>\n",
              "    </tr>\n",
              "    <tr>\n",
              "      <th>2</th>\n",
              "      <td>CC2139</td>\n",
              "      <td>RENATO</td>\n",
              "      <td>30</td>\n",
              "      <td>12345-324</td>\n",
              "    </tr>\n",
              "    <tr>\n",
              "      <th>3</th>\n",
              "      <td>DE2521</td>\n",
              "      <td>ESTER</td>\n",
              "      <td>40</td>\n",
              "      <td>23415-678</td>\n",
              "    </tr>\n",
              "    <tr>\n",
              "      <th>4</th>\n",
              "      <td>GT3462</td>\n",
              "      <td>REGINA</td>\n",
              "      <td>25</td>\n",
              "      <td>12354-895</td>\n",
              "    </tr>\n",
              "    <tr>\n",
              "      <th>5</th>\n",
              "      <td>HH1138</td>\n",
              "      <td>RENAN</td>\n",
              "      <td>23</td>\n",
              "      <td>22267-789</td>\n",
              "    </tr>\n",
              "    <tr>\n",
              "      <th>6</th>\n",
              "      <td>AA3330</td>\n",
              "      <td>VITORIA</td>\n",
              "      <td>40</td>\n",
              "      <td>45637-098</td>\n",
              "    </tr>\n",
              "    <tr>\n",
              "      <th>7</th>\n",
              "      <td>BB5663</td>\n",
              "      <td>EDUARDA</td>\n",
              "      <td>10</td>\n",
              "      <td>28478-897</td>\n",
              "    </tr>\n",
              "    <tr>\n",
              "      <th>8</th>\n",
              "      <td>CC7639</td>\n",
              "      <td>CRISTIANO</td>\n",
              "      <td>40</td>\n",
              "      <td>88345-324</td>\n",
              "    </tr>\n",
              "    <tr>\n",
              "      <th>9</th>\n",
              "      <td>DE3421</td>\n",
              "      <td>JULIA</td>\n",
              "      <td>80</td>\n",
              "      <td>33315-678</td>\n",
              "    </tr>\n",
              "    <tr>\n",
              "      <th>10</th>\n",
              "      <td>GT9862</td>\n",
              "      <td>TATIANA</td>\n",
              "      <td>35</td>\n",
              "      <td>55554-895</td>\n",
              "    </tr>\n",
              "    <tr>\n",
              "      <th>11</th>\n",
              "      <td>HH1138</td>\n",
              "      <td>RENAN</td>\n",
              "      <td>93</td>\n",
              "      <td>22267-789</td>\n",
              "    </tr>\n",
              "  </tbody>\n",
              "</table>\n",
              "</div>"
            ],
            "text/plain": [
              "        ID       NOME  IDADE        CEP\n",
              "0   AA2930     VICTOR     50  90890-098\n",
              "1   BB4563     AMANDA     20  23478-897\n",
              "2   CC2139     RENATO     30  12345-324\n",
              "3   DE2521      ESTER     40  23415-678\n",
              "4   GT3462     REGINA     25  12354-895\n",
              "5   HH1138      RENAN     23  22267-789\n",
              "6   AA3330    VITORIA     40  45637-098\n",
              "7   BB5663    EDUARDA     10  28478-897\n",
              "8   CC7639  CRISTIANO     40  88345-324\n",
              "9   DE3421      JULIA     80  33315-678\n",
              "10  GT9862    TATIANA     35  55554-895\n",
              "11  HH1138      RENAN     93  22267-789"
            ]
          },
          "metadata": {
            "tags": []
          },
          "execution_count": 54
        }
      ]
    },
    {
      "cell_type": "code",
      "metadata": {
        "id": "lYYOulBQHcQO",
        "colab_type": "code",
        "colab": {
          "base_uri": "https://localhost:8080/",
          "height": 386
        },
        "outputId": "33dce218-6d54-46be-b58e-6850606f9179"
      },
      "source": [
        "# Agora vou apagar os dados duplicados  na tabela\n",
        "lojas_juntas =pd.concat([cadastro_a,cadastro_b],ignore_index=True)\n",
        "clientes_unicos =lojas_juntas.drop_duplicates(subset='ID')\n",
        "clientes_unicos"
      ],
      "execution_count": 55,
      "outputs": [
        {
          "output_type": "execute_result",
          "data": {
            "text/html": [
              "<div>\n",
              "<style scoped>\n",
              "    .dataframe tbody tr th:only-of-type {\n",
              "        vertical-align: middle;\n",
              "    }\n",
              "\n",
              "    .dataframe tbody tr th {\n",
              "        vertical-align: top;\n",
              "    }\n",
              "\n",
              "    .dataframe thead th {\n",
              "        text-align: right;\n",
              "    }\n",
              "</style>\n",
              "<table border=\"1\" class=\"dataframe\">\n",
              "  <thead>\n",
              "    <tr style=\"text-align: right;\">\n",
              "      <th></th>\n",
              "      <th>ID</th>\n",
              "      <th>NOME</th>\n",
              "      <th>IDADE</th>\n",
              "      <th>CEP</th>\n",
              "    </tr>\n",
              "  </thead>\n",
              "  <tbody>\n",
              "    <tr>\n",
              "      <th>0</th>\n",
              "      <td>AA2930</td>\n",
              "      <td>VICTOR</td>\n",
              "      <td>50</td>\n",
              "      <td>90890-098</td>\n",
              "    </tr>\n",
              "    <tr>\n",
              "      <th>1</th>\n",
              "      <td>BB4563</td>\n",
              "      <td>AMANDA</td>\n",
              "      <td>20</td>\n",
              "      <td>23478-897</td>\n",
              "    </tr>\n",
              "    <tr>\n",
              "      <th>2</th>\n",
              "      <td>CC2139</td>\n",
              "      <td>RENATO</td>\n",
              "      <td>30</td>\n",
              "      <td>12345-324</td>\n",
              "    </tr>\n",
              "    <tr>\n",
              "      <th>3</th>\n",
              "      <td>DE2521</td>\n",
              "      <td>ESTER</td>\n",
              "      <td>40</td>\n",
              "      <td>23415-678</td>\n",
              "    </tr>\n",
              "    <tr>\n",
              "      <th>4</th>\n",
              "      <td>GT3462</td>\n",
              "      <td>REGINA</td>\n",
              "      <td>25</td>\n",
              "      <td>12354-895</td>\n",
              "    </tr>\n",
              "    <tr>\n",
              "      <th>5</th>\n",
              "      <td>HH1138</td>\n",
              "      <td>RENAN</td>\n",
              "      <td>23</td>\n",
              "      <td>22267-789</td>\n",
              "    </tr>\n",
              "    <tr>\n",
              "      <th>6</th>\n",
              "      <td>AA3330</td>\n",
              "      <td>VITORIA</td>\n",
              "      <td>40</td>\n",
              "      <td>45637-098</td>\n",
              "    </tr>\n",
              "    <tr>\n",
              "      <th>7</th>\n",
              "      <td>BB5663</td>\n",
              "      <td>EDUARDA</td>\n",
              "      <td>10</td>\n",
              "      <td>28478-897</td>\n",
              "    </tr>\n",
              "    <tr>\n",
              "      <th>8</th>\n",
              "      <td>CC7639</td>\n",
              "      <td>CRISTIANO</td>\n",
              "      <td>40</td>\n",
              "      <td>88345-324</td>\n",
              "    </tr>\n",
              "    <tr>\n",
              "      <th>9</th>\n",
              "      <td>DE3421</td>\n",
              "      <td>JULIA</td>\n",
              "      <td>80</td>\n",
              "      <td>33315-678</td>\n",
              "    </tr>\n",
              "    <tr>\n",
              "      <th>10</th>\n",
              "      <td>GT9862</td>\n",
              "      <td>TATIANA</td>\n",
              "      <td>35</td>\n",
              "      <td>55554-895</td>\n",
              "    </tr>\n",
              "  </tbody>\n",
              "</table>\n",
              "</div>"
            ],
            "text/plain": [
              "        ID       NOME  IDADE        CEP\n",
              "0   AA2930     VICTOR     50  90890-098\n",
              "1   BB4563     AMANDA     20  23478-897\n",
              "2   CC2139     RENATO     30  12345-324\n",
              "3   DE2521      ESTER     40  23415-678\n",
              "4   GT3462     REGINA     25  12354-895\n",
              "5   HH1138      RENAN     23  22267-789\n",
              "6   AA3330    VITORIA     40  45637-098\n",
              "7   BB5663    EDUARDA     10  28478-897\n",
              "8   CC7639  CRISTIANO     40  88345-324\n",
              "9   DE3421      JULIA     80  33315-678\n",
              "10  GT9862    TATIANA     35  55554-895"
            ]
          },
          "metadata": {
            "tags": []
          },
          "execution_count": 55
        }
      ]
    },
    {
      "cell_type": "markdown",
      "metadata": {
        "id": "eskKl3baN4WN",
        "colab_type": "text"
      },
      "source": [
        "# Utilizando o left join\n"
      ]
    },
    {
      "cell_type": "code",
      "metadata": {
        "id": "1UgKjg3DN_wc",
        "colab_type": "code",
        "colab": {
          "base_uri": "https://localhost:8080/",
          "height": 233
        },
        "outputId": "9b7ab282-7461-4c29-e8f6-99f02542ae6a"
      },
      "source": [
        "pd.merge(cadastro_a,compras, on=[\"ID\"], how=\"left\")\n",
        "# Neste caso queremos pegar algumas informações específicas da tabela compras e juntar com a tabela cadastro_a.\n",
        "# Queremos saber dos  clientes que fizeram compras  estão cadastrados da loja A"
      ],
      "execution_count": 56,
      "outputs": [
        {
          "output_type": "execute_result",
          "data": {
            "text/html": [
              "<div>\n",
              "<style scoped>\n",
              "    .dataframe tbody tr th:only-of-type {\n",
              "        vertical-align: middle;\n",
              "    }\n",
              "\n",
              "    .dataframe tbody tr th {\n",
              "        vertical-align: top;\n",
              "    }\n",
              "\n",
              "    .dataframe thead th {\n",
              "        text-align: right;\n",
              "    }\n",
              "</style>\n",
              "<table border=\"1\" class=\"dataframe\">\n",
              "  <thead>\n",
              "    <tr style=\"text-align: right;\">\n",
              "      <th></th>\n",
              "      <th>ID</th>\n",
              "      <th>NOME</th>\n",
              "      <th>IDADE</th>\n",
              "      <th>CEP</th>\n",
              "      <th>DATA</th>\n",
              "      <th>VALOR</th>\n",
              "    </tr>\n",
              "  </thead>\n",
              "  <tbody>\n",
              "    <tr>\n",
              "      <th>0</th>\n",
              "      <td>AA2930</td>\n",
              "      <td>VICTOR</td>\n",
              "      <td>50</td>\n",
              "      <td>90890-098</td>\n",
              "      <td>2019-01-01</td>\n",
              "      <td>200.0</td>\n",
              "    </tr>\n",
              "    <tr>\n",
              "      <th>1</th>\n",
              "      <td>BB4563</td>\n",
              "      <td>AMANDA</td>\n",
              "      <td>20</td>\n",
              "      <td>23478-897</td>\n",
              "      <td>2019-01-02</td>\n",
              "      <td>100.0</td>\n",
              "    </tr>\n",
              "    <tr>\n",
              "      <th>2</th>\n",
              "      <td>CC2139</td>\n",
              "      <td>RENATO</td>\n",
              "      <td>30</td>\n",
              "      <td>12345-324</td>\n",
              "      <td>2019-02-03</td>\n",
              "      <td>400.0</td>\n",
              "    </tr>\n",
              "    <tr>\n",
              "      <th>3</th>\n",
              "      <td>DE2521</td>\n",
              "      <td>ESTER</td>\n",
              "      <td>40</td>\n",
              "      <td>23415-678</td>\n",
              "      <td>NaN</td>\n",
              "      <td>NaN</td>\n",
              "    </tr>\n",
              "    <tr>\n",
              "      <th>4</th>\n",
              "      <td>GT3462</td>\n",
              "      <td>REGINA</td>\n",
              "      <td>25</td>\n",
              "      <td>12354-895</td>\n",
              "      <td>NaN</td>\n",
              "      <td>NaN</td>\n",
              "    </tr>\n",
              "    <tr>\n",
              "      <th>5</th>\n",
              "      <td>HH1138</td>\n",
              "      <td>RENAN</td>\n",
              "      <td>23</td>\n",
              "      <td>22267-789</td>\n",
              "      <td>NaN</td>\n",
              "      <td>NaN</td>\n",
              "    </tr>\n",
              "  </tbody>\n",
              "</table>\n",
              "</div>"
            ],
            "text/plain": [
              "       ID    NOME  IDADE        CEP        DATA  VALOR\n",
              "0  AA2930  VICTOR     50  90890-098  2019-01-01  200.0\n",
              "1  BB4563  AMANDA     20  23478-897  2019-01-02  100.0\n",
              "2  CC2139  RENATO     30  12345-324  2019-02-03  400.0\n",
              "3  DE2521   ESTER     40  23415-678         NaN    NaN\n",
              "4  GT3462  REGINA     25  12354-895         NaN    NaN\n",
              "5  HH1138   RENAN     23  22267-789         NaN    NaN"
            ]
          },
          "metadata": {
            "tags": []
          },
          "execution_count": 56
        }
      ]
    },
    {
      "cell_type": "code",
      "metadata": {
        "id": "ztYHNIpOQK_U",
        "colab_type": "code",
        "colab": {
          "base_uri": "https://localhost:8080/",
          "height": 233
        },
        "outputId": "2278e364-8c54-4495-8321-e7aeb5e7bd47"
      },
      "source": [
        "compras"
      ],
      "execution_count": 57,
      "outputs": [
        {
          "output_type": "execute_result",
          "data": {
            "text/html": [
              "<div>\n",
              "<style scoped>\n",
              "    .dataframe tbody tr th:only-of-type {\n",
              "        vertical-align: middle;\n",
              "    }\n",
              "\n",
              "    .dataframe tbody tr th {\n",
              "        vertical-align: top;\n",
              "    }\n",
              "\n",
              "    .dataframe thead th {\n",
              "        text-align: right;\n",
              "    }\n",
              "</style>\n",
              "<table border=\"1\" class=\"dataframe\">\n",
              "  <thead>\n",
              "    <tr style=\"text-align: right;\">\n",
              "      <th></th>\n",
              "      <th>ID</th>\n",
              "      <th>DATA</th>\n",
              "      <th>VALOR</th>\n",
              "    </tr>\n",
              "  </thead>\n",
              "  <tbody>\n",
              "    <tr>\n",
              "      <th>0</th>\n",
              "      <td>AA2930</td>\n",
              "      <td>2019-01-01</td>\n",
              "      <td>200</td>\n",
              "    </tr>\n",
              "    <tr>\n",
              "      <th>1</th>\n",
              "      <td>BB4563</td>\n",
              "      <td>2019-01-02</td>\n",
              "      <td>100</td>\n",
              "    </tr>\n",
              "    <tr>\n",
              "      <th>2</th>\n",
              "      <td>CC2139</td>\n",
              "      <td>2019-02-03</td>\n",
              "      <td>400</td>\n",
              "    </tr>\n",
              "    <tr>\n",
              "      <th>3</th>\n",
              "      <td>DE3421</td>\n",
              "      <td>2019-03-11</td>\n",
              "      <td>800</td>\n",
              "    </tr>\n",
              "    <tr>\n",
              "      <th>4</th>\n",
              "      <td>GT9862</td>\n",
              "      <td>2019-04-51</td>\n",
              "      <td>350</td>\n",
              "    </tr>\n",
              "    <tr>\n",
              "      <th>5</th>\n",
              "      <td>HH6638</td>\n",
              "      <td>2019-11-21</td>\n",
              "      <td>930</td>\n",
              "    </tr>\n",
              "  </tbody>\n",
              "</table>\n",
              "</div>"
            ],
            "text/plain": [
              "       ID        DATA  VALOR\n",
              "0  AA2930  2019-01-01    200\n",
              "1  BB4563  2019-01-02    100\n",
              "2  CC2139  2019-02-03    400\n",
              "3  DE3421  2019-03-11    800\n",
              "4  GT9862  2019-04-51    350\n",
              "5  HH6638  2019-11-21    930"
            ]
          },
          "metadata": {
            "tags": []
          },
          "execution_count": 57
        }
      ]
    },
    {
      "cell_type": "code",
      "metadata": {
        "id": "HZW-vgIeQRAO",
        "colab_type": "code",
        "colab": {
          "base_uri": "https://localhost:8080/",
          "height": 233
        },
        "outputId": "4d01e002-f23a-4344-ef31-a1c1e312ae54"
      },
      "source": [
        "cadastro_a"
      ],
      "execution_count": 58,
      "outputs": [
        {
          "output_type": "execute_result",
          "data": {
            "text/html": [
              "<div>\n",
              "<style scoped>\n",
              "    .dataframe tbody tr th:only-of-type {\n",
              "        vertical-align: middle;\n",
              "    }\n",
              "\n",
              "    .dataframe tbody tr th {\n",
              "        vertical-align: top;\n",
              "    }\n",
              "\n",
              "    .dataframe thead th {\n",
              "        text-align: right;\n",
              "    }\n",
              "</style>\n",
              "<table border=\"1\" class=\"dataframe\">\n",
              "  <thead>\n",
              "    <tr style=\"text-align: right;\">\n",
              "      <th></th>\n",
              "      <th>ID</th>\n",
              "      <th>NOME</th>\n",
              "      <th>IDADE</th>\n",
              "      <th>CEP</th>\n",
              "    </tr>\n",
              "  </thead>\n",
              "  <tbody>\n",
              "    <tr>\n",
              "      <th>0</th>\n",
              "      <td>AA2930</td>\n",
              "      <td>VICTOR</td>\n",
              "      <td>50</td>\n",
              "      <td>90890-098</td>\n",
              "    </tr>\n",
              "    <tr>\n",
              "      <th>1</th>\n",
              "      <td>BB4563</td>\n",
              "      <td>AMANDA</td>\n",
              "      <td>20</td>\n",
              "      <td>23478-897</td>\n",
              "    </tr>\n",
              "    <tr>\n",
              "      <th>2</th>\n",
              "      <td>CC2139</td>\n",
              "      <td>RENATO</td>\n",
              "      <td>30</td>\n",
              "      <td>12345-324</td>\n",
              "    </tr>\n",
              "    <tr>\n",
              "      <th>3</th>\n",
              "      <td>DE2521</td>\n",
              "      <td>ESTER</td>\n",
              "      <td>40</td>\n",
              "      <td>23415-678</td>\n",
              "    </tr>\n",
              "    <tr>\n",
              "      <th>4</th>\n",
              "      <td>GT3462</td>\n",
              "      <td>REGINA</td>\n",
              "      <td>25</td>\n",
              "      <td>12354-895</td>\n",
              "    </tr>\n",
              "    <tr>\n",
              "      <th>5</th>\n",
              "      <td>HH1138</td>\n",
              "      <td>RENAN</td>\n",
              "      <td>23</td>\n",
              "      <td>22267-789</td>\n",
              "    </tr>\n",
              "  </tbody>\n",
              "</table>\n",
              "</div>"
            ],
            "text/plain": [
              "       ID    NOME  IDADE        CEP\n",
              "0  AA2930  VICTOR     50  90890-098\n",
              "1  BB4563  AMANDA     20  23478-897\n",
              "2  CC2139  RENATO     30  12345-324\n",
              "3  DE2521   ESTER     40  23415-678\n",
              "4  GT3462  REGINA     25  12354-895\n",
              "5  HH1138   RENAN     23  22267-789"
            ]
          },
          "metadata": {
            "tags": []
          },
          "execution_count": 58
        }
      ]
    },
    {
      "cell_type": "code",
      "metadata": {
        "id": "H3wPzkBZPTMJ",
        "colab_type": "code",
        "colab": {}
      },
      "source": [
        "#neste caso ele vai buscar pelo \"id\", os clientes que tem compras e que frequentam a loja A, \n",
        "#os que aparecem com o valor NaN, são daqueles que não frequentam a loja A"
      ],
      "execution_count": 59,
      "outputs": []
    },
    {
      "cell_type": "code",
      "metadata": {
        "id": "WFCEXcdkQ5lK",
        "colab_type": "code",
        "colab": {}
      },
      "source": [
        "esquerda=pd.merge(cadastro_a,compras, on=[\"ID\"], how=\"left\")"
      ],
      "execution_count": 60,
      "outputs": []
    },
    {
      "cell_type": "code",
      "metadata": {
        "id": "mUwwPVRuRPA0",
        "colab_type": "code",
        "colab": {
          "base_uri": "https://localhost:8080/",
          "height": 156
        },
        "outputId": "542ef9dc-d68f-4e9c-dabc-65175de9c439"
      },
      "source": [
        "esquerda.groupby([\"ID\",\"NOME\"])[\"VALOR\"].sum()\n",
        "# Neste caso, estou agrupando no dataframe esquerda, o \"id\" e \"nome\", junto com a coluna valor, somando o gasto individual de cada cliente\n",
        "# Os que estão zerados, são os que não tinham compras cadastradas"
      ],
      "execution_count": 61,
      "outputs": [
        {
          "output_type": "execute_result",
          "data": {
            "text/plain": [
              "ID      NOME  \n",
              "AA2930  VICTOR    200.0\n",
              "BB4563  AMANDA    100.0\n",
              "CC2139  RENATO    400.0\n",
              "DE2521  ESTER       0.0\n",
              "GT3462  REGINA      0.0\n",
              "HH1138  RENAN       0.0\n",
              "Name: VALOR, dtype: float64"
            ]
          },
          "metadata": {
            "tags": []
          },
          "execution_count": 61
        }
      ]
    },
    {
      "cell_type": "markdown",
      "metadata": {
        "id": "IvBcXhNKSuU-",
        "colab_type": "text"
      },
      "source": [
        "#Aplicando o Outer"
      ]
    },
    {
      "cell_type": "code",
      "metadata": {
        "id": "2QgFM5-HSyme",
        "colab_type": "code",
        "colab": {
          "base_uri": "https://localhost:8080/",
          "height": 386
        },
        "outputId": "f57218e7-0124-47dc-af90-20e0b8601262"
      },
      "source": [
        "pd.merge(cadastro_a,cadastro_b, on=[\"ID\"], how=\"outer\")\n",
        "#Neste caso junto as duas tabelas, onde  o cliente faz compra nas duas lojas, terá registro duplicado, onde não houver vica NaN"
      ],
      "execution_count": 62,
      "outputs": [
        {
          "output_type": "execute_result",
          "data": {
            "text/html": [
              "<div>\n",
              "<style scoped>\n",
              "    .dataframe tbody tr th:only-of-type {\n",
              "        vertical-align: middle;\n",
              "    }\n",
              "\n",
              "    .dataframe tbody tr th {\n",
              "        vertical-align: top;\n",
              "    }\n",
              "\n",
              "    .dataframe thead th {\n",
              "        text-align: right;\n",
              "    }\n",
              "</style>\n",
              "<table border=\"1\" class=\"dataframe\">\n",
              "  <thead>\n",
              "    <tr style=\"text-align: right;\">\n",
              "      <th></th>\n",
              "      <th>ID</th>\n",
              "      <th>NOME_x</th>\n",
              "      <th>IDADE_x</th>\n",
              "      <th>CEP_x</th>\n",
              "      <th>NOME_y</th>\n",
              "      <th>IDADE_y</th>\n",
              "      <th>CEP_y</th>\n",
              "    </tr>\n",
              "  </thead>\n",
              "  <tbody>\n",
              "    <tr>\n",
              "      <th>0</th>\n",
              "      <td>AA2930</td>\n",
              "      <td>VICTOR</td>\n",
              "      <td>50.0</td>\n",
              "      <td>90890-098</td>\n",
              "      <td>NaN</td>\n",
              "      <td>NaN</td>\n",
              "      <td>NaN</td>\n",
              "    </tr>\n",
              "    <tr>\n",
              "      <th>1</th>\n",
              "      <td>BB4563</td>\n",
              "      <td>AMANDA</td>\n",
              "      <td>20.0</td>\n",
              "      <td>23478-897</td>\n",
              "      <td>NaN</td>\n",
              "      <td>NaN</td>\n",
              "      <td>NaN</td>\n",
              "    </tr>\n",
              "    <tr>\n",
              "      <th>2</th>\n",
              "      <td>CC2139</td>\n",
              "      <td>RENATO</td>\n",
              "      <td>30.0</td>\n",
              "      <td>12345-324</td>\n",
              "      <td>NaN</td>\n",
              "      <td>NaN</td>\n",
              "      <td>NaN</td>\n",
              "    </tr>\n",
              "    <tr>\n",
              "      <th>3</th>\n",
              "      <td>DE2521</td>\n",
              "      <td>ESTER</td>\n",
              "      <td>40.0</td>\n",
              "      <td>23415-678</td>\n",
              "      <td>NaN</td>\n",
              "      <td>NaN</td>\n",
              "      <td>NaN</td>\n",
              "    </tr>\n",
              "    <tr>\n",
              "      <th>4</th>\n",
              "      <td>GT3462</td>\n",
              "      <td>REGINA</td>\n",
              "      <td>25.0</td>\n",
              "      <td>12354-895</td>\n",
              "      <td>NaN</td>\n",
              "      <td>NaN</td>\n",
              "      <td>NaN</td>\n",
              "    </tr>\n",
              "    <tr>\n",
              "      <th>5</th>\n",
              "      <td>HH1138</td>\n",
              "      <td>RENAN</td>\n",
              "      <td>23.0</td>\n",
              "      <td>22267-789</td>\n",
              "      <td>RENAN</td>\n",
              "      <td>93.0</td>\n",
              "      <td>22267-789</td>\n",
              "    </tr>\n",
              "    <tr>\n",
              "      <th>6</th>\n",
              "      <td>AA3330</td>\n",
              "      <td>NaN</td>\n",
              "      <td>NaN</td>\n",
              "      <td>NaN</td>\n",
              "      <td>VITORIA</td>\n",
              "      <td>40.0</td>\n",
              "      <td>45637-098</td>\n",
              "    </tr>\n",
              "    <tr>\n",
              "      <th>7</th>\n",
              "      <td>BB5663</td>\n",
              "      <td>NaN</td>\n",
              "      <td>NaN</td>\n",
              "      <td>NaN</td>\n",
              "      <td>EDUARDA</td>\n",
              "      <td>10.0</td>\n",
              "      <td>28478-897</td>\n",
              "    </tr>\n",
              "    <tr>\n",
              "      <th>8</th>\n",
              "      <td>CC7639</td>\n",
              "      <td>NaN</td>\n",
              "      <td>NaN</td>\n",
              "      <td>NaN</td>\n",
              "      <td>CRISTIANO</td>\n",
              "      <td>40.0</td>\n",
              "      <td>88345-324</td>\n",
              "    </tr>\n",
              "    <tr>\n",
              "      <th>9</th>\n",
              "      <td>DE3421</td>\n",
              "      <td>NaN</td>\n",
              "      <td>NaN</td>\n",
              "      <td>NaN</td>\n",
              "      <td>JULIA</td>\n",
              "      <td>80.0</td>\n",
              "      <td>33315-678</td>\n",
              "    </tr>\n",
              "    <tr>\n",
              "      <th>10</th>\n",
              "      <td>GT9862</td>\n",
              "      <td>NaN</td>\n",
              "      <td>NaN</td>\n",
              "      <td>NaN</td>\n",
              "      <td>TATIANA</td>\n",
              "      <td>35.0</td>\n",
              "      <td>55554-895</td>\n",
              "    </tr>\n",
              "  </tbody>\n",
              "</table>\n",
              "</div>"
            ],
            "text/plain": [
              "        ID  NOME_x  IDADE_x      CEP_x     NOME_y  IDADE_y      CEP_y\n",
              "0   AA2930  VICTOR     50.0  90890-098        NaN      NaN        NaN\n",
              "1   BB4563  AMANDA     20.0  23478-897        NaN      NaN        NaN\n",
              "2   CC2139  RENATO     30.0  12345-324        NaN      NaN        NaN\n",
              "3   DE2521   ESTER     40.0  23415-678        NaN      NaN        NaN\n",
              "4   GT3462  REGINA     25.0  12354-895        NaN      NaN        NaN\n",
              "5   HH1138   RENAN     23.0  22267-789      RENAN     93.0  22267-789\n",
              "6   AA3330     NaN      NaN        NaN    VITORIA     40.0  45637-098\n",
              "7   BB5663     NaN      NaN        NaN    EDUARDA     10.0  28478-897\n",
              "8   CC7639     NaN      NaN        NaN  CRISTIANO     40.0  88345-324\n",
              "9   DE3421     NaN      NaN        NaN      JULIA     80.0  33315-678\n",
              "10  GT9862     NaN      NaN        NaN    TATIANA     35.0  55554-895"
            ]
          },
          "metadata": {
            "tags": []
          },
          "execution_count": 62
        }
      ]
    },
    {
      "cell_type": "code",
      "metadata": {
        "id": "2Gf1cw3DTyeW",
        "colab_type": "code",
        "colab": {
          "base_uri": "https://localhost:8080/",
          "height": 386
        },
        "outputId": "9b55b79c-f386-4bb7-88f9-5bf1baecfd6d"
      },
      "source": [
        "pd.merge(cadastro_a,cadastro_b, on=[\"ID\"], how=\"outer\",indicator=True)\n",
        "# Se colocarmos o atributo indicator, com valor true ele irá inserir uma coluna como o nome \"merge\", e esta terá a indicação\n",
        "# se o valor está na tabela da direita ou esquerda\n"
      ],
      "execution_count": 63,
      "outputs": [
        {
          "output_type": "execute_result",
          "data": {
            "text/html": [
              "<div>\n",
              "<style scoped>\n",
              "    .dataframe tbody tr th:only-of-type {\n",
              "        vertical-align: middle;\n",
              "    }\n",
              "\n",
              "    .dataframe tbody tr th {\n",
              "        vertical-align: top;\n",
              "    }\n",
              "\n",
              "    .dataframe thead th {\n",
              "        text-align: right;\n",
              "    }\n",
              "</style>\n",
              "<table border=\"1\" class=\"dataframe\">\n",
              "  <thead>\n",
              "    <tr style=\"text-align: right;\">\n",
              "      <th></th>\n",
              "      <th>ID</th>\n",
              "      <th>NOME_x</th>\n",
              "      <th>IDADE_x</th>\n",
              "      <th>CEP_x</th>\n",
              "      <th>NOME_y</th>\n",
              "      <th>IDADE_y</th>\n",
              "      <th>CEP_y</th>\n",
              "      <th>_merge</th>\n",
              "    </tr>\n",
              "  </thead>\n",
              "  <tbody>\n",
              "    <tr>\n",
              "      <th>0</th>\n",
              "      <td>AA2930</td>\n",
              "      <td>VICTOR</td>\n",
              "      <td>50.0</td>\n",
              "      <td>90890-098</td>\n",
              "      <td>NaN</td>\n",
              "      <td>NaN</td>\n",
              "      <td>NaN</td>\n",
              "      <td>left_only</td>\n",
              "    </tr>\n",
              "    <tr>\n",
              "      <th>1</th>\n",
              "      <td>BB4563</td>\n",
              "      <td>AMANDA</td>\n",
              "      <td>20.0</td>\n",
              "      <td>23478-897</td>\n",
              "      <td>NaN</td>\n",
              "      <td>NaN</td>\n",
              "      <td>NaN</td>\n",
              "      <td>left_only</td>\n",
              "    </tr>\n",
              "    <tr>\n",
              "      <th>2</th>\n",
              "      <td>CC2139</td>\n",
              "      <td>RENATO</td>\n",
              "      <td>30.0</td>\n",
              "      <td>12345-324</td>\n",
              "      <td>NaN</td>\n",
              "      <td>NaN</td>\n",
              "      <td>NaN</td>\n",
              "      <td>left_only</td>\n",
              "    </tr>\n",
              "    <tr>\n",
              "      <th>3</th>\n",
              "      <td>DE2521</td>\n",
              "      <td>ESTER</td>\n",
              "      <td>40.0</td>\n",
              "      <td>23415-678</td>\n",
              "      <td>NaN</td>\n",
              "      <td>NaN</td>\n",
              "      <td>NaN</td>\n",
              "      <td>left_only</td>\n",
              "    </tr>\n",
              "    <tr>\n",
              "      <th>4</th>\n",
              "      <td>GT3462</td>\n",
              "      <td>REGINA</td>\n",
              "      <td>25.0</td>\n",
              "      <td>12354-895</td>\n",
              "      <td>NaN</td>\n",
              "      <td>NaN</td>\n",
              "      <td>NaN</td>\n",
              "      <td>left_only</td>\n",
              "    </tr>\n",
              "    <tr>\n",
              "      <th>5</th>\n",
              "      <td>HH1138</td>\n",
              "      <td>RENAN</td>\n",
              "      <td>23.0</td>\n",
              "      <td>22267-789</td>\n",
              "      <td>RENAN</td>\n",
              "      <td>93.0</td>\n",
              "      <td>22267-789</td>\n",
              "      <td>both</td>\n",
              "    </tr>\n",
              "    <tr>\n",
              "      <th>6</th>\n",
              "      <td>AA3330</td>\n",
              "      <td>NaN</td>\n",
              "      <td>NaN</td>\n",
              "      <td>NaN</td>\n",
              "      <td>VITORIA</td>\n",
              "      <td>40.0</td>\n",
              "      <td>45637-098</td>\n",
              "      <td>right_only</td>\n",
              "    </tr>\n",
              "    <tr>\n",
              "      <th>7</th>\n",
              "      <td>BB5663</td>\n",
              "      <td>NaN</td>\n",
              "      <td>NaN</td>\n",
              "      <td>NaN</td>\n",
              "      <td>EDUARDA</td>\n",
              "      <td>10.0</td>\n",
              "      <td>28478-897</td>\n",
              "      <td>right_only</td>\n",
              "    </tr>\n",
              "    <tr>\n",
              "      <th>8</th>\n",
              "      <td>CC7639</td>\n",
              "      <td>NaN</td>\n",
              "      <td>NaN</td>\n",
              "      <td>NaN</td>\n",
              "      <td>CRISTIANO</td>\n",
              "      <td>40.0</td>\n",
              "      <td>88345-324</td>\n",
              "      <td>right_only</td>\n",
              "    </tr>\n",
              "    <tr>\n",
              "      <th>9</th>\n",
              "      <td>DE3421</td>\n",
              "      <td>NaN</td>\n",
              "      <td>NaN</td>\n",
              "      <td>NaN</td>\n",
              "      <td>JULIA</td>\n",
              "      <td>80.0</td>\n",
              "      <td>33315-678</td>\n",
              "      <td>right_only</td>\n",
              "    </tr>\n",
              "    <tr>\n",
              "      <th>10</th>\n",
              "      <td>GT9862</td>\n",
              "      <td>NaN</td>\n",
              "      <td>NaN</td>\n",
              "      <td>NaN</td>\n",
              "      <td>TATIANA</td>\n",
              "      <td>35.0</td>\n",
              "      <td>55554-895</td>\n",
              "      <td>right_only</td>\n",
              "    </tr>\n",
              "  </tbody>\n",
              "</table>\n",
              "</div>"
            ],
            "text/plain": [
              "        ID  NOME_x  IDADE_x  ... IDADE_y      CEP_y      _merge\n",
              "0   AA2930  VICTOR     50.0  ...     NaN        NaN   left_only\n",
              "1   BB4563  AMANDA     20.0  ...     NaN        NaN   left_only\n",
              "2   CC2139  RENATO     30.0  ...     NaN        NaN   left_only\n",
              "3   DE2521   ESTER     40.0  ...     NaN        NaN   left_only\n",
              "4   GT3462  REGINA     25.0  ...     NaN        NaN   left_only\n",
              "5   HH1138   RENAN     23.0  ...    93.0  22267-789        both\n",
              "6   AA3330     NaN      NaN  ...    40.0  45637-098  right_only\n",
              "7   BB5663     NaN      NaN  ...    10.0  28478-897  right_only\n",
              "8   CC7639     NaN      NaN  ...    40.0  88345-324  right_only\n",
              "9   DE3421     NaN      NaN  ...    80.0  33315-678  right_only\n",
              "10  GT9862     NaN      NaN  ...    35.0  55554-895  right_only\n",
              "\n",
              "[11 rows x 8 columns]"
            ]
          },
          "metadata": {
            "tags": []
          },
          "execution_count": 63
        }
      ]
    }
  ]
}