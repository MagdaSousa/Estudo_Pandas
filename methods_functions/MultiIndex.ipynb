{
  "nbformat": 4,
  "nbformat_minor": 0,
  "metadata": {
    "colab": {
      "name": "MultiIndex.ipynb",
      "provenance": [],
      "collapsed_sections": [],
      "authorship_tag": "ABX9TyOZnW77drt3Qbf/O7ixDudF",
      "include_colab_link": true
    },
    "kernelspec": {
      "name": "python3",
      "display_name": "Python 3"
    }
  },
  "cells": [
    {
      "cell_type": "markdown",
      "metadata": {
        "id": "view-in-github",
        "colab_type": "text"
      },
      "source": [
        "<a href=\"https://colab.research.google.com/github/MagdaSousa/Estudo_Pandas/blob/master/MultiIndex.ipynb\" target=\"_parent\"><img src=\"https://colab.research.google.com/assets/colab-badge.svg\" alt=\"Open In Colab\"/></a>"
      ]
    },
    {
      "cell_type": "code",
      "metadata": {
        "id": "qhHCT9mHpfWI",
        "colab_type": "code",
        "colab": {}
      },
      "source": [
        "import pandas as pd"
      ],
      "execution_count": 3,
      "outputs": []
    },
    {
      "cell_type": "code",
      "metadata": {
        "id": "7f-iuje4tDbK",
        "colab_type": "code",
        "colab": {}
      },
      "source": [
        "arrays =[[1,1,2,2] , ['AMARELO','AZUL','AMARELO','AZUL']]"
      ],
      "execution_count": 12,
      "outputs": []
    },
    {
      "cell_type": "code",
      "metadata": {
        "id": "3hP-0Co5tj3P",
        "colab_type": "code",
        "colab": {
          "base_uri": "https://localhost:8080/",
          "height": 104
        },
        "outputId": "31459236-4c56-482e-9f07-d2bbf85715dd"
      },
      "source": [
        "pd.MultiIndex.from_arrays(arrays,names=('number','color'))\n",
        "# levels ->"
      ],
      "execution_count": 14,
      "outputs": [
        {
          "output_type": "execute_result",
          "data": {
            "text/plain": [
              "MultiIndex([(1, 'AMARELO'),\n",
              "            (1,    'AZUL'),\n",
              "            (2, 'AMARELO'),\n",
              "            (2,    'AZUL')],\n",
              "           names=['number', 'color'])"
            ]
          },
          "metadata": {
            "tags": []
          },
          "execution_count": 14
        }
      ]
    },
    {
      "cell_type": "markdown",
      "metadata": {
        "id": "BZVjly6Z0xPc",
        "colab_type": "text"
      },
      "source": [
        "# Produto cartesiano\n",
        "Combinação dos números do eixo x com o eixo y."
      ]
    },
    {
      "cell_type": "code",
      "metadata": {
        "id": "OBS795SD3M7v",
        "colab_type": "code",
        "colab": {
          "base_uri": "https://localhost:8080/",
          "height": 173
        },
        "outputId": "25771637-f493-42dd-ee97-249e6f1abe04"
      },
      "source": [
        "numbers=[1,2,3,4]\n",
        "colors =['red','blue']\n",
        "pd.MultiIndex.from_product([numbers,colors],names=['numbers','colors'])"
      ],
      "execution_count": 15,
      "outputs": [
        {
          "output_type": "execute_result",
          "data": {
            "text/plain": [
              "MultiIndex([(1,  'red'),\n",
              "            (1, 'blue'),\n",
              "            (2,  'red'),\n",
              "            (2, 'blue'),\n",
              "            (3,  'red'),\n",
              "            (3, 'blue'),\n",
              "            (4,  'red'),\n",
              "            (4, 'blue')],\n",
              "           names=['numbers', 'colors'])"
            ]
          },
          "metadata": {
            "tags": []
          },
          "execution_count": 15
        }
      ]
    }
  ]
}