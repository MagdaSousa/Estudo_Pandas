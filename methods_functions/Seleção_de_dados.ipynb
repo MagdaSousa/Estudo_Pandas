{
  "nbformat": 4,
  "nbformat_minor": 0,
  "metadata": {
    "colab": {
      "name": "Seleção_de_dados.ipynb",
      "provenance": [],
      "collapsed_sections": [],
      "authorship_tag": "ABX9TyMlfMaZqxumEjSIl4uE/jvq",
      "include_colab_link": true
    },
    "kernelspec": {
      "name": "python3",
      "display_name": "Python 3"
    }
  },
  "cells": [
    {
      "cell_type": "markdown",
      "metadata": {
        "id": "view-in-github",
        "colab_type": "text"
      },
      "source": [
        "<a href=\"https://colab.research.google.com/github/MagdaSousa/Estudo_Pandas/blob/master/Sele%C3%A7%C3%A3o_de_dados.ipynb\" target=\"_parent\"><img src=\"https://colab.research.google.com/assets/colab-badge.svg\" alt=\"Open In Colab\"/></a>"
      ]
    },
    {
      "cell_type": "code",
      "metadata": {
        "id": "pFjC3MpZqgDS",
        "colab_type": "code",
        "colab": {}
      },
      "source": [
        "import pandas as pd\n",
        "import numpy as np"
      ],
      "execution_count": 1,
      "outputs": []
    },
    {
      "cell_type": "code",
      "metadata": {
        "id": "o8SXJ_u_q1sE",
        "colab_type": "code",
        "colab": {
          "base_uri": "https://localhost:8080/",
          "height": 415
        },
        "outputId": "c49d95ef-6ab5-4e92-bb69-f9b88b0313cd"
      },
      "source": [
        "datas = pd.date_range('20200101',periods=600,freq='D')\n",
        "df = pd.DataFrame(np.random.randn(600,5),index= datas,columns= list('ABCDE'))\n",
        "df"
      ],
      "execution_count": 2,
      "outputs": [
        {
          "output_type": "execute_result",
          "data": {
            "text/html": [
              "<div>\n",
              "<style scoped>\n",
              "    .dataframe tbody tr th:only-of-type {\n",
              "        vertical-align: middle;\n",
              "    }\n",
              "\n",
              "    .dataframe tbody tr th {\n",
              "        vertical-align: top;\n",
              "    }\n",
              "\n",
              "    .dataframe thead th {\n",
              "        text-align: right;\n",
              "    }\n",
              "</style>\n",
              "<table border=\"1\" class=\"dataframe\">\n",
              "  <thead>\n",
              "    <tr style=\"text-align: right;\">\n",
              "      <th></th>\n",
              "      <th>A</th>\n",
              "      <th>B</th>\n",
              "      <th>C</th>\n",
              "      <th>D</th>\n",
              "      <th>E</th>\n",
              "    </tr>\n",
              "  </thead>\n",
              "  <tbody>\n",
              "    <tr>\n",
              "      <th>2020-01-01</th>\n",
              "      <td>1.647557</td>\n",
              "      <td>-0.367391</td>\n",
              "      <td>1.287814</td>\n",
              "      <td>0.335326</td>\n",
              "      <td>0.244959</td>\n",
              "    </tr>\n",
              "    <tr>\n",
              "      <th>2020-01-02</th>\n",
              "      <td>1.312571</td>\n",
              "      <td>1.627236</td>\n",
              "      <td>-2.318201</td>\n",
              "      <td>-0.036328</td>\n",
              "      <td>0.662503</td>\n",
              "    </tr>\n",
              "    <tr>\n",
              "      <th>2020-01-03</th>\n",
              "      <td>1.847606</td>\n",
              "      <td>0.641716</td>\n",
              "      <td>-0.875550</td>\n",
              "      <td>0.726181</td>\n",
              "      <td>-0.004747</td>\n",
              "    </tr>\n",
              "    <tr>\n",
              "      <th>2020-01-04</th>\n",
              "      <td>-0.610586</td>\n",
              "      <td>1.392560</td>\n",
              "      <td>1.504527</td>\n",
              "      <td>-0.734992</td>\n",
              "      <td>-1.169295</td>\n",
              "    </tr>\n",
              "    <tr>\n",
              "      <th>2020-01-05</th>\n",
              "      <td>-0.025350</td>\n",
              "      <td>-0.373196</td>\n",
              "      <td>-1.041066</td>\n",
              "      <td>-0.489790</td>\n",
              "      <td>0.284029</td>\n",
              "    </tr>\n",
              "    <tr>\n",
              "      <th>...</th>\n",
              "      <td>...</td>\n",
              "      <td>...</td>\n",
              "      <td>...</td>\n",
              "      <td>...</td>\n",
              "      <td>...</td>\n",
              "    </tr>\n",
              "    <tr>\n",
              "      <th>2021-08-18</th>\n",
              "      <td>-0.656114</td>\n",
              "      <td>-0.140160</td>\n",
              "      <td>-0.349238</td>\n",
              "      <td>0.433793</td>\n",
              "      <td>1.631493</td>\n",
              "    </tr>\n",
              "    <tr>\n",
              "      <th>2021-08-19</th>\n",
              "      <td>0.489653</td>\n",
              "      <td>-1.919251</td>\n",
              "      <td>-0.604805</td>\n",
              "      <td>-1.216057</td>\n",
              "      <td>-0.296471</td>\n",
              "    </tr>\n",
              "    <tr>\n",
              "      <th>2021-08-20</th>\n",
              "      <td>-0.709790</td>\n",
              "      <td>0.952278</td>\n",
              "      <td>0.614355</td>\n",
              "      <td>-1.965534</td>\n",
              "      <td>0.130771</td>\n",
              "    </tr>\n",
              "    <tr>\n",
              "      <th>2021-08-21</th>\n",
              "      <td>-1.364015</td>\n",
              "      <td>-0.102467</td>\n",
              "      <td>1.057230</td>\n",
              "      <td>0.001102</td>\n",
              "      <td>-0.539025</td>\n",
              "    </tr>\n",
              "    <tr>\n",
              "      <th>2021-08-22</th>\n",
              "      <td>-0.837582</td>\n",
              "      <td>-0.311585</td>\n",
              "      <td>-0.399397</td>\n",
              "      <td>-1.340738</td>\n",
              "      <td>-1.017816</td>\n",
              "    </tr>\n",
              "  </tbody>\n",
              "</table>\n",
              "<p>600 rows × 5 columns</p>\n",
              "</div>"
            ],
            "text/plain": [
              "                   A         B         C         D         E\n",
              "2020-01-01  1.647557 -0.367391  1.287814  0.335326  0.244959\n",
              "2020-01-02  1.312571  1.627236 -2.318201 -0.036328  0.662503\n",
              "2020-01-03  1.847606  0.641716 -0.875550  0.726181 -0.004747\n",
              "2020-01-04 -0.610586  1.392560  1.504527 -0.734992 -1.169295\n",
              "2020-01-05 -0.025350 -0.373196 -1.041066 -0.489790  0.284029\n",
              "...              ...       ...       ...       ...       ...\n",
              "2021-08-18 -0.656114 -0.140160 -0.349238  0.433793  1.631493\n",
              "2021-08-19  0.489653 -1.919251 -0.604805 -1.216057 -0.296471\n",
              "2021-08-20 -0.709790  0.952278  0.614355 -1.965534  0.130771\n",
              "2021-08-21 -1.364015 -0.102467  1.057230  0.001102 -0.539025\n",
              "2021-08-22 -0.837582 -0.311585 -0.399397 -1.340738 -1.017816\n",
              "\n",
              "[600 rows x 5 columns]"
            ]
          },
          "metadata": {
            "tags": []
          },
          "execution_count": 2
        }
      ]
    },
    {
      "cell_type": "code",
      "metadata": {
        "id": "3mrEo1TGruwn",
        "colab_type": "code",
        "colab": {
          "base_uri": "https://localhost:8080/",
          "height": 225
        },
        "outputId": "c7c67346-0c31-4b51-f502-5651c64ceda1"
      },
      "source": [
        "#obter todos os valores da coluna D\n",
        "df['D']"
      ],
      "execution_count": 4,
      "outputs": [
        {
          "output_type": "execute_result",
          "data": {
            "text/plain": [
              "2020-01-01    0.335326\n",
              "2020-01-02   -0.036328\n",
              "2020-01-03    0.726181\n",
              "2020-01-04   -0.734992\n",
              "2020-01-05   -0.489790\n",
              "                ...   \n",
              "2021-08-18    0.433793\n",
              "2021-08-19   -1.216057\n",
              "2021-08-20   -1.965534\n",
              "2021-08-21    0.001102\n",
              "2021-08-22   -1.340738\n",
              "Freq: D, Name: D, Length: 600, dtype: float64"
            ]
          },
          "metadata": {
            "tags": []
          },
          "execution_count": 4
        }
      ]
    },
    {
      "cell_type": "code",
      "metadata": {
        "id": "a5EYSkcVsG78",
        "colab_type": "code",
        "colab": {
          "base_uri": "https://localhost:8080/",
          "height": 225
        },
        "outputId": "e32e7396-6120-4f76-8080-87389f1347eb"
      },
      "source": [
        "#obter todos os valores da coluna A\n",
        "df['A']"
      ],
      "execution_count": 5,
      "outputs": [
        {
          "output_type": "execute_result",
          "data": {
            "text/plain": [
              "2020-01-01    1.647557\n",
              "2020-01-02    1.312571\n",
              "2020-01-03    1.847606\n",
              "2020-01-04   -0.610586\n",
              "2020-01-05   -0.025350\n",
              "                ...   \n",
              "2021-08-18   -0.656114\n",
              "2021-08-19    0.489653\n",
              "2021-08-20   -0.709790\n",
              "2021-08-21   -1.364015\n",
              "2021-08-22   -0.837582\n",
              "Freq: D, Name: A, Length: 600, dtype: float64"
            ]
          },
          "metadata": {
            "tags": []
          },
          "execution_count": 5
        }
      ]
    },
    {
      "cell_type": "code",
      "metadata": {
        "id": "yit1y7NGsgOm",
        "colab_type": "code",
        "colab": {
          "base_uri": "https://localhost:8080/",
          "height": 171
        },
        "outputId": "0379ece6-e329-46b0-d3ba-d16935a461b0"
      },
      "source": [
        "#Obtendo  somente algumas linhas do dataframe\n",
        "df[1:5]"
      ],
      "execution_count": 6,
      "outputs": [
        {
          "output_type": "execute_result",
          "data": {
            "text/html": [
              "<div>\n",
              "<style scoped>\n",
              "    .dataframe tbody tr th:only-of-type {\n",
              "        vertical-align: middle;\n",
              "    }\n",
              "\n",
              "    .dataframe tbody tr th {\n",
              "        vertical-align: top;\n",
              "    }\n",
              "\n",
              "    .dataframe thead th {\n",
              "        text-align: right;\n",
              "    }\n",
              "</style>\n",
              "<table border=\"1\" class=\"dataframe\">\n",
              "  <thead>\n",
              "    <tr style=\"text-align: right;\">\n",
              "      <th></th>\n",
              "      <th>A</th>\n",
              "      <th>B</th>\n",
              "      <th>C</th>\n",
              "      <th>D</th>\n",
              "      <th>E</th>\n",
              "    </tr>\n",
              "  </thead>\n",
              "  <tbody>\n",
              "    <tr>\n",
              "      <th>2020-01-02</th>\n",
              "      <td>1.312571</td>\n",
              "      <td>1.627236</td>\n",
              "      <td>-2.318201</td>\n",
              "      <td>-0.036328</td>\n",
              "      <td>0.662503</td>\n",
              "    </tr>\n",
              "    <tr>\n",
              "      <th>2020-01-03</th>\n",
              "      <td>1.847606</td>\n",
              "      <td>0.641716</td>\n",
              "      <td>-0.875550</td>\n",
              "      <td>0.726181</td>\n",
              "      <td>-0.004747</td>\n",
              "    </tr>\n",
              "    <tr>\n",
              "      <th>2020-01-04</th>\n",
              "      <td>-0.610586</td>\n",
              "      <td>1.392560</td>\n",
              "      <td>1.504527</td>\n",
              "      <td>-0.734992</td>\n",
              "      <td>-1.169295</td>\n",
              "    </tr>\n",
              "    <tr>\n",
              "      <th>2020-01-05</th>\n",
              "      <td>-0.025350</td>\n",
              "      <td>-0.373196</td>\n",
              "      <td>-1.041066</td>\n",
              "      <td>-0.489790</td>\n",
              "      <td>0.284029</td>\n",
              "    </tr>\n",
              "  </tbody>\n",
              "</table>\n",
              "</div>"
            ],
            "text/plain": [
              "                   A         B         C         D         E\n",
              "2020-01-02  1.312571  1.627236 -2.318201 -0.036328  0.662503\n",
              "2020-01-03  1.847606  0.641716 -0.875550  0.726181 -0.004747\n",
              "2020-01-04 -0.610586  1.392560  1.504527 -0.734992 -1.169295\n",
              "2020-01-05 -0.025350 -0.373196 -1.041066 -0.489790  0.284029"
            ]
          },
          "metadata": {
            "tags": []
          },
          "execution_count": 6
        }
      ]
    },
    {
      "cell_type": "code",
      "metadata": {
        "id": "bvsD_DRytASr",
        "colab_type": "code",
        "colab": {
          "base_uri": "https://localhost:8080/",
          "height": 415
        },
        "outputId": "aef9a7f1-5024-4cc8-821d-ee8f58f63e6a"
      },
      "source": [
        "# pretendo visualizar todas as linhas das colunas B,C,D\n",
        "df.loc[:,['B','C','D']]"
      ],
      "execution_count": 7,
      "outputs": [
        {
          "output_type": "execute_result",
          "data": {
            "text/html": [
              "<div>\n",
              "<style scoped>\n",
              "    .dataframe tbody tr th:only-of-type {\n",
              "        vertical-align: middle;\n",
              "    }\n",
              "\n",
              "    .dataframe tbody tr th {\n",
              "        vertical-align: top;\n",
              "    }\n",
              "\n",
              "    .dataframe thead th {\n",
              "        text-align: right;\n",
              "    }\n",
              "</style>\n",
              "<table border=\"1\" class=\"dataframe\">\n",
              "  <thead>\n",
              "    <tr style=\"text-align: right;\">\n",
              "      <th></th>\n",
              "      <th>B</th>\n",
              "      <th>C</th>\n",
              "      <th>D</th>\n",
              "    </tr>\n",
              "  </thead>\n",
              "  <tbody>\n",
              "    <tr>\n",
              "      <th>2020-01-01</th>\n",
              "      <td>-0.367391</td>\n",
              "      <td>1.287814</td>\n",
              "      <td>0.335326</td>\n",
              "    </tr>\n",
              "    <tr>\n",
              "      <th>2020-01-02</th>\n",
              "      <td>1.627236</td>\n",
              "      <td>-2.318201</td>\n",
              "      <td>-0.036328</td>\n",
              "    </tr>\n",
              "    <tr>\n",
              "      <th>2020-01-03</th>\n",
              "      <td>0.641716</td>\n",
              "      <td>-0.875550</td>\n",
              "      <td>0.726181</td>\n",
              "    </tr>\n",
              "    <tr>\n",
              "      <th>2020-01-04</th>\n",
              "      <td>1.392560</td>\n",
              "      <td>1.504527</td>\n",
              "      <td>-0.734992</td>\n",
              "    </tr>\n",
              "    <tr>\n",
              "      <th>2020-01-05</th>\n",
              "      <td>-0.373196</td>\n",
              "      <td>-1.041066</td>\n",
              "      <td>-0.489790</td>\n",
              "    </tr>\n",
              "    <tr>\n",
              "      <th>...</th>\n",
              "      <td>...</td>\n",
              "      <td>...</td>\n",
              "      <td>...</td>\n",
              "    </tr>\n",
              "    <tr>\n",
              "      <th>2021-08-18</th>\n",
              "      <td>-0.140160</td>\n",
              "      <td>-0.349238</td>\n",
              "      <td>0.433793</td>\n",
              "    </tr>\n",
              "    <tr>\n",
              "      <th>2021-08-19</th>\n",
              "      <td>-1.919251</td>\n",
              "      <td>-0.604805</td>\n",
              "      <td>-1.216057</td>\n",
              "    </tr>\n",
              "    <tr>\n",
              "      <th>2021-08-20</th>\n",
              "      <td>0.952278</td>\n",
              "      <td>0.614355</td>\n",
              "      <td>-1.965534</td>\n",
              "    </tr>\n",
              "    <tr>\n",
              "      <th>2021-08-21</th>\n",
              "      <td>-0.102467</td>\n",
              "      <td>1.057230</td>\n",
              "      <td>0.001102</td>\n",
              "    </tr>\n",
              "    <tr>\n",
              "      <th>2021-08-22</th>\n",
              "      <td>-0.311585</td>\n",
              "      <td>-0.399397</td>\n",
              "      <td>-1.340738</td>\n",
              "    </tr>\n",
              "  </tbody>\n",
              "</table>\n",
              "<p>600 rows × 3 columns</p>\n",
              "</div>"
            ],
            "text/plain": [
              "                   B         C         D\n",
              "2020-01-01 -0.367391  1.287814  0.335326\n",
              "2020-01-02  1.627236 -2.318201 -0.036328\n",
              "2020-01-03  0.641716 -0.875550  0.726181\n",
              "2020-01-04  1.392560  1.504527 -0.734992\n",
              "2020-01-05 -0.373196 -1.041066 -0.489790\n",
              "...              ...       ...       ...\n",
              "2021-08-18 -0.140160 -0.349238  0.433793\n",
              "2021-08-19 -1.919251 -0.604805 -1.216057\n",
              "2021-08-20  0.952278  0.614355 -1.965534\n",
              "2021-08-21 -0.102467  1.057230  0.001102\n",
              "2021-08-22 -0.311585 -0.399397 -1.340738\n",
              "\n",
              "[600 rows x 3 columns]"
            ]
          },
          "metadata": {
            "tags": []
          },
          "execution_count": 7
        }
      ]
    },
    {
      "cell_type": "code",
      "metadata": {
        "id": "lA93-CsntyAf",
        "colab_type": "code",
        "colab": {}
      },
      "source": [
        "# coletando dados a partir de datas\n",
        "f =df.loc['20200301':'20200711',['A','B']]"
      ],
      "execution_count": 10,
      "outputs": []
    },
    {
      "cell_type": "code",
      "metadata": {
        "id": "zljKfQsEucwG",
        "colab_type": "code",
        "colab": {
          "base_uri": "https://localhost:8080/",
          "height": 35
        },
        "outputId": "4d7f0aa7-3114-4aa7-8bde-9d53e9d0a6ca"
      },
      "source": [
        "len(f)"
      ],
      "execution_count": 11,
      "outputs": [
        {
          "output_type": "execute_result",
          "data": {
            "text/plain": [
              "133"
            ]
          },
          "metadata": {
            "tags": []
          },
          "execution_count": 11
        }
      ]
    },
    {
      "cell_type": "code",
      "metadata": {
        "id": "OdK5pWXctz9A",
        "colab_type": "code",
        "colab": {
          "base_uri": "https://localhost:8080/",
          "height": 121
        },
        "outputId": "9064890f-504b-4912-9207-5668e01a6bb4"
      },
      "source": [
        "# coletar apenas uma linha do dataframe\n",
        "df.iloc[1]#linha de índice 1"
      ],
      "execution_count": 12,
      "outputs": [
        {
          "output_type": "execute_result",
          "data": {
            "text/plain": [
              "A    1.312571\n",
              "B    1.627236\n",
              "C   -2.318201\n",
              "D   -0.036328\n",
              "E    0.662503\n",
              "Name: 2020-01-02 00:00:00, dtype: float64"
            ]
          },
          "metadata": {
            "tags": []
          },
          "execution_count": 12
        }
      ]
    },
    {
      "cell_type": "code",
      "metadata": {
        "id": "LjguAOsWyXcU",
        "colab_type": "code",
        "colab": {
          "base_uri": "https://localhost:8080/",
          "height": 141
        },
        "outputId": "ec03f2b4-40d8-4cd2-9178-d8c66a4673cf"
      },
      "source": [
        "# pagar valores específicos de linhas e colunas\n",
        "df.iloc[1:4,0:2]#linha de índice 1 até a 3, e coluna 0 até a 1\n"
      ],
      "execution_count": 13,
      "outputs": [
        {
          "output_type": "execute_result",
          "data": {
            "text/html": [
              "<div>\n",
              "<style scoped>\n",
              "    .dataframe tbody tr th:only-of-type {\n",
              "        vertical-align: middle;\n",
              "    }\n",
              "\n",
              "    .dataframe tbody tr th {\n",
              "        vertical-align: top;\n",
              "    }\n",
              "\n",
              "    .dataframe thead th {\n",
              "        text-align: right;\n",
              "    }\n",
              "</style>\n",
              "<table border=\"1\" class=\"dataframe\">\n",
              "  <thead>\n",
              "    <tr style=\"text-align: right;\">\n",
              "      <th></th>\n",
              "      <th>A</th>\n",
              "      <th>B</th>\n",
              "    </tr>\n",
              "  </thead>\n",
              "  <tbody>\n",
              "    <tr>\n",
              "      <th>2020-01-02</th>\n",
              "      <td>1.312571</td>\n",
              "      <td>1.627236</td>\n",
              "    </tr>\n",
              "    <tr>\n",
              "      <th>2020-01-03</th>\n",
              "      <td>1.847606</td>\n",
              "      <td>0.641716</td>\n",
              "    </tr>\n",
              "    <tr>\n",
              "      <th>2020-01-04</th>\n",
              "      <td>-0.610586</td>\n",
              "      <td>1.392560</td>\n",
              "    </tr>\n",
              "  </tbody>\n",
              "</table>\n",
              "</div>"
            ],
            "text/plain": [
              "                   A         B\n",
              "2020-01-02  1.312571  1.627236\n",
              "2020-01-03  1.847606  0.641716\n",
              "2020-01-04 -0.610586  1.392560"
            ]
          },
          "metadata": {
            "tags": []
          },
          "execution_count": 13
        }
      ]
    },
    {
      "cell_type": "code",
      "metadata": {
        "id": "6wvHL_zMzVnZ",
        "colab_type": "code",
        "colab": {
          "base_uri": "https://localhost:8080/",
          "height": 141
        },
        "outputId": "e3f23483-b028-4c23-9168-0787c65079ea"
      },
      "source": [
        "#pegar colunas e linhas específicas, sem ser dentro de um intervalo\n",
        "df.iloc[[1,3,5],[0,3]] #linhas de índices 1,3,5 e colunas 0 e 3"
      ],
      "execution_count": 14,
      "outputs": [
        {
          "output_type": "execute_result",
          "data": {
            "text/html": [
              "<div>\n",
              "<style scoped>\n",
              "    .dataframe tbody tr th:only-of-type {\n",
              "        vertical-align: middle;\n",
              "    }\n",
              "\n",
              "    .dataframe tbody tr th {\n",
              "        vertical-align: top;\n",
              "    }\n",
              "\n",
              "    .dataframe thead th {\n",
              "        text-align: right;\n",
              "    }\n",
              "</style>\n",
              "<table border=\"1\" class=\"dataframe\">\n",
              "  <thead>\n",
              "    <tr style=\"text-align: right;\">\n",
              "      <th></th>\n",
              "      <th>A</th>\n",
              "      <th>D</th>\n",
              "    </tr>\n",
              "  </thead>\n",
              "  <tbody>\n",
              "    <tr>\n",
              "      <th>2020-01-02</th>\n",
              "      <td>1.312571</td>\n",
              "      <td>-0.036328</td>\n",
              "    </tr>\n",
              "    <tr>\n",
              "      <th>2020-01-04</th>\n",
              "      <td>-0.610586</td>\n",
              "      <td>-0.734992</td>\n",
              "    </tr>\n",
              "    <tr>\n",
              "      <th>2020-01-06</th>\n",
              "      <td>-1.276162</td>\n",
              "      <td>-1.626891</td>\n",
              "    </tr>\n",
              "  </tbody>\n",
              "</table>\n",
              "</div>"
            ],
            "text/plain": [
              "                   A         D\n",
              "2020-01-02  1.312571 -0.036328\n",
              "2020-01-04 -0.610586 -0.734992\n",
              "2020-01-06 -1.276162 -1.626891"
            ]
          },
          "metadata": {
            "tags": []
          },
          "execution_count": 14
        }
      ]
    },
    {
      "cell_type": "code",
      "metadata": {
        "id": "tmXq1oXV0VhN",
        "colab_type": "code",
        "colab": {
          "base_uri": "https://localhost:8080/",
          "height": 141
        },
        "outputId": "9b0e6759-08e4-4546-ea07-543f6a1427ed"
      },
      "source": [
        "df.iloc[[1,3,5],:]#linhas de índices 1,3,5 e todas as colunas "
      ],
      "execution_count": 15,
      "outputs": [
        {
          "output_type": "execute_result",
          "data": {
            "text/html": [
              "<div>\n",
              "<style scoped>\n",
              "    .dataframe tbody tr th:only-of-type {\n",
              "        vertical-align: middle;\n",
              "    }\n",
              "\n",
              "    .dataframe tbody tr th {\n",
              "        vertical-align: top;\n",
              "    }\n",
              "\n",
              "    .dataframe thead th {\n",
              "        text-align: right;\n",
              "    }\n",
              "</style>\n",
              "<table border=\"1\" class=\"dataframe\">\n",
              "  <thead>\n",
              "    <tr style=\"text-align: right;\">\n",
              "      <th></th>\n",
              "      <th>A</th>\n",
              "      <th>B</th>\n",
              "      <th>C</th>\n",
              "      <th>D</th>\n",
              "      <th>E</th>\n",
              "    </tr>\n",
              "  </thead>\n",
              "  <tbody>\n",
              "    <tr>\n",
              "      <th>2020-01-02</th>\n",
              "      <td>1.312571</td>\n",
              "      <td>1.627236</td>\n",
              "      <td>-2.318201</td>\n",
              "      <td>-0.036328</td>\n",
              "      <td>0.662503</td>\n",
              "    </tr>\n",
              "    <tr>\n",
              "      <th>2020-01-04</th>\n",
              "      <td>-0.610586</td>\n",
              "      <td>1.392560</td>\n",
              "      <td>1.504527</td>\n",
              "      <td>-0.734992</td>\n",
              "      <td>-1.169295</td>\n",
              "    </tr>\n",
              "    <tr>\n",
              "      <th>2020-01-06</th>\n",
              "      <td>-1.276162</td>\n",
              "      <td>0.134700</td>\n",
              "      <td>-0.082782</td>\n",
              "      <td>-1.626891</td>\n",
              "      <td>1.250493</td>\n",
              "    </tr>\n",
              "  </tbody>\n",
              "</table>\n",
              "</div>"
            ],
            "text/plain": [
              "                   A         B         C         D         E\n",
              "2020-01-02  1.312571  1.627236 -2.318201 -0.036328  0.662503\n",
              "2020-01-04 -0.610586  1.392560  1.504527 -0.734992 -1.169295\n",
              "2020-01-06 -1.276162  0.134700 -0.082782 -1.626891  1.250493"
            ]
          },
          "metadata": {
            "tags": []
          },
          "execution_count": 15
        }
      ]
    },
    {
      "cell_type": "code",
      "metadata": {
        "id": "xANdy07t05Ad",
        "colab_type": "code",
        "colab": {
          "base_uri": "https://localhost:8080/",
          "height": 225
        },
        "outputId": "28a5a42a-ec21-4dbd-bc8f-6b422cead18a"
      },
      "source": [
        "df.B # Visualizar dados da coluna B"
      ],
      "execution_count": 16,
      "outputs": [
        {
          "output_type": "execute_result",
          "data": {
            "text/plain": [
              "2020-01-01   -0.367391\n",
              "2020-01-02    1.627236\n",
              "2020-01-03    0.641716\n",
              "2020-01-04    1.392560\n",
              "2020-01-05   -0.373196\n",
              "                ...   \n",
              "2021-08-18   -0.140160\n",
              "2021-08-19   -1.919251\n",
              "2021-08-20    0.952278\n",
              "2021-08-21   -0.102467\n",
              "2021-08-22   -0.311585\n",
              "Freq: D, Name: B, Length: 600, dtype: float64"
            ]
          },
          "metadata": {
            "tags": []
          },
          "execution_count": 16
        }
      ]
    },
    {
      "cell_type": "code",
      "metadata": {
        "id": "C8ztfAvj1SYt",
        "colab_type": "code",
        "colab": {
          "base_uri": "https://localhost:8080/",
          "height": 415
        },
        "outputId": "fd1266a2-3f5f-42d6-9cd0-1e1d53562e19"
      },
      "source": [
        "df[df.A >0]# quero apenas valores maiores do que 0 da coluna A"
      ],
      "execution_count": 17,
      "outputs": [
        {
          "output_type": "execute_result",
          "data": {
            "text/html": [
              "<div>\n",
              "<style scoped>\n",
              "    .dataframe tbody tr th:only-of-type {\n",
              "        vertical-align: middle;\n",
              "    }\n",
              "\n",
              "    .dataframe tbody tr th {\n",
              "        vertical-align: top;\n",
              "    }\n",
              "\n",
              "    .dataframe thead th {\n",
              "        text-align: right;\n",
              "    }\n",
              "</style>\n",
              "<table border=\"1\" class=\"dataframe\">\n",
              "  <thead>\n",
              "    <tr style=\"text-align: right;\">\n",
              "      <th></th>\n",
              "      <th>A</th>\n",
              "      <th>B</th>\n",
              "      <th>C</th>\n",
              "      <th>D</th>\n",
              "      <th>E</th>\n",
              "    </tr>\n",
              "  </thead>\n",
              "  <tbody>\n",
              "    <tr>\n",
              "      <th>2020-01-01</th>\n",
              "      <td>1.647557</td>\n",
              "      <td>-0.367391</td>\n",
              "      <td>1.287814</td>\n",
              "      <td>0.335326</td>\n",
              "      <td>0.244959</td>\n",
              "    </tr>\n",
              "    <tr>\n",
              "      <th>2020-01-02</th>\n",
              "      <td>1.312571</td>\n",
              "      <td>1.627236</td>\n",
              "      <td>-2.318201</td>\n",
              "      <td>-0.036328</td>\n",
              "      <td>0.662503</td>\n",
              "    </tr>\n",
              "    <tr>\n",
              "      <th>2020-01-03</th>\n",
              "      <td>1.847606</td>\n",
              "      <td>0.641716</td>\n",
              "      <td>-0.875550</td>\n",
              "      <td>0.726181</td>\n",
              "      <td>-0.004747</td>\n",
              "    </tr>\n",
              "    <tr>\n",
              "      <th>2020-01-10</th>\n",
              "      <td>0.896807</td>\n",
              "      <td>0.033296</td>\n",
              "      <td>0.581545</td>\n",
              "      <td>-1.055357</td>\n",
              "      <td>0.342154</td>\n",
              "    </tr>\n",
              "    <tr>\n",
              "      <th>2020-01-12</th>\n",
              "      <td>0.549714</td>\n",
              "      <td>0.524927</td>\n",
              "      <td>-0.051532</td>\n",
              "      <td>0.492446</td>\n",
              "      <td>1.471062</td>\n",
              "    </tr>\n",
              "    <tr>\n",
              "      <th>...</th>\n",
              "      <td>...</td>\n",
              "      <td>...</td>\n",
              "      <td>...</td>\n",
              "      <td>...</td>\n",
              "      <td>...</td>\n",
              "    </tr>\n",
              "    <tr>\n",
              "      <th>2021-08-08</th>\n",
              "      <td>0.726181</td>\n",
              "      <td>0.477227</td>\n",
              "      <td>-0.971846</td>\n",
              "      <td>1.521860</td>\n",
              "      <td>-0.350594</td>\n",
              "    </tr>\n",
              "    <tr>\n",
              "      <th>2021-08-14</th>\n",
              "      <td>2.285462</td>\n",
              "      <td>1.227026</td>\n",
              "      <td>0.374865</td>\n",
              "      <td>0.253051</td>\n",
              "      <td>0.058632</td>\n",
              "    </tr>\n",
              "    <tr>\n",
              "      <th>2021-08-15</th>\n",
              "      <td>0.650060</td>\n",
              "      <td>-0.203401</td>\n",
              "      <td>-0.955025</td>\n",
              "      <td>0.777990</td>\n",
              "      <td>0.343035</td>\n",
              "    </tr>\n",
              "    <tr>\n",
              "      <th>2021-08-16</th>\n",
              "      <td>0.096296</td>\n",
              "      <td>-0.380866</td>\n",
              "      <td>-0.085444</td>\n",
              "      <td>0.520924</td>\n",
              "      <td>-0.238978</td>\n",
              "    </tr>\n",
              "    <tr>\n",
              "      <th>2021-08-19</th>\n",
              "      <td>0.489653</td>\n",
              "      <td>-1.919251</td>\n",
              "      <td>-0.604805</td>\n",
              "      <td>-1.216057</td>\n",
              "      <td>-0.296471</td>\n",
              "    </tr>\n",
              "  </tbody>\n",
              "</table>\n",
              "<p>297 rows × 5 columns</p>\n",
              "</div>"
            ],
            "text/plain": [
              "                   A         B         C         D         E\n",
              "2020-01-01  1.647557 -0.367391  1.287814  0.335326  0.244959\n",
              "2020-01-02  1.312571  1.627236 -2.318201 -0.036328  0.662503\n",
              "2020-01-03  1.847606  0.641716 -0.875550  0.726181 -0.004747\n",
              "2020-01-10  0.896807  0.033296  0.581545 -1.055357  0.342154\n",
              "2020-01-12  0.549714  0.524927 -0.051532  0.492446  1.471062\n",
              "...              ...       ...       ...       ...       ...\n",
              "2021-08-08  0.726181  0.477227 -0.971846  1.521860 -0.350594\n",
              "2021-08-14  2.285462  1.227026  0.374865  0.253051  0.058632\n",
              "2021-08-15  0.650060 -0.203401 -0.955025  0.777990  0.343035\n",
              "2021-08-16  0.096296 -0.380866 -0.085444  0.520924 -0.238978\n",
              "2021-08-19  0.489653 -1.919251 -0.604805 -1.216057 -0.296471\n",
              "\n",
              "[297 rows x 5 columns]"
            ]
          },
          "metadata": {
            "tags": []
          },
          "execution_count": 17
        }
      ]
    },
    {
      "cell_type": "code",
      "metadata": {
        "id": "yaje2Oaf10BW",
        "colab_type": "code",
        "colab": {
          "base_uri": "https://localhost:8080/",
          "height": 415
        },
        "outputId": "e77661e5-6799-4772-cef4-3ea6ab29810d"
      },
      "source": [
        "df[df >0]# quero apenas valores maiores do que 0 "
      ],
      "execution_count": 18,
      "outputs": [
        {
          "output_type": "execute_result",
          "data": {
            "text/html": [
              "<div>\n",
              "<style scoped>\n",
              "    .dataframe tbody tr th:only-of-type {\n",
              "        vertical-align: middle;\n",
              "    }\n",
              "\n",
              "    .dataframe tbody tr th {\n",
              "        vertical-align: top;\n",
              "    }\n",
              "\n",
              "    .dataframe thead th {\n",
              "        text-align: right;\n",
              "    }\n",
              "</style>\n",
              "<table border=\"1\" class=\"dataframe\">\n",
              "  <thead>\n",
              "    <tr style=\"text-align: right;\">\n",
              "      <th></th>\n",
              "      <th>A</th>\n",
              "      <th>B</th>\n",
              "      <th>C</th>\n",
              "      <th>D</th>\n",
              "      <th>E</th>\n",
              "    </tr>\n",
              "  </thead>\n",
              "  <tbody>\n",
              "    <tr>\n",
              "      <th>2020-01-01</th>\n",
              "      <td>1.647557</td>\n",
              "      <td>NaN</td>\n",
              "      <td>1.287814</td>\n",
              "      <td>0.335326</td>\n",
              "      <td>0.244959</td>\n",
              "    </tr>\n",
              "    <tr>\n",
              "      <th>2020-01-02</th>\n",
              "      <td>1.312571</td>\n",
              "      <td>1.627236</td>\n",
              "      <td>NaN</td>\n",
              "      <td>NaN</td>\n",
              "      <td>0.662503</td>\n",
              "    </tr>\n",
              "    <tr>\n",
              "      <th>2020-01-03</th>\n",
              "      <td>1.847606</td>\n",
              "      <td>0.641716</td>\n",
              "      <td>NaN</td>\n",
              "      <td>0.726181</td>\n",
              "      <td>NaN</td>\n",
              "    </tr>\n",
              "    <tr>\n",
              "      <th>2020-01-04</th>\n",
              "      <td>NaN</td>\n",
              "      <td>1.392560</td>\n",
              "      <td>1.504527</td>\n",
              "      <td>NaN</td>\n",
              "      <td>NaN</td>\n",
              "    </tr>\n",
              "    <tr>\n",
              "      <th>2020-01-05</th>\n",
              "      <td>NaN</td>\n",
              "      <td>NaN</td>\n",
              "      <td>NaN</td>\n",
              "      <td>NaN</td>\n",
              "      <td>0.284029</td>\n",
              "    </tr>\n",
              "    <tr>\n",
              "      <th>...</th>\n",
              "      <td>...</td>\n",
              "      <td>...</td>\n",
              "      <td>...</td>\n",
              "      <td>...</td>\n",
              "      <td>...</td>\n",
              "    </tr>\n",
              "    <tr>\n",
              "      <th>2021-08-18</th>\n",
              "      <td>NaN</td>\n",
              "      <td>NaN</td>\n",
              "      <td>NaN</td>\n",
              "      <td>0.433793</td>\n",
              "      <td>1.631493</td>\n",
              "    </tr>\n",
              "    <tr>\n",
              "      <th>2021-08-19</th>\n",
              "      <td>0.489653</td>\n",
              "      <td>NaN</td>\n",
              "      <td>NaN</td>\n",
              "      <td>NaN</td>\n",
              "      <td>NaN</td>\n",
              "    </tr>\n",
              "    <tr>\n",
              "      <th>2021-08-20</th>\n",
              "      <td>NaN</td>\n",
              "      <td>0.952278</td>\n",
              "      <td>0.614355</td>\n",
              "      <td>NaN</td>\n",
              "      <td>0.130771</td>\n",
              "    </tr>\n",
              "    <tr>\n",
              "      <th>2021-08-21</th>\n",
              "      <td>NaN</td>\n",
              "      <td>NaN</td>\n",
              "      <td>1.057230</td>\n",
              "      <td>0.001102</td>\n",
              "      <td>NaN</td>\n",
              "    </tr>\n",
              "    <tr>\n",
              "      <th>2021-08-22</th>\n",
              "      <td>NaN</td>\n",
              "      <td>NaN</td>\n",
              "      <td>NaN</td>\n",
              "      <td>NaN</td>\n",
              "      <td>NaN</td>\n",
              "    </tr>\n",
              "  </tbody>\n",
              "</table>\n",
              "<p>600 rows × 5 columns</p>\n",
              "</div>"
            ],
            "text/plain": [
              "                   A         B         C         D         E\n",
              "2020-01-01  1.647557       NaN  1.287814  0.335326  0.244959\n",
              "2020-01-02  1.312571  1.627236       NaN       NaN  0.662503\n",
              "2020-01-03  1.847606  0.641716       NaN  0.726181       NaN\n",
              "2020-01-04       NaN  1.392560  1.504527       NaN       NaN\n",
              "2020-01-05       NaN       NaN       NaN       NaN  0.284029\n",
              "...              ...       ...       ...       ...       ...\n",
              "2021-08-18       NaN       NaN       NaN  0.433793  1.631493\n",
              "2021-08-19  0.489653       NaN       NaN       NaN       NaN\n",
              "2021-08-20       NaN  0.952278  0.614355       NaN  0.130771\n",
              "2021-08-21       NaN       NaN  1.057230  0.001102       NaN\n",
              "2021-08-22       NaN       NaN       NaN       NaN       NaN\n",
              "\n",
              "[600 rows x 5 columns]"
            ]
          },
          "metadata": {
            "tags": []
          },
          "execution_count": 18
        }
      ]
    }
  ]
}