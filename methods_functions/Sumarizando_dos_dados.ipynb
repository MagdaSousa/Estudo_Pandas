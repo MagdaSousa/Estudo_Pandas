{
  "nbformat": 4,
  "nbformat_minor": 0,
  "metadata": {
    "colab": {
      "name": "Sumarizando_dos_dados.ipynb",
      "provenance": [],
      "collapsed_sections": [],
      "authorship_tag": "ABX9TyN6IQz5dCUDbCBSLjGfBs5w",
      "include_colab_link": true
    },
    "kernelspec": {
      "name": "python3",
      "display_name": "Python 3"
    }
  },
  "cells": [
    {
      "cell_type": "markdown",
      "metadata": {
        "id": "view-in-github",
        "colab_type": "text"
      },
      "source": [
        "<a href=\"https://colab.research.google.com/github/MagdaSousa/Estudo_Pandas/blob/master/Sumarizando_dos_dados.ipynb\" target=\"_parent\"><img src=\"https://colab.research.google.com/assets/colab-badge.svg\" alt=\"Open In Colab\"/></a>"
      ]
    },
    {
      "cell_type": "code",
      "metadata": {
        "id": "Qau96sBa4jUz",
        "colab_type": "code",
        "colab": {}
      },
      "source": [
        "import pandas as  pd\n",
        "import numpy as np"
      ],
      "execution_count": 1,
      "outputs": []
    },
    {
      "cell_type": "code",
      "metadata": {
        "id": "utxVaB2M45I5",
        "colab_type": "code",
        "colab": {}
      },
      "source": [
        "datas = pd.date_range('20200101', periods=6)\n",
        "df = pd.DataFrame(np.random.randn(6,4), index=datas,columns=['var_A','var_B','var_C','var_D'])\n",
        "df2 =pd.DataFrame({'A':1,\n",
        "                   'B':pd.Timestamp('20130102'),\n",
        "                   'C': pd.Series(1,index=list(range(4)),dtype='float32'),\n",
        "                   'D':np.array([3]*4, dtype='int32'),\n",
        "                   'E':pd.Categorical(['test','train','test','train']),\n",
        "                   'F':'Python'})"
      ],
      "execution_count": 4,
      "outputs": []
    },
    {
      "cell_type": "code",
      "metadata": {
        "id": "TwBGOzpo8TOw",
        "colab_type": "code",
        "colab": {
          "base_uri": "https://localhost:8080/",
          "height": 233
        },
        "outputId": "7100c8f6-7862-471a-dbd5-03971dd00564"
      },
      "source": [
        "df"
      ],
      "execution_count": 5,
      "outputs": [
        {
          "output_type": "execute_result",
          "data": {
            "text/html": [
              "<div>\n",
              "<style scoped>\n",
              "    .dataframe tbody tr th:only-of-type {\n",
              "        vertical-align: middle;\n",
              "    }\n",
              "\n",
              "    .dataframe tbody tr th {\n",
              "        vertical-align: top;\n",
              "    }\n",
              "\n",
              "    .dataframe thead th {\n",
              "        text-align: right;\n",
              "    }\n",
              "</style>\n",
              "<table border=\"1\" class=\"dataframe\">\n",
              "  <thead>\n",
              "    <tr style=\"text-align: right;\">\n",
              "      <th></th>\n",
              "      <th>var_A</th>\n",
              "      <th>var_B</th>\n",
              "      <th>var_C</th>\n",
              "      <th>var_D</th>\n",
              "    </tr>\n",
              "  </thead>\n",
              "  <tbody>\n",
              "    <tr>\n",
              "      <th>2020-01-01</th>\n",
              "      <td>0.564805</td>\n",
              "      <td>0.324253</td>\n",
              "      <td>0.702723</td>\n",
              "      <td>-2.177462</td>\n",
              "    </tr>\n",
              "    <tr>\n",
              "      <th>2020-01-02</th>\n",
              "      <td>-0.558784</td>\n",
              "      <td>0.528558</td>\n",
              "      <td>0.206865</td>\n",
              "      <td>-1.074331</td>\n",
              "    </tr>\n",
              "    <tr>\n",
              "      <th>2020-01-03</th>\n",
              "      <td>-0.568501</td>\n",
              "      <td>-1.684267</td>\n",
              "      <td>-1.400751</td>\n",
              "      <td>1.463461</td>\n",
              "    </tr>\n",
              "    <tr>\n",
              "      <th>2020-01-04</th>\n",
              "      <td>1.026650</td>\n",
              "      <td>-0.946133</td>\n",
              "      <td>1.016080</td>\n",
              "      <td>0.839630</td>\n",
              "    </tr>\n",
              "    <tr>\n",
              "      <th>2020-01-05</th>\n",
              "      <td>-0.143933</td>\n",
              "      <td>0.145484</td>\n",
              "      <td>0.074185</td>\n",
              "      <td>0.384581</td>\n",
              "    </tr>\n",
              "    <tr>\n",
              "      <th>2020-01-06</th>\n",
              "      <td>-0.262279</td>\n",
              "      <td>-0.516622</td>\n",
              "      <td>0.161805</td>\n",
              "      <td>-0.279221</td>\n",
              "    </tr>\n",
              "  </tbody>\n",
              "</table>\n",
              "</div>"
            ],
            "text/plain": [
              "               var_A     var_B     var_C     var_D\n",
              "2020-01-01  0.564805  0.324253  0.702723 -2.177462\n",
              "2020-01-02 -0.558784  0.528558  0.206865 -1.074331\n",
              "2020-01-03 -0.568501 -1.684267 -1.400751  1.463461\n",
              "2020-01-04  1.026650 -0.946133  1.016080  0.839630\n",
              "2020-01-05 -0.143933  0.145484  0.074185  0.384581\n",
              "2020-01-06 -0.262279 -0.516622  0.161805 -0.279221"
            ]
          },
          "metadata": {
            "tags": []
          },
          "execution_count": 5
        }
      ]
    },
    {
      "cell_type": "code",
      "metadata": {
        "id": "3k0hfGbK8Uu3",
        "colab_type": "code",
        "colab": {
          "base_uri": "https://localhost:8080/",
          "height": 171
        },
        "outputId": "9dc3b57c-9595-4204-ea9d-410685b167e6"
      },
      "source": [
        "df2"
      ],
      "execution_count": 6,
      "outputs": [
        {
          "output_type": "execute_result",
          "data": {
            "text/html": [
              "<div>\n",
              "<style scoped>\n",
              "    .dataframe tbody tr th:only-of-type {\n",
              "        vertical-align: middle;\n",
              "    }\n",
              "\n",
              "    .dataframe tbody tr th {\n",
              "        vertical-align: top;\n",
              "    }\n",
              "\n",
              "    .dataframe thead th {\n",
              "        text-align: right;\n",
              "    }\n",
              "</style>\n",
              "<table border=\"1\" class=\"dataframe\">\n",
              "  <thead>\n",
              "    <tr style=\"text-align: right;\">\n",
              "      <th></th>\n",
              "      <th>A</th>\n",
              "      <th>B</th>\n",
              "      <th>C</th>\n",
              "      <th>D</th>\n",
              "      <th>E</th>\n",
              "      <th>F</th>\n",
              "    </tr>\n",
              "  </thead>\n",
              "  <tbody>\n",
              "    <tr>\n",
              "      <th>0</th>\n",
              "      <td>1</td>\n",
              "      <td>2013-01-02</td>\n",
              "      <td>1.0</td>\n",
              "      <td>3</td>\n",
              "      <td>test</td>\n",
              "      <td>Python</td>\n",
              "    </tr>\n",
              "    <tr>\n",
              "      <th>1</th>\n",
              "      <td>1</td>\n",
              "      <td>2013-01-02</td>\n",
              "      <td>1.0</td>\n",
              "      <td>3</td>\n",
              "      <td>train</td>\n",
              "      <td>Python</td>\n",
              "    </tr>\n",
              "    <tr>\n",
              "      <th>2</th>\n",
              "      <td>1</td>\n",
              "      <td>2013-01-02</td>\n",
              "      <td>1.0</td>\n",
              "      <td>3</td>\n",
              "      <td>test</td>\n",
              "      <td>Python</td>\n",
              "    </tr>\n",
              "    <tr>\n",
              "      <th>3</th>\n",
              "      <td>1</td>\n",
              "      <td>2013-01-02</td>\n",
              "      <td>1.0</td>\n",
              "      <td>3</td>\n",
              "      <td>train</td>\n",
              "      <td>Python</td>\n",
              "    </tr>\n",
              "  </tbody>\n",
              "</table>\n",
              "</div>"
            ],
            "text/plain": [
              "   A          B    C  D      E       F\n",
              "0  1 2013-01-02  1.0  3   test  Python\n",
              "1  1 2013-01-02  1.0  3  train  Python\n",
              "2  1 2013-01-02  1.0  3   test  Python\n",
              "3  1 2013-01-02  1.0  3  train  Python"
            ]
          },
          "metadata": {
            "tags": []
          },
          "execution_count": 6
        }
      ]
    },
    {
      "cell_type": "code",
      "metadata": {
        "id": "MZXp7z7c829K",
        "colab_type": "code",
        "colab": {
          "base_uri": "https://localhost:8080/",
          "height": 35
        },
        "outputId": "859b6da6-862a-4af9-feca-1356f6cd185b"
      },
      "source": [
        "df.shape"
      ],
      "execution_count": 7,
      "outputs": [
        {
          "output_type": "execute_result",
          "data": {
            "text/plain": [
              "(6, 4)"
            ]
          },
          "metadata": {
            "tags": []
          },
          "execution_count": 7
        }
      ]
    },
    {
      "cell_type": "code",
      "metadata": {
        "id": "ibg21R1T85Id",
        "colab_type": "code",
        "colab": {
          "base_uri": "https://localhost:8080/",
          "height": 104
        },
        "outputId": "4e193009-7514-4839-acc3-a55434d01979"
      },
      "source": [
        "df.dtypes"
      ],
      "execution_count": 9,
      "outputs": [
        {
          "output_type": "execute_result",
          "data": {
            "text/plain": [
              "var_A    float64\n",
              "var_B    float64\n",
              "var_C    float64\n",
              "var_D    float64\n",
              "dtype: object"
            ]
          },
          "metadata": {
            "tags": []
          },
          "execution_count": 9
        }
      ]
    },
    {
      "cell_type": "code",
      "metadata": {
        "id": "EFhHANAJ9PAn",
        "colab_type": "code",
        "colab": {
          "base_uri": "https://localhost:8080/",
          "height": 35
        },
        "outputId": "799aff90-7e4a-4cbb-f41b-8e13f5617203"
      },
      "source": [
        "df2.shape"
      ],
      "execution_count": 10,
      "outputs": [
        {
          "output_type": "execute_result",
          "data": {
            "text/plain": [
              "(4, 6)"
            ]
          },
          "metadata": {
            "tags": []
          },
          "execution_count": 10
        }
      ]
    },
    {
      "cell_type": "code",
      "metadata": {
        "id": "kdqaNun39R7N",
        "colab_type": "code",
        "colab": {
          "base_uri": "https://localhost:8080/",
          "height": 139
        },
        "outputId": "3d0ad5a9-b257-41a5-a272-b2ca232a2f0f"
      },
      "source": [
        "df2.dtypes"
      ],
      "execution_count": 11,
      "outputs": [
        {
          "output_type": "execute_result",
          "data": {
            "text/plain": [
              "A             int64\n",
              "B    datetime64[ns]\n",
              "C           float32\n",
              "D             int32\n",
              "E          category\n",
              "F            object\n",
              "dtype: object"
            ]
          },
          "metadata": {
            "tags": []
          },
          "execution_count": 11
        }
      ]
    },
    {
      "cell_type": "code",
      "metadata": {
        "id": "rB-5alGh-GTU",
        "colab_type": "code",
        "colab": {
          "base_uri": "https://localhost:8080/",
          "height": 294
        },
        "outputId": "85a36daa-b35a-4fa4-e437-1f2c56128ff8"
      },
      "source": [
        "df.describe()"
      ],
      "execution_count": 13,
      "outputs": [
        {
          "output_type": "execute_result",
          "data": {
            "text/html": [
              "<div>\n",
              "<style scoped>\n",
              "    .dataframe tbody tr th:only-of-type {\n",
              "        vertical-align: middle;\n",
              "    }\n",
              "\n",
              "    .dataframe tbody tr th {\n",
              "        vertical-align: top;\n",
              "    }\n",
              "\n",
              "    .dataframe thead th {\n",
              "        text-align: right;\n",
              "    }\n",
              "</style>\n",
              "<table border=\"1\" class=\"dataframe\">\n",
              "  <thead>\n",
              "    <tr style=\"text-align: right;\">\n",
              "      <th></th>\n",
              "      <th>var_A</th>\n",
              "      <th>var_B</th>\n",
              "      <th>var_C</th>\n",
              "      <th>var_D</th>\n",
              "    </tr>\n",
              "  </thead>\n",
              "  <tbody>\n",
              "    <tr>\n",
              "      <th>count</th>\n",
              "      <td>6.000000</td>\n",
              "      <td>6.000000</td>\n",
              "      <td>6.000000</td>\n",
              "      <td>6.000000</td>\n",
              "    </tr>\n",
              "    <tr>\n",
              "      <th>mean</th>\n",
              "      <td>0.009660</td>\n",
              "      <td>-0.358121</td>\n",
              "      <td>0.126818</td>\n",
              "      <td>-0.140557</td>\n",
              "    </tr>\n",
              "    <tr>\n",
              "      <th>std</th>\n",
              "      <td>0.647672</td>\n",
              "      <td>0.852642</td>\n",
              "      <td>0.832625</td>\n",
              "      <td>1.330380</td>\n",
              "    </tr>\n",
              "    <tr>\n",
              "      <th>min</th>\n",
              "      <td>-0.568501</td>\n",
              "      <td>-1.684267</td>\n",
              "      <td>-1.400751</td>\n",
              "      <td>-2.177462</td>\n",
              "    </tr>\n",
              "    <tr>\n",
              "      <th>25%</th>\n",
              "      <td>-0.484657</td>\n",
              "      <td>-0.838755</td>\n",
              "      <td>0.096090</td>\n",
              "      <td>-0.875554</td>\n",
              "    </tr>\n",
              "    <tr>\n",
              "      <th>50%</th>\n",
              "      <td>-0.203106</td>\n",
              "      <td>-0.185569</td>\n",
              "      <td>0.184335</td>\n",
              "      <td>0.052680</td>\n",
              "    </tr>\n",
              "    <tr>\n",
              "      <th>75%</th>\n",
              "      <td>0.387620</td>\n",
              "      <td>0.279561</td>\n",
              "      <td>0.578758</td>\n",
              "      <td>0.725867</td>\n",
              "    </tr>\n",
              "    <tr>\n",
              "      <th>max</th>\n",
              "      <td>1.026650</td>\n",
              "      <td>0.528558</td>\n",
              "      <td>1.016080</td>\n",
              "      <td>1.463461</td>\n",
              "    </tr>\n",
              "  </tbody>\n",
              "</table>\n",
              "</div>"
            ],
            "text/plain": [
              "          var_A     var_B     var_C     var_D\n",
              "count  6.000000  6.000000  6.000000  6.000000\n",
              "mean   0.009660 -0.358121  0.126818 -0.140557\n",
              "std    0.647672  0.852642  0.832625  1.330380\n",
              "min   -0.568501 -1.684267 -1.400751 -2.177462\n",
              "25%   -0.484657 -0.838755  0.096090 -0.875554\n",
              "50%   -0.203106 -0.185569  0.184335  0.052680\n",
              "75%    0.387620  0.279561  0.578758  0.725867\n",
              "max    1.026650  0.528558  1.016080  1.463461"
            ]
          },
          "metadata": {
            "tags": []
          },
          "execution_count": 13
        }
      ]
    },
    {
      "cell_type": "code",
      "metadata": {
        "id": "X4ev_XIe-AVd",
        "colab_type": "code",
        "colab": {
          "base_uri": "https://localhost:8080/",
          "height": 294
        },
        "outputId": "3dfa8c2e-7148-465c-a2c9-de0aeec8b62d"
      },
      "source": [
        "df2.describe()"
      ],
      "execution_count": 12,
      "outputs": [
        {
          "output_type": "execute_result",
          "data": {
            "text/html": [
              "<div>\n",
              "<style scoped>\n",
              "    .dataframe tbody tr th:only-of-type {\n",
              "        vertical-align: middle;\n",
              "    }\n",
              "\n",
              "    .dataframe tbody tr th {\n",
              "        vertical-align: top;\n",
              "    }\n",
              "\n",
              "    .dataframe thead th {\n",
              "        text-align: right;\n",
              "    }\n",
              "</style>\n",
              "<table border=\"1\" class=\"dataframe\">\n",
              "  <thead>\n",
              "    <tr style=\"text-align: right;\">\n",
              "      <th></th>\n",
              "      <th>A</th>\n",
              "      <th>C</th>\n",
              "      <th>D</th>\n",
              "    </tr>\n",
              "  </thead>\n",
              "  <tbody>\n",
              "    <tr>\n",
              "      <th>count</th>\n",
              "      <td>4.0</td>\n",
              "      <td>4.0</td>\n",
              "      <td>4.0</td>\n",
              "    </tr>\n",
              "    <tr>\n",
              "      <th>mean</th>\n",
              "      <td>1.0</td>\n",
              "      <td>1.0</td>\n",
              "      <td>3.0</td>\n",
              "    </tr>\n",
              "    <tr>\n",
              "      <th>std</th>\n",
              "      <td>0.0</td>\n",
              "      <td>0.0</td>\n",
              "      <td>0.0</td>\n",
              "    </tr>\n",
              "    <tr>\n",
              "      <th>min</th>\n",
              "      <td>1.0</td>\n",
              "      <td>1.0</td>\n",
              "      <td>3.0</td>\n",
              "    </tr>\n",
              "    <tr>\n",
              "      <th>25%</th>\n",
              "      <td>1.0</td>\n",
              "      <td>1.0</td>\n",
              "      <td>3.0</td>\n",
              "    </tr>\n",
              "    <tr>\n",
              "      <th>50%</th>\n",
              "      <td>1.0</td>\n",
              "      <td>1.0</td>\n",
              "      <td>3.0</td>\n",
              "    </tr>\n",
              "    <tr>\n",
              "      <th>75%</th>\n",
              "      <td>1.0</td>\n",
              "      <td>1.0</td>\n",
              "      <td>3.0</td>\n",
              "    </tr>\n",
              "    <tr>\n",
              "      <th>max</th>\n",
              "      <td>1.0</td>\n",
              "      <td>1.0</td>\n",
              "      <td>3.0</td>\n",
              "    </tr>\n",
              "  </tbody>\n",
              "</table>\n",
              "</div>"
            ],
            "text/plain": [
              "         A    C    D\n",
              "count  4.0  4.0  4.0\n",
              "mean   1.0  1.0  3.0\n",
              "std    0.0  0.0  0.0\n",
              "min    1.0  1.0  3.0\n",
              "25%    1.0  1.0  3.0\n",
              "50%    1.0  1.0  3.0\n",
              "75%    1.0  1.0  3.0\n",
              "max    1.0  1.0  3.0"
            ]
          },
          "metadata": {
            "tags": []
          },
          "execution_count": 12
        }
      ]
    },
    {
      "cell_type": "code",
      "metadata": {
        "id": "XDXjKKd0AfXh",
        "colab_type": "code",
        "colab": {
          "base_uri": "https://localhost:8080/",
          "height": 233
        },
        "outputId": "610dabdc-f54b-4769-e3b6-1373b2e561ec"
      },
      "source": [
        "df"
      ],
      "execution_count": 14,
      "outputs": [
        {
          "output_type": "execute_result",
          "data": {
            "text/html": [
              "<div>\n",
              "<style scoped>\n",
              "    .dataframe tbody tr th:only-of-type {\n",
              "        vertical-align: middle;\n",
              "    }\n",
              "\n",
              "    .dataframe tbody tr th {\n",
              "        vertical-align: top;\n",
              "    }\n",
              "\n",
              "    .dataframe thead th {\n",
              "        text-align: right;\n",
              "    }\n",
              "</style>\n",
              "<table border=\"1\" class=\"dataframe\">\n",
              "  <thead>\n",
              "    <tr style=\"text-align: right;\">\n",
              "      <th></th>\n",
              "      <th>var_A</th>\n",
              "      <th>var_B</th>\n",
              "      <th>var_C</th>\n",
              "      <th>var_D</th>\n",
              "    </tr>\n",
              "  </thead>\n",
              "  <tbody>\n",
              "    <tr>\n",
              "      <th>2020-01-01</th>\n",
              "      <td>0.564805</td>\n",
              "      <td>0.324253</td>\n",
              "      <td>0.702723</td>\n",
              "      <td>-2.177462</td>\n",
              "    </tr>\n",
              "    <tr>\n",
              "      <th>2020-01-02</th>\n",
              "      <td>-0.558784</td>\n",
              "      <td>0.528558</td>\n",
              "      <td>0.206865</td>\n",
              "      <td>-1.074331</td>\n",
              "    </tr>\n",
              "    <tr>\n",
              "      <th>2020-01-03</th>\n",
              "      <td>-0.568501</td>\n",
              "      <td>-1.684267</td>\n",
              "      <td>-1.400751</td>\n",
              "      <td>1.463461</td>\n",
              "    </tr>\n",
              "    <tr>\n",
              "      <th>2020-01-04</th>\n",
              "      <td>1.026650</td>\n",
              "      <td>-0.946133</td>\n",
              "      <td>1.016080</td>\n",
              "      <td>0.839630</td>\n",
              "    </tr>\n",
              "    <tr>\n",
              "      <th>2020-01-05</th>\n",
              "      <td>-0.143933</td>\n",
              "      <td>0.145484</td>\n",
              "      <td>0.074185</td>\n",
              "      <td>0.384581</td>\n",
              "    </tr>\n",
              "    <tr>\n",
              "      <th>2020-01-06</th>\n",
              "      <td>-0.262279</td>\n",
              "      <td>-0.516622</td>\n",
              "      <td>0.161805</td>\n",
              "      <td>-0.279221</td>\n",
              "    </tr>\n",
              "  </tbody>\n",
              "</table>\n",
              "</div>"
            ],
            "text/plain": [
              "               var_A     var_B     var_C     var_D\n",
              "2020-01-01  0.564805  0.324253  0.702723 -2.177462\n",
              "2020-01-02 -0.558784  0.528558  0.206865 -1.074331\n",
              "2020-01-03 -0.568501 -1.684267 -1.400751  1.463461\n",
              "2020-01-04  1.026650 -0.946133  1.016080  0.839630\n",
              "2020-01-05 -0.143933  0.145484  0.074185  0.384581\n",
              "2020-01-06 -0.262279 -0.516622  0.161805 -0.279221"
            ]
          },
          "metadata": {
            "tags": []
          },
          "execution_count": 14
        }
      ]
    },
    {
      "cell_type": "code",
      "metadata": {
        "id": "pLswkPgxAiEX",
        "colab_type": "code",
        "colab": {}
      },
      "source": [
        "df1 = df.reindex(index=datas[0:4],columns=list(df.columns)+ ['var_E'])"
      ],
      "execution_count": 16,
      "outputs": []
    },
    {
      "cell_type": "code",
      "metadata": {
        "id": "PDaNKRR9BHn9",
        "colab_type": "code",
        "colab": {
          "base_uri": "https://localhost:8080/",
          "height": 171
        },
        "outputId": "a346c603-967b-4f0d-f44b-5a9ecf6cddf8"
      },
      "source": [
        "df1"
      ],
      "execution_count": 17,
      "outputs": [
        {
          "output_type": "execute_result",
          "data": {
            "text/html": [
              "<div>\n",
              "<style scoped>\n",
              "    .dataframe tbody tr th:only-of-type {\n",
              "        vertical-align: middle;\n",
              "    }\n",
              "\n",
              "    .dataframe tbody tr th {\n",
              "        vertical-align: top;\n",
              "    }\n",
              "\n",
              "    .dataframe thead th {\n",
              "        text-align: right;\n",
              "    }\n",
              "</style>\n",
              "<table border=\"1\" class=\"dataframe\">\n",
              "  <thead>\n",
              "    <tr style=\"text-align: right;\">\n",
              "      <th></th>\n",
              "      <th>var_A</th>\n",
              "      <th>var_B</th>\n",
              "      <th>var_C</th>\n",
              "      <th>var_D</th>\n",
              "      <th>var_E</th>\n",
              "    </tr>\n",
              "  </thead>\n",
              "  <tbody>\n",
              "    <tr>\n",
              "      <th>2020-01-01</th>\n",
              "      <td>0.564805</td>\n",
              "      <td>0.324253</td>\n",
              "      <td>0.702723</td>\n",
              "      <td>-2.177462</td>\n",
              "      <td>NaN</td>\n",
              "    </tr>\n",
              "    <tr>\n",
              "      <th>2020-01-02</th>\n",
              "      <td>-0.558784</td>\n",
              "      <td>0.528558</td>\n",
              "      <td>0.206865</td>\n",
              "      <td>-1.074331</td>\n",
              "      <td>NaN</td>\n",
              "    </tr>\n",
              "    <tr>\n",
              "      <th>2020-01-03</th>\n",
              "      <td>-0.568501</td>\n",
              "      <td>-1.684267</td>\n",
              "      <td>-1.400751</td>\n",
              "      <td>1.463461</td>\n",
              "      <td>NaN</td>\n",
              "    </tr>\n",
              "    <tr>\n",
              "      <th>2020-01-04</th>\n",
              "      <td>1.026650</td>\n",
              "      <td>-0.946133</td>\n",
              "      <td>1.016080</td>\n",
              "      <td>0.839630</td>\n",
              "      <td>NaN</td>\n",
              "    </tr>\n",
              "  </tbody>\n",
              "</table>\n",
              "</div>"
            ],
            "text/plain": [
              "               var_A     var_B     var_C     var_D  var_E\n",
              "2020-01-01  0.564805  0.324253  0.702723 -2.177462    NaN\n",
              "2020-01-02 -0.558784  0.528558  0.206865 -1.074331    NaN\n",
              "2020-01-03 -0.568501 -1.684267 -1.400751  1.463461    NaN\n",
              "2020-01-04  1.026650 -0.946133  1.016080  0.839630    NaN"
            ]
          },
          "metadata": {
            "tags": []
          },
          "execution_count": 17
        }
      ]
    },
    {
      "cell_type": "code",
      "metadata": {
        "id": "IlLGvviaBLFA",
        "colab_type": "code",
        "colab": {}
      },
      "source": [
        "df1.loc[datas[0]:datas[1],'var_E']=77"
      ],
      "execution_count": 18,
      "outputs": []
    },
    {
      "cell_type": "code",
      "metadata": {
        "id": "gR5kLt0WB2Np",
        "colab_type": "code",
        "colab": {
          "base_uri": "https://localhost:8080/",
          "height": 171
        },
        "outputId": "77bc832e-7871-4eb2-9ec1-2578787ebdbf"
      },
      "source": [
        "df1"
      ],
      "execution_count": 19,
      "outputs": [
        {
          "output_type": "execute_result",
          "data": {
            "text/html": [
              "<div>\n",
              "<style scoped>\n",
              "    .dataframe tbody tr th:only-of-type {\n",
              "        vertical-align: middle;\n",
              "    }\n",
              "\n",
              "    .dataframe tbody tr th {\n",
              "        vertical-align: top;\n",
              "    }\n",
              "\n",
              "    .dataframe thead th {\n",
              "        text-align: right;\n",
              "    }\n",
              "</style>\n",
              "<table border=\"1\" class=\"dataframe\">\n",
              "  <thead>\n",
              "    <tr style=\"text-align: right;\">\n",
              "      <th></th>\n",
              "      <th>var_A</th>\n",
              "      <th>var_B</th>\n",
              "      <th>var_C</th>\n",
              "      <th>var_D</th>\n",
              "      <th>var_E</th>\n",
              "    </tr>\n",
              "  </thead>\n",
              "  <tbody>\n",
              "    <tr>\n",
              "      <th>2020-01-01</th>\n",
              "      <td>0.564805</td>\n",
              "      <td>0.324253</td>\n",
              "      <td>0.702723</td>\n",
              "      <td>-2.177462</td>\n",
              "      <td>77.0</td>\n",
              "    </tr>\n",
              "    <tr>\n",
              "      <th>2020-01-02</th>\n",
              "      <td>-0.558784</td>\n",
              "      <td>0.528558</td>\n",
              "      <td>0.206865</td>\n",
              "      <td>-1.074331</td>\n",
              "      <td>77.0</td>\n",
              "    </tr>\n",
              "    <tr>\n",
              "      <th>2020-01-03</th>\n",
              "      <td>-0.568501</td>\n",
              "      <td>-1.684267</td>\n",
              "      <td>-1.400751</td>\n",
              "      <td>1.463461</td>\n",
              "      <td>NaN</td>\n",
              "    </tr>\n",
              "    <tr>\n",
              "      <th>2020-01-04</th>\n",
              "      <td>1.026650</td>\n",
              "      <td>-0.946133</td>\n",
              "      <td>1.016080</td>\n",
              "      <td>0.839630</td>\n",
              "      <td>NaN</td>\n",
              "    </tr>\n",
              "  </tbody>\n",
              "</table>\n",
              "</div>"
            ],
            "text/plain": [
              "               var_A     var_B     var_C     var_D  var_E\n",
              "2020-01-01  0.564805  0.324253  0.702723 -2.177462   77.0\n",
              "2020-01-02 -0.558784  0.528558  0.206865 -1.074331   77.0\n",
              "2020-01-03 -0.568501 -1.684267 -1.400751  1.463461    NaN\n",
              "2020-01-04  1.026650 -0.946133  1.016080  0.839630    NaN"
            ]
          },
          "metadata": {
            "tags": []
          },
          "execution_count": 19
        }
      ]
    },
    {
      "cell_type": "code",
      "metadata": {
        "id": "zxtB__QFB906",
        "colab_type": "code",
        "colab": {
          "base_uri": "https://localhost:8080/",
          "height": 121
        },
        "outputId": "50ad717f-9bee-4584-b979-b2f5ef70337d"
      },
      "source": [
        "df1.dtypes"
      ],
      "execution_count": 20,
      "outputs": [
        {
          "output_type": "execute_result",
          "data": {
            "text/plain": [
              "var_A    float64\n",
              "var_B    float64\n",
              "var_C    float64\n",
              "var_D    float64\n",
              "var_E    float64\n",
              "dtype: object"
            ]
          },
          "metadata": {
            "tags": []
          },
          "execution_count": 20
        }
      ]
    },
    {
      "cell_type": "code",
      "metadata": {
        "id": "0nw-2lBtCN68",
        "colab_type": "code",
        "colab": {
          "base_uri": "https://localhost:8080/",
          "height": 294
        },
        "outputId": "76e1a2e7-8a0f-4a0b-de76-9420a891d1d0"
      },
      "source": [
        "df1.describe()"
      ],
      "execution_count": 21,
      "outputs": [
        {
          "output_type": "execute_result",
          "data": {
            "text/html": [
              "<div>\n",
              "<style scoped>\n",
              "    .dataframe tbody tr th:only-of-type {\n",
              "        vertical-align: middle;\n",
              "    }\n",
              "\n",
              "    .dataframe tbody tr th {\n",
              "        vertical-align: top;\n",
              "    }\n",
              "\n",
              "    .dataframe thead th {\n",
              "        text-align: right;\n",
              "    }\n",
              "</style>\n",
              "<table border=\"1\" class=\"dataframe\">\n",
              "  <thead>\n",
              "    <tr style=\"text-align: right;\">\n",
              "      <th></th>\n",
              "      <th>var_A</th>\n",
              "      <th>var_B</th>\n",
              "      <th>var_C</th>\n",
              "      <th>var_D</th>\n",
              "      <th>var_E</th>\n",
              "    </tr>\n",
              "  </thead>\n",
              "  <tbody>\n",
              "    <tr>\n",
              "      <th>count</th>\n",
              "      <td>4.000000</td>\n",
              "      <td>4.000000</td>\n",
              "      <td>4.000000</td>\n",
              "      <td>4.000000</td>\n",
              "      <td>2.0</td>\n",
              "    </tr>\n",
              "    <tr>\n",
              "      <th>mean</th>\n",
              "      <td>0.116043</td>\n",
              "      <td>-0.444397</td>\n",
              "      <td>0.131229</td>\n",
              "      <td>-0.237176</td>\n",
              "      <td>77.0</td>\n",
              "    </tr>\n",
              "    <tr>\n",
              "      <th>std</th>\n",
              "      <td>0.807173</td>\n",
              "      <td>1.053008</td>\n",
              "      <td>1.074283</td>\n",
              "      <td>1.684955</td>\n",
              "      <td>0.0</td>\n",
              "    </tr>\n",
              "    <tr>\n",
              "      <th>min</th>\n",
              "      <td>-0.568501</td>\n",
              "      <td>-1.684267</td>\n",
              "      <td>-1.400751</td>\n",
              "      <td>-2.177462</td>\n",
              "      <td>77.0</td>\n",
              "    </tr>\n",
              "    <tr>\n",
              "      <th>25%</th>\n",
              "      <td>-0.561213</td>\n",
              "      <td>-1.130667</td>\n",
              "      <td>-0.195039</td>\n",
              "      <td>-1.350114</td>\n",
              "      <td>77.0</td>\n",
              "    </tr>\n",
              "    <tr>\n",
              "      <th>50%</th>\n",
              "      <td>0.003011</td>\n",
              "      <td>-0.310940</td>\n",
              "      <td>0.454794</td>\n",
              "      <td>-0.117351</td>\n",
              "      <td>77.0</td>\n",
              "    </tr>\n",
              "    <tr>\n",
              "      <th>75%</th>\n",
              "      <td>0.680266</td>\n",
              "      <td>0.375329</td>\n",
              "      <td>0.781062</td>\n",
              "      <td>0.995587</td>\n",
              "      <td>77.0</td>\n",
              "    </tr>\n",
              "    <tr>\n",
              "      <th>max</th>\n",
              "      <td>1.026650</td>\n",
              "      <td>0.528558</td>\n",
              "      <td>1.016080</td>\n",
              "      <td>1.463461</td>\n",
              "      <td>77.0</td>\n",
              "    </tr>\n",
              "  </tbody>\n",
              "</table>\n",
              "</div>"
            ],
            "text/plain": [
              "          var_A     var_B     var_C     var_D  var_E\n",
              "count  4.000000  4.000000  4.000000  4.000000    2.0\n",
              "mean   0.116043 -0.444397  0.131229 -0.237176   77.0\n",
              "std    0.807173  1.053008  1.074283  1.684955    0.0\n",
              "min   -0.568501 -1.684267 -1.400751 -2.177462   77.0\n",
              "25%   -0.561213 -1.130667 -0.195039 -1.350114   77.0\n",
              "50%    0.003011 -0.310940  0.454794 -0.117351   77.0\n",
              "75%    0.680266  0.375329  0.781062  0.995587   77.0\n",
              "max    1.026650  0.528558  1.016080  1.463461   77.0"
            ]
          },
          "metadata": {
            "tags": []
          },
          "execution_count": 21
        }
      ]
    }
  ]
}