{
  "nbformat": 4,
  "nbformat_minor": 0,
  "metadata": {
    "colab": {
      "name": "reshaping_dados.ipynb",
      "provenance": [],
      "collapsed_sections": [],
      "authorship_tag": "ABX9TyOaz2LFDnuEIo6W9nRl7464",
      "include_colab_link": true
    },
    "kernelspec": {
      "name": "python3",
      "display_name": "Python 3"
    }
  },
  "cells": [
    {
      "cell_type": "markdown",
      "metadata": {
        "id": "view-in-github",
        "colab_type": "text"
      },
      "source": [
        "<a href=\"https://colab.research.google.com/github/MagdaSousa/Estudo_Pandas/blob/master/reshaping_dados.ipynb\" target=\"_parent\"><img src=\"https://colab.research.google.com/assets/colab-badge.svg\" alt=\"Open In Colab\"/></a>"
      ]
    },
    {
      "cell_type": "code",
      "metadata": {
        "id": "frqvhYDC5bQB",
        "colab_type": "code",
        "colab": {}
      },
      "source": [
        "import pandas as pd\n",
        "import numpy as np"
      ],
      "execution_count": 1,
      "outputs": []
    },
    {
      "cell_type": "code",
      "metadata": {
        "id": "osgxhbyX6Q9v",
        "colab_type": "code",
        "colab": {
          "base_uri": "https://localhost:8080/",
          "height": 233
        },
        "outputId": "ca35a6d6-230b-48af-8d0e-43f67f9b8dad"
      },
      "source": [
        "datas = pd.date_range('20200101',periods=6)\n",
        "df = pd.DataFrame(np.random.randn(6,4),index =datas,columns=['VAR_A','VAR_B','VAR_C','VAR_D'])\n",
        "df"
      ],
      "execution_count": 4,
      "outputs": [
        {
          "output_type": "execute_result",
          "data": {
            "text/html": [
              "<div>\n",
              "<style scoped>\n",
              "    .dataframe tbody tr th:only-of-type {\n",
              "        vertical-align: middle;\n",
              "    }\n",
              "\n",
              "    .dataframe tbody tr th {\n",
              "        vertical-align: top;\n",
              "    }\n",
              "\n",
              "    .dataframe thead th {\n",
              "        text-align: right;\n",
              "    }\n",
              "</style>\n",
              "<table border=\"1\" class=\"dataframe\">\n",
              "  <thead>\n",
              "    <tr style=\"text-align: right;\">\n",
              "      <th></th>\n",
              "      <th>VAR_A</th>\n",
              "      <th>VAR_B</th>\n",
              "      <th>VAR_C</th>\n",
              "      <th>VAR_D</th>\n",
              "    </tr>\n",
              "  </thead>\n",
              "  <tbody>\n",
              "    <tr>\n",
              "      <th>2020-01-01</th>\n",
              "      <td>2.027450</td>\n",
              "      <td>-1.682049</td>\n",
              "      <td>1.082229</td>\n",
              "      <td>1.747325</td>\n",
              "    </tr>\n",
              "    <tr>\n",
              "      <th>2020-01-02</th>\n",
              "      <td>0.063409</td>\n",
              "      <td>0.875837</td>\n",
              "      <td>-0.404323</td>\n",
              "      <td>-2.697740</td>\n",
              "    </tr>\n",
              "    <tr>\n",
              "      <th>2020-01-03</th>\n",
              "      <td>-0.701149</td>\n",
              "      <td>-1.087389</td>\n",
              "      <td>-0.658956</td>\n",
              "      <td>1.505613</td>\n",
              "    </tr>\n",
              "    <tr>\n",
              "      <th>2020-01-04</th>\n",
              "      <td>2.224733</td>\n",
              "      <td>-0.290136</td>\n",
              "      <td>0.999418</td>\n",
              "      <td>-1.414900</td>\n",
              "    </tr>\n",
              "    <tr>\n",
              "      <th>2020-01-05</th>\n",
              "      <td>-0.322741</td>\n",
              "      <td>-0.387439</td>\n",
              "      <td>1.105309</td>\n",
              "      <td>0.643003</td>\n",
              "    </tr>\n",
              "    <tr>\n",
              "      <th>2020-01-06</th>\n",
              "      <td>0.033751</td>\n",
              "      <td>-2.424523</td>\n",
              "      <td>0.518490</td>\n",
              "      <td>0.371403</td>\n",
              "    </tr>\n",
              "  </tbody>\n",
              "</table>\n",
              "</div>"
            ],
            "text/plain": [
              "               VAR_A     VAR_B     VAR_C     VAR_D\n",
              "2020-01-01  2.027450 -1.682049  1.082229  1.747325\n",
              "2020-01-02  0.063409  0.875837 -0.404323 -2.697740\n",
              "2020-01-03 -0.701149 -1.087389 -0.658956  1.505613\n",
              "2020-01-04  2.224733 -0.290136  0.999418 -1.414900\n",
              "2020-01-05 -0.322741 -0.387439  1.105309  0.643003\n",
              "2020-01-06  0.033751 -2.424523  0.518490  0.371403"
            ]
          },
          "metadata": {
            "tags": []
          },
          "execution_count": 4
        }
      ]
    },
    {
      "cell_type": "code",
      "metadata": {
        "id": "de_OhMYi79Bj",
        "colab_type": "code",
        "colab": {}
      },
      "source": [
        "dft = df.T\n",
        "# as colunas viram linhas e as datas colunas"
      ],
      "execution_count": 6,
      "outputs": []
    },
    {
      "cell_type": "code",
      "metadata": {
        "id": "M9eg5Oth8vEC",
        "colab_type": "code",
        "colab": {
          "base_uri": "https://localhost:8080/",
          "height": 171
        },
        "outputId": "20340a02-ab5d-4113-a633-fc89b64a2956"
      },
      "source": [
        "dft"
      ],
      "execution_count": 7,
      "outputs": [
        {
          "output_type": "execute_result",
          "data": {
            "text/html": [
              "<div>\n",
              "<style scoped>\n",
              "    .dataframe tbody tr th:only-of-type {\n",
              "        vertical-align: middle;\n",
              "    }\n",
              "\n",
              "    .dataframe tbody tr th {\n",
              "        vertical-align: top;\n",
              "    }\n",
              "\n",
              "    .dataframe thead th {\n",
              "        text-align: right;\n",
              "    }\n",
              "</style>\n",
              "<table border=\"1\" class=\"dataframe\">\n",
              "  <thead>\n",
              "    <tr style=\"text-align: right;\">\n",
              "      <th></th>\n",
              "      <th>2020-01-01</th>\n",
              "      <th>2020-01-02</th>\n",
              "      <th>2020-01-03</th>\n",
              "      <th>2020-01-04</th>\n",
              "      <th>2020-01-05</th>\n",
              "      <th>2020-01-06</th>\n",
              "    </tr>\n",
              "  </thead>\n",
              "  <tbody>\n",
              "    <tr>\n",
              "      <th>VAR_A</th>\n",
              "      <td>2.027450</td>\n",
              "      <td>0.063409</td>\n",
              "      <td>-0.701149</td>\n",
              "      <td>2.224733</td>\n",
              "      <td>-0.322741</td>\n",
              "      <td>0.033751</td>\n",
              "    </tr>\n",
              "    <tr>\n",
              "      <th>VAR_B</th>\n",
              "      <td>-1.682049</td>\n",
              "      <td>0.875837</td>\n",
              "      <td>-1.087389</td>\n",
              "      <td>-0.290136</td>\n",
              "      <td>-0.387439</td>\n",
              "      <td>-2.424523</td>\n",
              "    </tr>\n",
              "    <tr>\n",
              "      <th>VAR_C</th>\n",
              "      <td>1.082229</td>\n",
              "      <td>-0.404323</td>\n",
              "      <td>-0.658956</td>\n",
              "      <td>0.999418</td>\n",
              "      <td>1.105309</td>\n",
              "      <td>0.518490</td>\n",
              "    </tr>\n",
              "    <tr>\n",
              "      <th>VAR_D</th>\n",
              "      <td>1.747325</td>\n",
              "      <td>-2.697740</td>\n",
              "      <td>1.505613</td>\n",
              "      <td>-1.414900</td>\n",
              "      <td>0.643003</td>\n",
              "      <td>0.371403</td>\n",
              "    </tr>\n",
              "  </tbody>\n",
              "</table>\n",
              "</div>"
            ],
            "text/plain": [
              "       2020-01-01  2020-01-02  2020-01-03  2020-01-04  2020-01-05  2020-01-06\n",
              "VAR_A    2.027450    0.063409   -0.701149    2.224733   -0.322741    0.033751\n",
              "VAR_B   -1.682049    0.875837   -1.087389   -0.290136   -0.387439   -2.424523\n",
              "VAR_C    1.082229   -0.404323   -0.658956    0.999418    1.105309    0.518490\n",
              "VAR_D    1.747325   -2.697740    1.505613   -1.414900    0.643003    0.371403"
            ]
          },
          "metadata": {
            "tags": []
          },
          "execution_count": 7
        }
      ]
    },
    {
      "cell_type": "code",
      "metadata": {
        "id": "rBBSlZZc8500",
        "colab_type": "code",
        "colab": {
          "base_uri": "https://localhost:8080/",
          "height": 35
        },
        "outputId": "b6335cfd-13d4-49a3-9a99-c24633671b85"
      },
      "source": [
        "df.shape\n",
        "# atributo shape"
      ],
      "execution_count": 8,
      "outputs": [
        {
          "output_type": "execute_result",
          "data": {
            "text/plain": [
              "(6, 4)"
            ]
          },
          "metadata": {
            "tags": []
          },
          "execution_count": 8
        }
      ]
    },
    {
      "cell_type": "code",
      "metadata": {
        "id": "X-vyMqDf-I-b",
        "colab_type": "code",
        "colab": {
          "base_uri": "https://localhost:8080/",
          "height": 35
        },
        "outputId": "16f127e2-53ef-401f-aaf2-9ae0af4af6e4"
      },
      "source": [
        "dft.shape"
      ],
      "execution_count": 9,
      "outputs": [
        {
          "output_type": "execute_result",
          "data": {
            "text/plain": [
              "(4, 6)"
            ]
          },
          "metadata": {
            "tags": []
          },
          "execution_count": 9
        }
      ]
    },
    {
      "cell_type": "code",
      "metadata": {
        "id": "VVKwwWh8-juv",
        "colab_type": "code",
        "colab": {
          "base_uri": "https://localhost:8080/",
          "height": 156
        },
        "outputId": "e5bf29d4-0b43-4746-d4a9-98a1014a0bf0"
      },
      "source": [
        "# Extrair somente os valores centrais, sem colunas e linhas\n",
        "dft.values\n",
        "# values atributo do dataframe"
      ],
      "execution_count": 10,
      "outputs": [
        {
          "output_type": "execute_result",
          "data": {
            "text/plain": [
              "array([[ 2.02745025,  0.06340917, -0.70114866,  2.22473299, -0.32274109,\n",
              "         0.03375065],\n",
              "       [-1.68204948,  0.87583722, -1.08738935, -0.29013584, -0.38743906,\n",
              "        -2.42452311],\n",
              "       [ 1.08222853, -0.40432307, -0.65895598,  0.99941803,  1.10530867,\n",
              "         0.51848983],\n",
              "       [ 1.74732537, -2.69773965,  1.50561254, -1.41489967,  0.64300311,\n",
              "         0.37140336]])"
            ]
          },
          "metadata": {
            "tags": []
          },
          "execution_count": 10
        }
      ]
    },
    {
      "cell_type": "code",
      "metadata": {
        "id": "CpBg9gDF_iLu",
        "colab_type": "code",
        "colab": {
          "base_uri": "https://localhost:8080/",
          "height": 35
        },
        "outputId": "1f7dcfa9-5c31-4a10-f380-e018d20f63af"
      },
      "source": [
        "#obter o tamanho no caso é 24, devido a multiplicação de 4 linhas por 6 colunas\n",
        "np.size(dft.values)\n"
      ],
      "execution_count": 11,
      "outputs": [
        {
          "output_type": "execute_result",
          "data": {
            "text/plain": [
              "24"
            ]
          },
          "metadata": {
            "tags": []
          },
          "execution_count": 11
        }
      ]
    },
    {
      "cell_type": "code",
      "metadata": {
        "id": "kgKo7x8rAVaE",
        "colab_type": "code",
        "colab": {}
      },
      "source": [
        "# reorganizando o dataframe\n",
        "v =dft.values\n"
      ],
      "execution_count": 12,
      "outputs": []
    },
    {
      "cell_type": "code",
      "metadata": {
        "id": "hMRCOvgKAfLJ",
        "colab_type": "code",
        "colab": {
          "base_uri": "https://localhost:8080/",
          "height": 121
        },
        "outputId": "ddf80ea8-4f89-425c-cbfe-9d764e53984c"
      },
      "source": [
        "v.reshape((2,12))\n",
        "#Reorganização, e de 4 linhas e 6 colunas, ficou com 2 linhas e 12 colunas"
      ],
      "execution_count": 13,
      "outputs": [
        {
          "output_type": "execute_result",
          "data": {
            "text/plain": [
              "array([[ 2.02745025,  0.06340917, -0.70114866,  2.22473299, -0.32274109,\n",
              "         0.03375065, -1.68204948,  0.87583722, -1.08738935, -0.29013584,\n",
              "        -0.38743906, -2.42452311],\n",
              "       [ 1.08222853, -0.40432307, -0.65895598,  0.99941803,  1.10530867,\n",
              "         0.51848983,  1.74732537, -2.69773965,  1.50561254, -1.41489967,\n",
              "         0.64300311,  0.37140336]])"
            ]
          },
          "metadata": {
            "tags": []
          },
          "execution_count": 13
        }
      ]
    },
    {
      "cell_type": "markdown",
      "metadata": {
        "id": "a20Wga8oBwKY",
        "colab_type": "text"
      },
      "source": [
        "Observação o reshaping só poderá ser realizado respeitando a quantidade de itens máxima que possui o dataframe, ou seja se este tem tamanho 24, pode ser organizado de qualquer maneira dentro deste valor, como foi feito anteriormente 2* 12 =24, caso seja feita em uma quantidade superior ou inferior ele quebra..."
      ]
    },
    {
      "cell_type": "code",
      "metadata": {
        "id": "P-MRrqjtCSvK",
        "colab_type": "code",
        "colab": {
          "base_uri": "https://localhost:8080/",
          "height": 166
        },
        "outputId": "d6395023-a4ff-4ea1-c092-dc04c4267666"
      },
      "source": [
        "v.reshape((3,12))"
      ],
      "execution_count": 14,
      "outputs": [
        {
          "output_type": "error",
          "ename": "ValueError",
          "evalue": "ignored",
          "traceback": [
            "\u001b[0;31m---------------------------------------------------------------------------\u001b[0m",
            "\u001b[0;31mValueError\u001b[0m                                Traceback (most recent call last)",
            "\u001b[0;32m<ipython-input-14-a80c3c55fbc0>\u001b[0m in \u001b[0;36m<module>\u001b[0;34m()\u001b[0m\n\u001b[0;32m----> 1\u001b[0;31m \u001b[0mv\u001b[0m\u001b[0;34m.\u001b[0m\u001b[0mreshape\u001b[0m\u001b[0;34m(\u001b[0m\u001b[0;34m(\u001b[0m\u001b[0;36m3\u001b[0m\u001b[0;34m,\u001b[0m\u001b[0;36m12\u001b[0m\u001b[0;34m)\u001b[0m\u001b[0;34m)\u001b[0m\u001b[0;34m\u001b[0m\u001b[0;34m\u001b[0m\u001b[0m\n\u001b[0m",
            "\u001b[0;31mValueError\u001b[0m: cannot reshape array of size 24 into shape (3,12)"
          ]
        }
      ]
    },
    {
      "cell_type": "code",
      "metadata": {
        "id": "yQhGYxB4CXCC",
        "colab_type": "code",
        "colab": {
          "base_uri": "https://localhost:8080/",
          "height": 166
        },
        "outputId": "d878be72-e26f-4ea6-a2a6-3ef5821bc41d"
      },
      "source": [
        "v.reshape((1,12))"
      ],
      "execution_count": 15,
      "outputs": [
        {
          "output_type": "error",
          "ename": "ValueError",
          "evalue": "ignored",
          "traceback": [
            "\u001b[0;31m---------------------------------------------------------------------------\u001b[0m",
            "\u001b[0;31mValueError\u001b[0m                                Traceback (most recent call last)",
            "\u001b[0;32m<ipython-input-15-6a9ff372d6f3>\u001b[0m in \u001b[0;36m<module>\u001b[0;34m()\u001b[0m\n\u001b[0;32m----> 1\u001b[0;31m \u001b[0mv\u001b[0m\u001b[0;34m.\u001b[0m\u001b[0mreshape\u001b[0m\u001b[0;34m(\u001b[0m\u001b[0;34m(\u001b[0m\u001b[0;36m1\u001b[0m\u001b[0;34m,\u001b[0m\u001b[0;36m12\u001b[0m\u001b[0;34m)\u001b[0m\u001b[0;34m)\u001b[0m\u001b[0;34m\u001b[0m\u001b[0;34m\u001b[0m\u001b[0m\n\u001b[0m",
            "\u001b[0;31mValueError\u001b[0m: cannot reshape array of size 24 into shape (1,12)"
          ]
        }
      ]
    },
    {
      "cell_type": "code",
      "metadata": {
        "id": "iC5WaQ0cCXI-",
        "colab_type": "code",
        "colab": {}
      },
      "source": [
        ""
      ],
      "execution_count": null,
      "outputs": []
    }
  ]
}